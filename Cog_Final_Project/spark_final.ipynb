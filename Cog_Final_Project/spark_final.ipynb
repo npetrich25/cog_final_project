{
  "nbformat": 4,
  "nbformat_minor": 0,
  "metadata": {
    "colab": {
      "name": "spark_final.ipynb",
      "provenance": [],
      "collapsed_sections": []
    },
    "kernelspec": {
      "display_name": "Python 3",
      "language": "python",
      "name": "python3"
    },
    "language_info": {
      "codemirror_mode": {
        "name": "ipython",
        "version": 3
      },
      "file_extension": ".py",
      "mimetype": "text/x-python",
      "name": "python",
      "nbconvert_exporter": "python",
      "pygments_lexer": "ipython3",
      "version": "3.7.4"
    }
  },
  "cells": [
    {
      "cell_type": "code",
      "metadata": {
        "id": "HIhTHl2nekV3"
      },
      "source": [
        "import os\n",
        "import sys"
      ],
      "execution_count": null,
      "outputs": []
    },
    {
      "cell_type": "code",
      "metadata": {
        "id": "Y9WVYuIxekV6"
      },
      "source": [
        "# Theodore's paths (do not run this cell)\n",
        "os.environ[\"PYLIB\"] = os.environ[\"SPARK_HOME\"] + \"/python/lib\"\n",
        "#os.environ['PYSPARK_SUBMIT_ARGS'] = f'--packages org.apache.spark:spark-sql-kafka-0-10_2.11:2.4.1,org.apache.spark:spark-streaming-kafka-0-8_2.11:2.2.0 --jars spark-sql-kafka-0-10_2.11-2.4.1.jar pyspark-shell'\n",
        "sys.path.insert(0, os.environ[\"PYLIB\"] +\"/py4j-0.10.7-src.zip\")\n",
        "sys.path.insert(0, os.environ[\"PYLIB\"] +\"/pyspark.zip\")\n",
        "os.environ['PYSPARK_SUBMIT_ARGS'] = '--packages org.apache.spark:spark-streaming-kafka-0-8_2.11:2.4.4 pyspark-shell'"
      ],
      "execution_count": null,
      "outputs": []
    },
    {
      "cell_type": "code",
      "metadata": {
        "id": "CDlHETL1X7p_"
      },
      "source": [
        "\n",
        "os.environ[\"SPARK_HOME\"]=\"/home/user1/trainig_material/spark-2.4.4-bin-hadoop2.7\"\n",
        "#os.environ[\"SPARK_HOME\"]='/usr/local/bin/spark-2.4.4-bin-hadoop2.6'\n",
        "os.environ[\"PYLIB\"] = os.environ[\"SPARK_HOME\"] + \"/python/lib\"\n",
        "#os.environ[\"HIVE_HOME\"] =\"/usr/lib/hive\"\n",
        "#os.environ[\"PATH\"] =os.environ[\"HIVE_HOME\"]+\"/bin\"\n",
        "#os.environ[\"JAVA_HOME\"]=\"/usr/java/jdk1.7.0_67-cloudera\"\n",
        "# In below two lines, use /usr/bin/python2.7 if you want to use Python 2\n",
        "#os.environ[\"PYSPARK_PYTHON\"] = \"/home/cloudera/anaconda3/bin/python3.7\" \n",
        "#os.environ[\"PYSPARK_DRIVER_PYTHON\"] = \"/home/cloudera/anaconda3/bin/python3.7\"\n",
        "sys.path.insert(0, os.environ[\"PYLIB\"] +\"/py4j-0.10.7-src.zip\")\n",
        "sys.path.insert(0, os.environ[\"PYLIB\"] +\"/pyspark.zip\")\n",
        "\n",
        "\n",
        "os.environ['PYSPARK_SUBMIT_ARGS'] = '--packages org.apache.spark:spark-streaming-kafka-0-8_2.11:2.4.4 pyspark-shell'"
      ],
      "execution_count": null,
      "outputs": []
    },
    {
      "cell_type": "code",
      "metadata": {
        "id": "LfoJC_fvekV8",
        "outputId": "e2cf8a6c-25f3-4de9-e9c0-2b02f6b7b401"
      },
      "source": [
        "\n",
        "!pyspark --version"
      ],
      "execution_count": null,
      "outputs": [
        {
          "output_type": "stream",
          "text": [
            "Welcome to\n",
            "      ____              __\n",
            "     / __/__  ___ _____/ /__\n",
            "    _\\ \\/ _ \\/ _ `/ __/  '_/\n",
            "   /___/ .__/\\_,_/_/ /_/\\_\\   version 2.4.4\n",
            "      /_/\n",
            "                        \n",
            "Using Scala version 2.11.12, OpenJDK 64-Bit Server VM, 1.8.0_292\n",
            "Branch \n",
            "Compiled by user  on 2019-08-27T21:21:38Z\n",
            "Revision \n",
            "Url \n",
            "Type --help for more information.\n"
          ],
          "name": "stdout"
        }
      ]
    },
    {
      "cell_type": "code",
      "metadata": {
        "id": "aFQofpu7X7qB"
      },
      "source": [
        "# Spark\n",
        "from pyspark import SparkContext, SparkConf\n",
        "# Spark Streaming\n",
        "from pyspark.streaming import StreamingContext\n",
        "# Kafka\n",
        "#from pyspark.streaming.kafka import KafkaUtils\n",
        "# json parsing\n",
        "from pyspark.sql import Row,SQLContext\n",
        "from pyspark import SparkConf,SparkContext\n",
        "from pyspark.sql import SQLContext,HiveContext"
      ],
      "execution_count": null,
      "outputs": []
    },
    {
      "cell_type": "code",
      "metadata": {
        "id": "JiYoHyp8X7qC"
      },
      "source": [
        ""
      ],
      "execution_count": null,
      "outputs": []
    },
    {
      "cell_type": "code",
      "metadata": {
        "id": "houVHeHYX7qC"
      },
      "source": [
        "sc = SparkContext(\"local\", \"twitter\")\n",
        "sc.setLogLevel(\"WARN\")"
      ],
      "execution_count": null,
      "outputs": []
    },
    {
      "cell_type": "code",
      "metadata": {
        "id": "g0wK5WUgX7qC"
      },
      "source": [
        "sc.stop()"
      ],
      "execution_count": null,
      "outputs": []
    },
    {
      "cell_type": "code",
      "metadata": {
        "id": "B87w91i2X7qD"
      },
      "source": [
        "from pyspark.sql import SparkSession\n",
        "spark = SparkSession.builder.enableHiveSupport().getOrCreate()"
      ],
      "execution_count": null,
      "outputs": []
    },
    {
      "cell_type": "code",
      "metadata": {
        "id": "4KKNcpYpX7qD",
        "outputId": "2c00e362-dbd5-4dbb-f57e-64048748223f"
      },
      "source": [
        "spark.sql(\"show databases\").show()"
      ],
      "execution_count": null,
      "outputs": [
        {
          "output_type": "stream",
          "text": [
            "+------------+\n",
            "|databaseName|\n",
            "+------------+\n",
            "|     default|\n",
            "|        test|\n",
            "+------------+\n",
            "\n"
          ],
          "name": "stdout"
        }
      ]
    },
    {
      "cell_type": "code",
      "metadata": {
        "id": "AjlHcIfuX7qF"
      },
      "source": [
        "import pandas as pd\n",
        "from datetime import datetime, timedelta\n",
        "import json\n",
        "\n",
        "import tweepy\n",
        "from tweepy import OAuthHandler\n",
        "from tweepy.streaming import StreamListener\n",
        "from tweepy import OAuthHandler\n",
        "from tweepy import Stream\n",
        "from textblob import TextBlob\n",
        "\n",
        "from kafka import KafkaClient\n",
        "from kafka import KafkaProducer\n",
        "from kafka import KafkaConsumer\n",
        "from kafka import TopicPartition\n",
        "from kafka.errors import KafkaError"
      ],
      "execution_count": null,
      "outputs": []
    },
    {
      "cell_type": "code",
      "metadata": {
        "id": "kh4GDlW8ekWB"
      },
      "source": [
        "consumer = ''"
      ],
      "execution_count": null,
      "outputs": []
    },
    {
      "cell_type": "code",
      "metadata": {
        "id": "ajPwI7OTekWB"
      },
      "source": [
        "# not utilizing a structured streaming environment, this will allow us to save tweets in consumer \n",
        "#nd not neet to run producer and streaming simultaneosly avoiding error:420\n",
        "consumer = KafkaConsumer('final_twitter', \n",
        "                         group_id='1', # Using group so that it doesn't re-read messages\n",
        "                         auto_offset_reset='earliest', \n",
        "                         enable_auto_commit=True, \n",
        "                         bootstrap_servers=['localhost:9092'], \n",
        "                         value_deserializer=lambda m: json.loads(m))\n",
        "# Create TopicPartition object so we can keep track of offset and know when to exit consumer loop later\n",
        "tp = TopicPartition('final_twitter',0)"
      ],
      "execution_count": null,
      "outputs": []
    },
    {
      "cell_type": "code",
      "metadata": {
        "id": "HrCiFjEJekWC"
      },
      "source": [
        "rows = [] # Put in separate cell so we don't clear rows every time we run next cell"
      ],
      "execution_count": null,
      "outputs": []
    },
    {
      "cell_type": "code",
      "metadata": {
        "id": "UESdeAulX7qF",
        "outputId": "a3dad678-dad9-4baa-a688-366f72dc023b"
      },
      "source": [
        "date_format = '%a %b %d %H:%M:%S %Y' # To convert created_at to Datetime object\n",
        "\n",
        "#list of dicts, this will save tweets from consumer\n",
        "for msg in consumer:\n",
        "    # Obtain the last offset value, so that we know when to exit loop\n",
        "    current_position = consumer.position(tp) # Store current offset pos so we can seek to it after\n",
        "    consumer.seek_to_end(tp)\n",
        "    last_offset = consumer.position(tp)\n",
        "    \n",
        "    consumer.seek(tp, current_position) # Seek back to where we were\n",
        "    print(\"\\nCurrent offset:\", msg.offset)\n",
        "    print(\"Last offset:\", last_offset)\n",
        "    \n",
        "    # Comment this out to continue even if consumer catches up to producer\n",
        "    if msg.offset >= last_offset - 1: \n",
        "        break\n",
        "    \n",
        "    # this converts consumer to type dict\n",
        "    row = msg.value\n",
        "    # pull the hashtags\n",
        "    if len(row['entities']['hashtags']) > 0:\n",
        "        #hashtag_text = [row['entities']['hashtags'][0]['text'] # Get text string of first hashtag\n",
        "        hashtag_text = [row['entities']['hashtags'][i]['text'].lower() for i, tag in enumerate(row['entities']['hashtags'])]\n",
        "    else:\n",
        "        #continue # Commented this out since if we continue, the next line wouldn't execute and we wouldn't store the tweet\n",
        "        hashtag_text = []\n",
        "    # create a row and add it to the list, we only need Tweet Id, User Id, Text, hashtags, and event time\n",
        "    row = Row(TweetID=row['id'], \n",
        "              Text=row['text'], \n",
        "              UserID=row['user']['id'], \n",
        "              Hashtags=hashtag_text,\n",
        "              #Event_time=row['created_at']\n",
        "              Event_time=datetime.strptime(row['created_at'].replace('+0000 ', ''), date_format)\n",
        "    )\n",
        "    rows.append(row)\n",
        "    print(row)"
      ],
      "execution_count": null,
      "outputs": [
        {
          "output_type": "stream",
          "text": [
            "\n",
            "Current offset: 128\n",
            "Last offset: 243\n",
            "Row(Event_time=datetime.datetime(2021, 7, 24, 20, 42, 26), Hashtags=[], Text='This fight isn’t for the country, it’s for power and victory.\\n\\n“All opposition must lose. Even if it is my own coun… https://t.co/hqv3n3zqr0', TweetID=1419035266136879114, UserID=1065377610)\n",
            "\n",
            "Current offset: 129\n",
            "Last offset: 243\n",
            "Row(Event_time=datetime.datetime(2021, 7, 24, 20, 42, 26), Hashtags=[], Text='RT @KumikoReturns: bro who hired this horny ass camera man at the olympics https://t.co/yFYvQD2Umm', TweetID=1419035266371686400, UserID=3064888521)\n",
            "\n",
            "Current offset: 130\n",
            "Last offset: 243\n",
            "Row(Event_time=datetime.datetime(2021, 7, 24, 20, 42, 27), Hashtags=[], Text='RT @CultureCentral1: Sha’Carri Richardson is snatching up all the sponsorships, and she’s not even in this year’s Olympics!👏🏾👏🏾 https://t.c…', TweetID=1419035268221489153, UserID=939162668954472448)\n",
            "\n",
            "Current offset: 131\n",
            "Last offset: 243\n",
            "Row(Event_time=datetime.datetime(2021, 7, 24, 20, 42, 27), Hashtags=[], Text=\"RT @Olympics: Behind every success, there are is a support system cheering you on. 💪\\n\\n@DiverJordan, 'Team Jordan' have a message for you.…\", TweetID=1419035269228077056, UserID=1104464264)\n",
            "\n",
            "Current offset: 132\n",
            "Last offset: 243\n",
            "Row(Event_time=datetime.datetime(2021, 7, 24, 20, 42, 27), Hashtags=[], Text='Handball is the most ridiculous sport in the olympics. It’s a playground game.', TweetID=1419035270444367872, UserID=102617127)\n",
            "\n",
            "Current offset: 133\n",
            "Last offset: 243\n",
            "Row(Event_time=datetime.datetime(2021, 7, 24, 20, 42, 27), Hashtags=[], Text='RT @VOLLEYBALLDILF: at the Olympics https://t.co/cYz4X3ioAX', TweetID=1419035271123935238, UserID=1415717456375652356)\n",
            "\n",
            "Current offset: 134\n",
            "Last offset: 243\n",
            "Row(Event_time=datetime.datetime(2021, 7, 24, 20, 42, 28), Hashtags=['olympics'], Text='RT @rockerskating: Wow I love the #Olympics https://t.co/oAg2RgFFGT', TweetID=1419035273162153985, UserID=1004400479474860032)\n",
            "\n",
            "Current offset: 135\n",
            "Last offset: 243\n",
            "Row(Event_time=datetime.datetime(2021, 7, 24, 20, 42, 28), Hashtags=[], Text='RT @jon_selvaraj: Five years ago Mirabai Chanu battled depression after failing in the most dramatic fashion possible in the Rio Olympics f…', TweetID=1419035273422249985, UserID=1250813325098668032)\n",
            "\n",
            "Current offset: 136\n",
            "Last offset: 243\n",
            "Row(Event_time=datetime.datetime(2021, 7, 24, 20, 42, 28), Hashtags=[], Text=\"RT @richarddeitsch: If planning to watch the The Tokyo Olympics over the next two weeks, here's a viewer’s guide via @TheAthletic on how to…\", TweetID=1419035273745272835, UserID=3185426234)\n",
            "\n",
            "Current offset: 137\n",
            "Last offset: 243\n",
            "Row(Event_time=datetime.datetime(2021, 7, 24, 20, 42, 28), Hashtags=[], Text='RT @mynbc15: The Americans cruised to a 6-1 rout of New Zealand in front of First Lady Jill Biden at the Tokyo Olympics on Saturday.\\nhttps:…', TweetID=1419035274143838210, UserID=1286992148034998273)\n",
            "\n",
            "Current offset: 138\n",
            "Last offset: 243\n",
            "Row(Event_time=datetime.datetime(2021, 7, 24, 20, 42, 28), Hashtags=[], Text='RT @kadeart: Pro Heroes x Olympics 🥇✨ https://t.co/Eerr2Si2ai', TweetID=1419035274315767810, UserID=1356282467666292736)\n",
            "\n",
            "Current offset: 139\n",
            "Last offset: 243\n",
            "Row(Event_time=datetime.datetime(2021, 7, 24, 20, 42, 28), Hashtags=[], Text='@CBCOlympics @KraftPB Hard pass on watching any Olympics since they have allowed men to compete as women.\\n\\nWomen ar… https://t.co/jlJkLZlHkG', TweetID=1419035274558935040, UserID=1343956620254957574)\n",
            "\n",
            "Current offset: 140\n",
            "Last offset: 243\n",
            "Row(Event_time=datetime.datetime(2021, 7, 24, 20, 42, 28), Hashtags=['tokyo2020'], Text=\"RT @standardsport: The first gold medalist of #Tokyo2020, China's Yang Qian!\\n\\nJust 21 years old, what a star.\\n\\nLIVE: https://t.co/12ErhvxbZ…\", TweetID=1419035275867590656, UserID=44278640)\n",
            "\n",
            "Current offset: 141\n",
            "Last offset: 243\n",
            "Row(Event_time=datetime.datetime(2021, 7, 24, 20, 42, 28), Hashtags=[], Text=\"RT @tobihishou: treating the olympics like it's haikyuu season 5\", TweetID=1419035276115025920, UserID=996344582)\n",
            "\n",
            "Current offset: 142\n",
            "Last offset: 243\n",
            "Row(Event_time=datetime.datetime(2021, 7, 24, 20, 42, 29), Hashtags=['tokyo2020', 'olympics'], Text='RT @Alhilal_EN: 💚 All the best 🙏🏻\\nOur Green Falcons 🦅 \\n#Tokyo2020 🇸🇦🆚🇩🇪 \\n#Olympics  ⚽️ https://t.co/Zum7tQnL8i', TweetID=1419035277344088068, UserID=1382857909038690305)\n",
            "\n",
            "Current offset: 143\n",
            "Last offset: 243\n",
            "Row(Event_time=datetime.datetime(2021, 7, 24, 20, 42, 29), Hashtags=['openingceremony', 'tokyo2020', 'pictograms', 'olympics'], Text='RT @Tokyo2020: 🥉🥇🥈 Are they the real MVPs of the #OpeningCeremony❓\\n\\n#Tokyo2020 | #Pictograms | #Olympics https://t.co/7SJ0nPCqke', TweetID=1419035277432135684, UserID=351089221)\n",
            "\n",
            "Current offset: 144\n",
            "Last offset: 243\n",
            "Row(Event_time=datetime.datetime(2021, 7, 24, 20, 42, 29), Hashtags=[], Text='Think you’re forgetting about someone https://t.co/cRPtTwXxes', TweetID=1419035277348286464, UserID=1183263338618408960)\n",
            "\n",
            "Current offset: 145\n",
            "Last offset: 243\n",
            "Row(Event_time=datetime.datetime(2021, 7, 24, 20, 42, 29), Hashtags=[], Text='RT @kadeart: Pro Heroes x Olympics 🥇✨ https://t.co/Eerr2Si2ai', TweetID=1419035278694625281, UserID=702619039630282754)\n",
            "\n",
            "Current offset: 146\n",
            "Last offset: 243\n",
            "Row(Event_time=datetime.datetime(2021, 7, 24, 20, 42, 29), Hashtags=['thecreek', 'olympics'], Text='Come hang out at #thecreek with us, the Olympics are on and the beer fridge is full of goodies! 🍻 #olympics \\n\\nPint… https://t.co/uoMmDJOykq', TweetID=1419035278044385282, UserID=435440622)\n",
            "\n",
            "Current offset: 147\n",
            "Last offset: 243\n",
            "Row(Event_time=datetime.datetime(2021, 7, 24, 20, 42, 29), Hashtags=[], Text='Did DC ever do a story where Dick Grayson goes to the Olympics as a gymnast?', TweetID=1419035279839490049, UserID=47152545)\n",
            "\n",
            "Current offset: 148\n",
            "Last offset: 243\n",
            "Row(Event_time=datetime.datetime(2021, 7, 24, 20, 42, 30), Hashtags=[], Text='RT @IDF: Athlete, IDF Soldier, and now, Olympic medalist—is there anything she can’t do? 🏆\\n\\nHome Front Command soldier Cpl. Avishag made hi…', TweetID=1419035280816869390, UserID=78759565)\n",
            "\n",
            "Current offset: 149\n",
            "Last offset: 243\n",
            "Row(Event_time=datetime.datetime(2021, 7, 24, 20, 42, 30), Hashtags=['olympics', 'tokyo2020', 'silly'], Text=\"RT @JohnCleese: You know which event I'll be watching! @montypython #olympics #tokyo2020 #silly https://t.co/tEoy7MEVIi\", TweetID=1419035281169260545, UserID=701777076391514112)\n",
            "\n",
            "Current offset: 150\n",
            "Last offset: 243\n",
            "Row(Event_time=datetime.datetime(2021, 7, 24, 20, 42, 30), Hashtags=[], Text='RT @QasimRashid: “Rules are rules”—which is why Sha’Carri Richardson is suspended from the Olympic Team for 1 pot violation, but Alen Hadzi…', TweetID=1419035281345417216, UserID=822803918216380417)\n",
            "\n",
            "Current offset: 151\n",
            "Last offset: 243\n",
            "Row(Event_time=datetime.datetime(2021, 7, 24, 20, 42, 30), Hashtags=[], Text='RT @kadeart: Pro Heroes x Olympics 🥇✨ https://t.co/Eerr2Si2ai', TweetID=1419035282603757570, UserID=1324608992182702085)\n",
            "\n",
            "Current offset: 152\n",
            "Last offset: 243\n",
            "Row(Event_time=datetime.datetime(2021, 7, 24, 20, 42, 30), Hashtags=[], Text=\"ngl i'm cheering for the countries who have less than, like, 10 athletes and/or haven't won any medals. u go, guys!… https://t.co/BDUuhQJZsq\", TweetID=1419035282486267904, UserID=969217546300870656)\n",
            "\n",
            "Current offset: 153\n",
            "Last offset: 243\n",
            "Row(Event_time=datetime.datetime(2021, 7, 24, 20, 42, 30), Hashtags=[], Text='RT @franklinleonard: But Sha’carri is at home because of weed.', TweetID=1419035282624720912, UserID=3302920015)\n",
            "\n",
            "Current offset: 154\n",
            "Last offset: 243\n",
            "Row(Event_time=datetime.datetime(2021, 7, 24, 20, 42, 30), Hashtags=[], Text=\"RT @txtgenleaders: Tomorrow x together :\\n\\n first Korean act to perform at wango tango\\n\\n first kpop act  to be on the cover of 'teen Vogue'…\", TweetID=1419035282960265228, UserID=1365846596387299328)\n",
            "\n",
            "Current offset: 155\n",
            "Last offset: 243\n",
            "Row(Event_time=datetime.datetime(2021, 7, 24, 20, 42, 30), Hashtags=[], Text='@kenzeyjanex @BBCSport @Eurosport ruined the Olympics. They have all the rights because they have more money. BBC c… https://t.co/9kt2GcrG1l', TweetID=1419035283283140615, UserID=972754214)\n",
            "\n",
            "Current offset: 156\n",
            "Last offset: 243\n",
            "Row(Event_time=datetime.datetime(2021, 7, 24, 20, 42, 30), Hashtags=[], Text='@tolstoybb isn’t that true of the olympics in general? except maybe football and basketball', TweetID=1419035283471978505, UserID=1344403011519524871)\n",
            "\n",
            "Current offset: 157\n",
            "Last offset: 243\n",
            "Row(Event_time=datetime.datetime(2021, 7, 24, 20, 42, 30), Hashtags=[], Text='RT @rabieh_9: His name is Fethi Nourine. An Algerian judoka. Today, he withdrew from the Olympics after finding out he has a match against…', TweetID=1419035283681529856, UserID=803378858158424068)\n",
            "\n",
            "Current offset: 158\n",
            "Last offset: 243\n",
            "Row(Event_time=datetime.datetime(2021, 7, 25, 18, 41, 54), Hashtags=[], Text='Embarrassing', TweetID=1419367322104512515, UserID=2695365987)\n",
            "\n",
            "Current offset: 159\n",
            "Last offset: 243\n",
            "Row(Event_time=datetime.datetime(2021, 7, 25, 18, 41, 54), Hashtags=[], Text='RT @AndrewPollackFL: I root against American teams at the Olympics that kneel for our national anthem. \\n\\nHow dare you embarrass us on the g…', TweetID=1419367322481987594, UserID=1342512456023814145)\n",
            "\n",
            "Current offset: 160\n",
            "Last offset: 243\n",
            "Row(Event_time=datetime.datetime(2021, 7, 25, 18, 41, 55), Hashtags=[], Text='RT @76Shadabkhan: Within the next year, I pledge to set up a fund for Pakistan’s Olympic’s athletes in preparation for the next Olympics. L…', TweetID=1419367322981179394, UserID=561987183)\n",
            "\n",
            "Current offset: 161\n",
            "Last offset: 243\n",
            "Row(Event_time=datetime.datetime(2021, 7, 25, 18, 41, 55), Hashtags=[], Text='RT @EricRWeinstein: What can be done?\\n\\nNOT hold Olympics. Why are we holding the Olympics if this is such a serious pandemic that we have t…', TweetID=1419367323039801346, UserID=1329299352838238208)\n",
            "\n",
            "Current offset: 162\n",
            "Last offset: 243\n",
            "Row(Event_time=datetime.datetime(2021, 7, 25, 18, 41, 55), Hashtags=['mountainbike'], Text=\"I don't know about you, guys, but I can't wait for tomorrow's #MountainBike men race. MvdP, Pidcock, Nino Schurter… https://t.co/U1465MvCyv\", TweetID=1419367323002150912, UserID=569941905)\n",
            "\n",
            "Current offset: 163\n",
            "Last offset: 243\n",
            "Row(Event_time=datetime.datetime(2021, 7, 25, 18, 41, 55), Hashtags=[], Text='RT @faizal_tahir: And this is how you got your medal 🤫 https://t.co/PRCayOH0q3', TweetID=1419367323564134402, UserID=533317891)\n",
            "\n",
            "Current offset: 164\n",
            "Last offset: 243\n",
            "Row(Event_time=datetime.datetime(2021, 7, 25, 18, 41, 55), Hashtags=[], Text='RT @whyisjessinit: the dj at the olympics after playing blackpink for the third time in a row  https://t.co/chDhIm3mDz', TweetID=1419367323543252996, UserID=4878848697)\n",
            "\n",
            "Current offset: 165\n",
            "Last offset: 243\n",
            "Row(Event_time=datetime.datetime(2021, 7, 25, 18, 41, 55), Hashtags=[], Text='RT @jemelehill: Also y’all not going to convince me they’d let a black athlete compete in the Olympics and form a “safety plan” around him…', TweetID=1419367324155527172, UserID=1927042170)\n",
            "\n",
            "Current offset: 166\n",
            "Last offset: 243\n",
            "Row(Event_time=datetime.datetime(2021, 7, 25, 18, 41, 55), Hashtags=[], Text='RT @starshades03: Companies YG has paid to push Blackpink:\\n\\n1. The Olympics [NEW]\\n2. Spotify (-1)\\n3. YouTube (=)\\n4. Pink Moon [NEW]', TweetID=1419367324491071490, UserID=765467839)\n",
            "\n",
            "Current offset: 167\n",
            "Last offset: 243\n",
            "Row(Event_time=datetime.datetime(2021, 7, 25, 18, 41, 55), Hashtags=['olympics'], Text='RT @zainaconda: PROUD OF YOU @talha_tlb \\n#Olympics', TweetID=1419367324767989761, UserID=116823633)\n",
            "\n",
            "Current offset: 168\n",
            "Last offset: 243\n",
            "Row(Event_time=datetime.datetime(2021, 7, 25, 18, 41, 55), Hashtags=['ハイキュー'], Text='RT @oKuMadeChan: they OWN the entire Olympics, congratulations for the victory Japan!!! (and yes, Oikawa invaded the picture)\\n\\n#ハイキュー #Haik…', TweetID=1419367325011087360, UserID=825971686952480768)\n",
            "\n",
            "Current offset: 169\n",
            "Last offset: 243\n",
            "Row(Event_time=datetime.datetime(2021, 7, 25, 18, 41, 55), Hashtags=[], Text='RT @travelfish: Not into the Olympics? Here’s every free-to-read Couchfish post plotted on a map of Southeast Asia. Advert-free—this is 100…', TweetID=1419367325501992962, UserID=395830157)\n",
            "\n",
            "Current offset: 170\n",
            "Last offset: 243\n",
            "Row(Event_time=datetime.datetime(2021, 7, 25, 18, 41, 55), Hashtags=[], Text='RT @dramapotatoes: Yili cheers on Team China at the Olympics with their affiliated brands and stars, including Li Xian, Angelababy, Dilireb…', TweetID=1419367325506043911, UserID=1323494011366072322)\n",
            "\n",
            "Current offset: 171\n",
            "Last offset: 243\n",
            "Row(Event_time=datetime.datetime(2021, 7, 25, 18, 41, 55), Hashtags=[], Text='Winter Olympics &gt; Summer Olympics and it’s not even close', TweetID=1419367325841645569, UserID=920083751291498497)\n",
            "\n",
            "Current offset: 172\n",
            "Last offset: 243\n",
            "Row(Event_time=datetime.datetime(2021, 7, 25, 18, 41, 55), Hashtags=[], Text='RT @kyansokka: professional snowboarder langa... meets professional skateboarder reki... at the olympics au', TweetID=1419367326558924802, UserID=1354248258927927300)\n",
            "\n",
            "Current offset: 173\n",
            "Last offset: 243\n",
            "Row(Event_time=datetime.datetime(2021, 7, 25, 18, 41, 56), Hashtags=[], Text='Go @DLanceBlack ‘s husband aka @TomDaley1994 lol!', TweetID=1419367327754240008, UserID=99356561)\n",
            "\n",
            "Current offset: 174\n",
            "Last offset: 243\n",
            "Row(Event_time=datetime.datetime(2021, 7, 25, 18, 41, 56), Hashtags=[], Text='RT @eliistender10: The very amateur Olympics https://t.co/L22l7UsVRG', TweetID=1419367328299499528, UserID=1187691570738466816)\n",
            "\n",
            "Current offset: 175\n",
            "Last offset: 243\n",
            "Row(Event_time=datetime.datetime(2021, 7, 25, 18, 41, 56), Hashtags=['olympics'], Text='RT @justleemar: Me waiting for track and field in #Olympics https://t.co/kwGWMfiKcy', TweetID=1419367328396070922, UserID=1616064337)\n",
            "\n",
            "Current offset: 176\n",
            "Last offset: 243\n",
            "Row(Event_time=datetime.datetime(2021, 7, 25, 18, 41, 56), Hashtags=[], Text='RT @BronDontStop: We were really watching peak Michael Phelps, kobe Bryant, LeBron James, and usain bolt at the 08 Olympics', TweetID=1419367328614023169, UserID=3133958048)\n",
            "\n",
            "Current offset: 177\n",
            "Last offset: 243\n",
            "Row(Event_time=datetime.datetime(2021, 7, 25, 18, 41, 56), Hashtags=[], Text='RT @QasimRashid: “Rules are rules”—which is why Sha’Carri Richardson is suspended from the Olympic Team for 1 pot violation, but Alen Hadzi…', TweetID=1419367329167728640, UserID=3044871157)\n",
            "\n",
            "Current offset: 178\n",
            "Last offset: 243\n",
            "Row(Event_time=datetime.datetime(2021, 7, 25, 18, 41, 56), Hashtags=['tokyo2020', 'olympics', 'tokyoolympics', 'shershaah', 'jannatveteaserout'], Text='Daily Dose: E-commerce https://t.co/qz2rscnk2x\\n\\n#Tokyo2020 #Olympics #TokyoOlympics #Shershaah #JannatVeTeaserOut… https://t.co/eMpB40vViU', TweetID=1419367330329489408, UserID=1411580306730078288)\n",
            "\n",
            "Current offset: 179\n",
            "Last offset: 243\n",
            "Row(Event_time=datetime.datetime(2021, 7, 25, 18, 41, 56), Hashtags=['ハイキュー'], Text='RT @oKuMadeChan: they OWN the entire Olympics, congratulations for the victory Japan!!! (and yes, Oikawa invaded the picture)\\n\\n#ハイキュー #Haik…', TweetID=1419367330623021058, UserID=290537371)\n",
            "\n",
            "Current offset: 180\n",
            "Last offset: 243\n",
            "Row(Event_time=datetime.datetime(2021, 7, 25, 18, 41, 56), Hashtags=[], Text='RT @InsideGym: An emotional Oksana Chusovitina took her final bow as an athlete on the Olympic stage, wiping away tears as competitors, coa…', TweetID=1419367330765750283, UserID=579663910)\n",
            "\n",
            "Current offset: 181\n",
            "Last offset: 243\n",
            "Row(Event_time=datetime.datetime(2021, 7, 25, 18, 41, 57), Hashtags=[], Text='i think pool volleyball should be a thing in the olympics', TweetID=1419367331495518214, UserID=1386185719345909760)\n",
            "\n",
            "Current offset: 182\n",
            "Last offset: 243\n",
            "Row(Event_time=datetime.datetime(2021, 7, 25, 18, 41, 57), Hashtags=[], Text='RT @Olympics: 13-year-old skateboarder Rayssa Leal will make her Olympic debut tomorrow. That did not stop her to take the time to talk to…', TweetID=1419367331919192067, UserID=1281331136)\n",
            "\n",
            "Current offset: 183\n",
            "Last offset: 243\n",
            "Row(Event_time=datetime.datetime(2021, 7, 25, 18, 41, 57), Hashtags=['jaehyun', 'jungwoo', 'nct127'], Text='RT @JAEWOOLOOKS: it’s olympics season!\\n\\n[#JAEHYUN #JUNGWOO #NCT127] https://t.co/EuPqe5H2MN', TweetID=1419367332250411008, UserID=1397157456048902145)\n",
            "\n",
            "Current offset: 184\n",
            "Last offset: 243\n",
            "Row(Event_time=datetime.datetime(2021, 7, 25, 18, 41, 57), Hashtags=[], Text='RT @mrs_socialista: This is what solidarity looks like ✊🏽', TweetID=1419367332946792453, UserID=711291605068746753)\n",
            "\n",
            "Current offset: 185\n",
            "Last offset: 243\n",
            "Row(Event_time=datetime.datetime(2021, 7, 25, 18, 41, 57), Hashtags=[], Text=\"Tigers can eat my shorts. We're back to men's tennis baby! Funny because last time I was raving about tennis my guy… https://t.co/jv92UWU7kD\", TweetID=1419367332485468160, UserID=2302164331)\n",
            "\n",
            "Current offset: 186\n",
            "Last offset: 243\n",
            "Row(Event_time=datetime.datetime(2021, 7, 25, 18, 41, 57), Hashtags=[], Text='RT @InsideGym: An emotional Oksana Chusovitina took her final bow as an athlete on the Olympic stage, wiping away tears as competitors, coa…', TweetID=1419367333391331329, UserID=102220583)\n",
            "\n",
            "Current offset: 187\n",
            "Last offset: 243\n",
            "Row(Event_time=datetime.datetime(2021, 7, 25, 18, 41, 57), Hashtags=[], Text='RT @NicolasEdny: A Black woman who recently lost her biological mother &amp; used weed to cope, was banned from competing.\\nBut hey lets keep th…', TweetID=1419367333236297735, UserID=1020898232061358080)\n",
            "\n",
            "Current offset: 188\n",
            "Last offset: 243\n",
            "Row(Event_time=datetime.datetime(2021, 7, 25, 18, 41, 57), Hashtags=['olympics'], Text='RT @RevRichardColes: Did you see the Tae Kwon Do? It was amazing. Like Riverdance being electrocuted. #Olympics https://t.co/RVziIkRio5', TweetID=1419367333311680524, UserID=1275854010105421824)\n",
            "\n",
            "Current offset: 189\n",
            "Last offset: 243\n",
            "Row(Event_time=datetime.datetime(2021, 7, 25, 18, 41, 57), Hashtags=[], Text='RT @BronDontStop: We were really watching peak Michael Phelps, kobe Bryant, LeBron James, and usain bolt at the 08 Olympics', TweetID=1419367334427480064, UserID=1528841772)\n",
            "\n",
            "Current offset: 190\n",
            "Last offset: 243\n",
            "Row(Event_time=datetime.datetime(2021, 7, 25, 18, 41, 57), Hashtags=[], Text='Tokyo Olympics: Austrian Math PhD Shocks Favourites In Olympics Women’s Cycling Road Race | Olympics\\xa0News https://t.co/7fTPjBVumb', TweetID=1419367334763024393, UserID=604511949)\n",
            "\n",
            "Current offset: 191\n",
            "Last offset: 243\n",
            "Row(Event_time=datetime.datetime(2021, 7, 25, 18, 41, 57), Hashtags=[], Text='Wholesome stuff', TweetID=1419367334817456133, UserID=1174194910855143424)\n",
            "\n",
            "Current offset: 192\n",
            "Last offset: 243\n",
            "Row(Event_time=datetime.datetime(2021, 7, 25, 18, 41, 57), Hashtags=[], Text='RT @NYinLA2121: With the Olympics starting, let’s all take a moment and remember the greatest Olympic team - EVER!\\n\\nThe Filipino 2016 Divin…', TweetID=1419367335085883392, UserID=3399880814)\n",
            "\n",
            "Current offset: 193\n",
            "Last offset: 243\n",
            "Row(Event_time=datetime.datetime(2021, 7, 25, 18, 41, 58), Hashtags=[], Text='RT @kobehighlight: Coach K on Kobe’s leadership on Team USA at the Olympics.\\n\\n“He was my leader. Kobe was the key guy in building the conti…', TweetID=1419367335572361218, UserID=632415970)\n",
            "\n",
            "Current offset: 194\n",
            "Last offset: 243\n",
            "Row(Event_time=datetime.datetime(2021, 7, 25, 18, 41, 58), Hashtags=['olympics'], Text='Not me staying up all night to watch the #Olympics 😏😂', TweetID=1419367335807365121, UserID=1411895646123081728)\n",
            "\n",
            "Current offset: 195\n",
            "Last offset: 243\n",
            "Row(Event_time=datetime.datetime(2021, 7, 25, 18, 41, 58), Hashtags=[], Text='RT @cobbo3: If African countries don’t compete beyond the big headline track and field events at the Olympics, and go hunting for glory in…', TweetID=1419367335950000129, UserID=1321828681606746112)\n",
            "\n",
            "Current offset: 196\n",
            "Last offset: 243\n",
            "Row(Event_time=datetime.datetime(2021, 7, 25, 18, 41, 58), Hashtags=[], Text='RT @UCI_cycling: 🗣 \"Nobody expected me to come away with a top result here.\"\\n\\nListen to @AnnaKiesenhofer 🇦🇹 describe what it means to be th…', TweetID=1419367336860127232, UserID=796191188)\n",
            "\n",
            "Current offset: 197\n",
            "Last offset: 243\n",
            "Row(Event_time=datetime.datetime(2021, 7, 25, 18, 41, 58), Hashtags=[], Text='watching the olympics makes me want to write something with olympians bts sooooo much ugh', TweetID=1419367337002680322, UserID=1271423214728687619)\n",
            "\n",
            "Current offset: 198\n",
            "Last offset: 243\n",
            "Row(Event_time=datetime.datetime(2021, 7, 25, 18, 41, 58), Hashtags=[], Text='RT @BronDontStop: We were really watching peak Michael Phelps, kobe Bryant, LeBron James, and usain bolt at the 08 Olympics', TweetID=1419367336927244292, UserID=2988161165)\n",
            "\n",
            "Current offset: 199\n",
            "Last offset: 243\n",
            "Row(Event_time=datetime.datetime(2021, 7, 25, 18, 41, 58), Hashtags=[], Text='@TravisSkol Travis… 🤣🤣🤣', TweetID=1419367337002733579, UserID=833996852)\n",
            "\n",
            "Current offset: 200\n",
            "Last offset: 243\n",
            "Row(Event_time=datetime.datetime(2021, 7, 25, 18, 41, 58), Hashtags=['tokyo2020', 'ハイキュー', 'haikyuu', 'olympics', 'オリンピック'], Text='RT @maddox_rider: Behind The Scenes 🇯🇵✨\\n#Tokyo2020 \\n#ハイキュー #Haikyuu\\n#Olympics #オリンピック https://t.co/tQKJBe4Slz', TweetID=1419367337308917760, UserID=1402625931022319625)\n",
            "\n",
            "Current offset: 201\n",
            "Last offset: 243\n",
            "Row(Event_time=datetime.datetime(2021, 7, 25, 18, 41, 58), Hashtags=['olympics'], Text='RT @DMBenes: Japan designed a unique kimono for every team at the #Olympics . Here’s their take on Iraq. https://t.co/Aiy5IBRK0g', TweetID=1419367337342521345, UserID=1382092968660713479)\n",
            "\n",
            "Current offset: 202\n",
            "Last offset: 243\n",
            "Row(Event_time=datetime.datetime(2021, 7, 25, 18, 41, 58), Hashtags=[], Text='RT @styIysh: Leave it to K-pop stans to turn the olympics into a fan war😭😭😭', TweetID=1419367337518538756, UserID=1414889330955276289)\n",
            "\n",
            "Current offset: 203\n",
            "Last offset: 243\n",
            "Row(Event_time=datetime.datetime(2021, 7, 25, 18, 41, 58), Hashtags=['oksanachusovitina'], Text='Really impressed and in total admiration! Inspired by this amazing athlete, #OksanaChusovitina! The world is cheeri… https://t.co/eJ3mMkFKfI', TweetID=1419367338600632320, UserID=1356109430253780993)\n",
            "\n",
            "Current offset: 204\n",
            "Last offset: 243\n",
            "Row(Event_time=datetime.datetime(2021, 7, 25, 18, 41, 58), Hashtags=[], Text='RT @washingtonpost: Lee Kiefer won the third gold medal for the U.S. at the Tokyo Olympics and the third fencing gold in the country’s hist…', TweetID=1419367338718154755, UserID=1113490605387255808)\n",
            "\n",
            "Current offset: 205\n",
            "Last offset: 243\n",
            "Row(Event_time=datetime.datetime(2021, 7, 25, 18, 41, 58), Hashtags=[], Text='RT @pauljac3_: i might be in the london olympics', TweetID=1419367338948894722, UserID=1349496704035246083)\n",
            "\n",
            "Current offset: 206\n",
            "Last offset: 243\n",
            "Row(Event_time=datetime.datetime(2021, 7, 25, 18, 41, 58), Hashtags=[], Text='Japan as US prime ally could have received and inoculate 70% of population with US made Pfizer and Moderna but Heal… https://t.co/3ToA9mUcVc', TweetID=1419367338890055682, UserID=1375653594590965765)\n",
            "\n",
            "Current offset: 207\n",
            "Last offset: 243\n",
            "Row(Event_time=datetime.datetime(2021, 7, 25, 18, 41, 58), Hashtags=['olympics'], Text='RT @stauber919: Farah Ann Hadi Rotation 2 on Balance Beam #Olympics https://t.co/q8qB3jeBXQ', TweetID=1419367339137462272, UserID=1306618680306876416)\n",
            "\n",
            "Current offset: 208\n",
            "Last offset: 243\n",
            "Row(Event_time=datetime.datetime(2021, 7, 25, 18, 41, 58), Hashtags=[], Text='RT @UsherKomugisha: ✨ Sara Gamal 🇪🇬✨\\n\\nAn engineer by profession, Sara is the first Arab, African and hijab-wearing basketball referee at th…', TweetID=1419367339351490564, UserID=3937206316)\n",
            "\n",
            "Current offset: 209\n",
            "Last offset: 243\n",
            "Row(Event_time=datetime.datetime(2021, 7, 25, 18, 41, 58), Hashtags=[], Text='RT @Shehzad_Ind: We did it! Yahan to parivar ka credit rehne dijiye \\n\\nYour sidekick Surjewala is openly undermining her efforts https://t.c…', TweetID=1419367339498164229, UserID=715254145)\n",
            "\n",
            "Current offset: 210\n",
            "Last offset: 243\n",
            "Row(Event_time=datetime.datetime(2021, 7, 25, 18, 41, 59), Hashtags=[], Text='RT @jaljr: Still deciding what to think about this. At least she appears to understand who she is there to represent. Needs to talk to her…', TweetID=1419367339800289283, UserID=74672763)\n",
            "\n",
            "Current offset: 211\n",
            "Last offset: 243\n",
            "Row(Event_time=datetime.datetime(2021, 7, 25, 18, 41, 59), Hashtags=[], Text=\"Japan's Own Wins First Skateboarding Medal At Tokyo Olympics https://t.co/b5bPiFrau8\", TweetID=1419367339833823235, UserID=17074125)\n",
            "\n",
            "Current offset: 212\n",
            "Last offset: 243\n",
            "Row(Event_time=datetime.datetime(2021, 7, 25, 18, 41, 59), Hashtags=['marykom'], Text='RT @IRSAnwesh: Age is just number for Her.\\nBiopic made on #MaryKom 7 years back &amp; today in 2021  at the age of 38 she is having a bout in #…', TweetID=1419367341540876288, UserID=1394335989758271489)\n",
            "\n",
            "Current offset: 213\n",
            "Last offset: 243\n",
            "Row(Event_time=datetime.datetime(2021, 7, 25, 18, 41, 59), Hashtags=[], Text='RT @effes22: Love the Diving one 😂😂😂😂😂', TweetID=1419367341775888385, UserID=3125950493)\n",
            "\n",
            "Current offset: 214\n",
            "Last offset: 243\n",
            "Row(Event_time=datetime.datetime(2021, 7, 25, 18, 41, 59), Hashtags=[], Text='RT @WorldWideWob: USA’s Men’s Basketball just lost in the Olympics for the first time since 2004 and honestly they were beat by a better te…', TweetID=1419367342119735303, UserID=1663854552)\n",
            "\n",
            "Current offset: 215\n",
            "Last offset: 243\n",
            "Row(Event_time=datetime.datetime(2021, 7, 25, 18, 41, 59), Hashtags=[], Text='Another “WOKE” failure', TweetID=1419367341998157835, UserID=1203391403780452352)\n",
            "\n",
            "Current offset: 216\n",
            "Last offset: 243\n",
            "Row(Event_time=datetime.datetime(2021, 7, 25, 18, 41, 59), Hashtags=[], Text='RT @BronDontStop: We were really watching peak Michael Phelps, kobe Bryant, LeBron James, and usain bolt at the 08 Olympics', TweetID=1419367342513995781, UserID=962044595449270272)\n",
            "\n",
            "Current offset: 217\n",
            "Last offset: 243\n",
            "Row(Event_time=datetime.datetime(2021, 7, 25, 18, 41, 59), Hashtags=[], Text='RT @Rebel_Nihal: Patriotism floods from common man to celebs during Olympics only \\nBeing 2nd largest we cant even compete with tiny small c…', TweetID=1419367343096885248, UserID=2934561511)\n",
            "\n",
            "Current offset: 218\n",
            "Last offset: 243\n",
            "Row(Event_time=datetime.datetime(2021, 7, 25, 18, 41, 59), Hashtags=[], Text='A lot of Team USA treat the Olympics like an after school club. Players are frustrated they’re not dominating with… https://t.co/OdlMiJJymg', TweetID=1419367343369728003, UserID=43608953)\n",
            "\n",
            "Current offset: 219\n",
            "Last offset: 243\n",
            "Row(Event_time=datetime.datetime(2021, 7, 25, 18, 41, 59), Hashtags=[], Text='the shoes? are you at the olympics?', TweetID=1419367343545794560, UserID=1113004812289957888)\n",
            "\n",
            "Current offset: 220\n",
            "Last offset: 243\n",
            "Row(Event_time=datetime.datetime(2021, 7, 25, 18, 41, 59), Hashtags=['hongkong'], Text='RT @HKGTranslator: Unintended consequence of the #HongKong Regional Flag and Regional Emblem Ordinance, Hong Kong athletes are prohibited b…', TweetID=1419367343583633412, UserID=1203783290324316160)\n",
            "\n",
            "Current offset: 221\n",
            "Last offset: 243\n",
            "Row(Event_time=datetime.datetime(2021, 7, 25, 18, 42), Hashtags=[], Text='RT @nctdaoying: MBC used NCT 127’s Kick It as the BGM when replaying the key highlights for South Korea’s soccer match at Tokyo Olympics ea…', TweetID=1419367343923286016, UserID=1334101991526547457)\n",
            "\n",
            "Current offset: 222\n",
            "Last offset: 243\n",
            "Row(Event_time=datetime.datetime(2021, 7, 25, 18, 42), Hashtags=[], Text='RT @RachaelHasIdeas: Ok I like the Olympics now https://t.co/pF8ykD4e8u', TweetID=1419367344019808265, UserID=1426160078)\n",
            "\n",
            "Current offset: 223\n",
            "Last offset: 243\n",
            "Row(Event_time=datetime.datetime(2021, 7, 25, 18, 42), Hashtags=[], Text=\"RT @KKLeechie: I like the South African one. It's pretty. ☺️🇿🇦\\nhttps://t.co/TbmBd8f9p7 https://t.co/YYWnZpAaIE\", TweetID=1419367344053395458, UserID=1327071756)\n",
            "\n",
            "Current offset: 224\n",
            "Last offset: 243\n",
            "Row(Event_time=datetime.datetime(2021, 7, 25, 18, 42), Hashtags=[], Text=\"@rebecca_potters I maintain the Olympics are an amazing opportunity to secure Earth's future by forcing the buffest… https://t.co/OvLz8ROsKO\", TweetID=1419367344413937666, UserID=1181920358666035201)\n",
            "\n",
            "Current offset: 225\n",
            "Last offset: 243\n",
            "Row(Event_time=datetime.datetime(2021, 7, 25, 18, 42), Hashtags=[], Text='Social media reacts to USA Basketball losing its first Olympics game since 2004\\n\\nhttps://t.co/qwvE6Gmvyy', TweetID=1419367344732655619, UserID=78420507)\n",
            "\n",
            "Current offset: 226\n",
            "Last offset: 243\n",
            "Row(Event_time=datetime.datetime(2021, 7, 25, 18, 42), Hashtags=['didyouknow', 'tokyo2020'], Text=\"#DidYouKnow that @tomsorsby's cousin Mark Pearson is playing for Canada at #Tokyo2020 \\n\\nThe two will play against e… https://t.co/aYMn4vN6y4\", TweetID=1419367344711749639, UserID=481358189)\n",
            "\n",
            "Current offset: 227\n",
            "Last offset: 243\n",
            "Row(Event_time=datetime.datetime(2021, 7, 25, 18, 42), Hashtags=[], Text=\"It's my bestie making moves fa me\", TweetID=1419367345470967814, UserID=1017512223181336576)\n",
            "\n",
            "Current offset: 228\n",
            "Last offset: 243\n",
            "Row(Event_time=datetime.datetime(2021, 7, 25, 18, 42), Hashtags=[], Text='RT @OShaykhov: You know you have achieved something substantial in sports, when @USAGym team calls themselves lucky to get a photo with you…', TweetID=1419367345802391557, UserID=1141139071252742144)\n",
            "\n",
            "Current offset: 229\n",
            "Last offset: 243\n",
            "Row(Event_time=datetime.datetime(2021, 7, 25, 18, 42), Hashtags=[], Text='Are we watching the Olympics or the world pharmaceutical championships? https://t.co/5JgNa9Kq4R', TweetID=1419367345835978755, UserID=20333894)\n",
            "\n",
            "Current offset: 230\n",
            "Last offset: 243\n",
            "Row(Event_time=datetime.datetime(2021, 7, 25, 18, 42), Hashtags=[], Text=\"RT @nadabakos: The Olympics have bankrupt host cities and they are left with infrastructure that will not be used again. Why don't they ide…\", TweetID=1419367346003656704, UserID=1314067982667087873)\n",
            "\n",
            "Current offset: 231\n",
            "Last offset: 243\n",
            "Row(Event_time=datetime.datetime(2021, 7, 25, 18, 42), Hashtags=[], Text='RT @itskerrii: 2022-2025 undefeated', TweetID=1419367346284732420, UserID=160094044)\n",
            "\n",
            "Current offset: 232\n",
            "Last offset: 243\n",
            "Row(Event_time=datetime.datetime(2021, 7, 25, 18, 42), Hashtags=[], Text='RT @Cernovich: Proud to see most of you aren’t even complaining about the Olympics. Instead you’re not watching at all. Our way of taking a…', TweetID=1419367346934796290, UserID=1108892350766632960)\n",
            "\n",
            "Current offset: 233\n",
            "Last offset: 243\n",
            "Row(Event_time=datetime.datetime(2021, 7, 25, 18, 42), Hashtags=[], Text=\"RT @jhs_vibes: Kmedia reports that many Korean athletes participating in the Olympics are BTS fans. It is said that the women's archery tea…\", TweetID=1419367346913828866, UserID=1248841362826461184)\n",
            "\n",
            "Current offset: 234\n",
            "Last offset: 243\n",
            "Row(Event_time=datetime.datetime(2021, 7, 25, 18, 42), Hashtags=['tokyo2020'], Text='RT @SportsCenter: TEAM USA MAKING HISTORY AT THE OLYMPICS 👏 #Tokyo2020\\n\\n🇺🇸 Lee Kiefer: First American woman to win Olympic gold in individu…', TweetID=1419367347111010309, UserID=222306886)\n",
            "\n",
            "Current offset: 235\n",
            "Last offset: 243\n",
            "Row(Event_time=datetime.datetime(2021, 7, 25, 18, 42), Hashtags=[], Text=\"RT @Olympics: It's on! 🔥 https://t.co/3cgHVvpyZy\", TweetID=1419367347517890562, UserID=1233476926330867712)\n",
            "\n",
            "Current offset: 236\n",
            "Last offset: 243\n",
            "Row(Event_time=datetime.datetime(2021, 7, 25, 18, 42, 1), Hashtags=['olympics'], Text='RT @stats_feed: #Olympics Medal Count, Day 2:\\n\\n🇨🇳🥇🥇🥇🥇🥇🥇🥈🥉🥉🥉🥉\\n🇯🇵🥇🥇🥇🥇🥇🥈\\n🇺🇸🥇🥇🥇🥇🥈🥈🥉🥉🥉🥉\\n🇰🇷🥇🥇🥉🥉🥉\\n🇷🇺🥇🥈🥈🥈🥈🥉🥉\\n🇮🇹🥇🥈🥉🥉🥉\\n🇦🇺🥇🥈🥉\\n🇫🇷🥇🥈🥉\\n🇭🇺🥇🥈\\n🇹🇳🥇🥈\\n🇦🇹🥇\\n🇪🇨🥇…', TweetID=1419367348516098055, UserID=460809737)\n",
            "\n",
            "Current offset: 237\n",
            "Last offset: 243\n",
            "Row(Event_time=datetime.datetime(2021, 7, 25, 18, 42, 1), Hashtags=[], Text='RT @disclosetv: JUST IN - Team USA did not medal for the first time since 1972 on the opening day of the Olympics in Tokyo. https://t.co/2u…', TweetID=1419367348650315777, UserID=764616209107152896)\n",
            "\n",
            "Current offset: 238\n",
            "Last offset: 243\n",
            "Row(Event_time=datetime.datetime(2021, 7, 25, 18, 42, 1), Hashtags=[], Text=\"RT @GirlyWolfPup: All Time Low's Dear Maria did more to unite humanity than this guy ever did :/\", TweetID=1419367348658638848, UserID=1106400481813897218)\n",
            "\n",
            "Current offset: 239\n",
            "Last offset: 243\n",
            "Row(Event_time=datetime.datetime(2021, 7, 25, 18, 42, 1), Hashtags=[], Text='Communist empires have a bizarre sense of humor.\\n🤣😂😜\\nhttps://t.co/G4eao80DTt', TweetID=1419367348964773889, UserID=934276566695079936)\n",
            "\n",
            "Current offset: 240\n",
            "Last offset: 243\n",
            "Row(Event_time=datetime.datetime(2021, 7, 25, 18, 42, 1), Hashtags=[], Text='RT @but_notfort: y’all this is not “horny bonk” moment this is sexual harassment bruh', TweetID=1419367348851470337, UserID=2239498627)\n",
            "\n",
            "Current offset: 241\n",
            "Last offset: 243\n",
            "Row(Event_time=datetime.datetime(2021, 7, 25, 18, 42, 1), Hashtags=['tokyo2020', 'olympics', 'tokyoolympics', 'shershaah'], Text='Daily Dose: Entrepreneurship https://t.co/vxT4drAYQM\\n\\n#Tokyo2020 #Olympics #TokyoOlympics #Shershaah… https://t.co/sys4RZ8wHt', TweetID=1419367349682012163, UserID=1411580306730078288)\n",
            "\n",
            "Current offset: 242\n",
            "Last offset: 243\n"
          ],
          "name": "stdout"
        }
      ]
    },
    {
      "cell_type": "code",
      "metadata": {
        "id": "WfjRqfJpekWD"
      },
      "source": [
        ""
      ],
      "execution_count": null,
      "outputs": []
    },
    {
      "cell_type": "code",
      "metadata": {
        "id": "74QEdb5nX7qG",
        "outputId": "b6fa7824-7ed0-4e2f-c5f5-b7b99cf1e5bd"
      },
      "source": [
        "# sanity check\n",
        "print(rows[:10]) # First 10 rows\n",
        "print('\\nNumber of tweets collected: {}'.format(len(rows)))"
      ],
      "execution_count": null,
      "outputs": [
        {
          "output_type": "stream",
          "text": [
            "[Row(Event_time=datetime.datetime(2021, 7, 24, 20, 42, 26), Hashtags=[], Text='This fight isn’t for the country, it’s for power and victory.\\n\\n“All opposition must lose. Even if it is my own coun… https://t.co/hqv3n3zqr0', TweetID=1419035266136879114, UserID=1065377610), Row(Event_time=datetime.datetime(2021, 7, 24, 20, 42, 26), Hashtags=[], Text='RT @KumikoReturns: bro who hired this horny ass camera man at the olympics https://t.co/yFYvQD2Umm', TweetID=1419035266371686400, UserID=3064888521), Row(Event_time=datetime.datetime(2021, 7, 24, 20, 42, 27), Hashtags=[], Text='RT @CultureCentral1: Sha’Carri Richardson is snatching up all the sponsorships, and she’s not even in this year’s Olympics!👏🏾👏🏾 https://t.c…', TweetID=1419035268221489153, UserID=939162668954472448), Row(Event_time=datetime.datetime(2021, 7, 24, 20, 42, 27), Hashtags=[], Text=\"RT @Olympics: Behind every success, there are is a support system cheering you on. 💪\\n\\n@DiverJordan, 'Team Jordan' have a message for you.…\", TweetID=1419035269228077056, UserID=1104464264), Row(Event_time=datetime.datetime(2021, 7, 24, 20, 42, 27), Hashtags=[], Text='Handball is the most ridiculous sport in the olympics. It’s a playground game.', TweetID=1419035270444367872, UserID=102617127), Row(Event_time=datetime.datetime(2021, 7, 24, 20, 42, 27), Hashtags=[], Text='RT @VOLLEYBALLDILF: at the Olympics https://t.co/cYz4X3ioAX', TweetID=1419035271123935238, UserID=1415717456375652356), Row(Event_time=datetime.datetime(2021, 7, 24, 20, 42, 28), Hashtags=['olympics'], Text='RT @rockerskating: Wow I love the #Olympics https://t.co/oAg2RgFFGT', TweetID=1419035273162153985, UserID=1004400479474860032), Row(Event_time=datetime.datetime(2021, 7, 24, 20, 42, 28), Hashtags=[], Text='RT @jon_selvaraj: Five years ago Mirabai Chanu battled depression after failing in the most dramatic fashion possible in the Rio Olympics f…', TweetID=1419035273422249985, UserID=1250813325098668032), Row(Event_time=datetime.datetime(2021, 7, 24, 20, 42, 28), Hashtags=[], Text=\"RT @richarddeitsch: If planning to watch the The Tokyo Olympics over the next two weeks, here's a viewer’s guide via @TheAthletic on how to…\", TweetID=1419035273745272835, UserID=3185426234), Row(Event_time=datetime.datetime(2021, 7, 24, 20, 42, 28), Hashtags=[], Text='RT @mynbc15: The Americans cruised to a 6-1 rout of New Zealand in front of First Lady Jill Biden at the Tokyo Olympics on Saturday.\\nhttps:…', TweetID=1419035274143838210, UserID=1286992148034998273)]\n",
            "\n",
            "Number of tweets collected: 114\n"
          ],
          "name": "stdout"
        }
      ]
    },
    {
      "cell_type": "code",
      "metadata": {
        "id": "8PiQ_giEekWD"
      },
      "source": [
        "# convert the list of dicts to a spark dataframe as per the requirements\n",
        "df = spark.createDataFrame(rows)"
      ],
      "execution_count": null,
      "outputs": []
    },
    {
      "cell_type": "code",
      "metadata": {
        "id": "aMI0p93AekWE",
        "outputId": "68f9b51c-fa29-4e0f-ea04-beb780ad45db"
      },
      "source": [
        "df.show()"
      ],
      "execution_count": null,
      "outputs": [
        {
          "output_type": "stream",
          "text": [
            "+-------------------+--------------------+--------------------+-------------------+-------------------+\n",
            "|         Event_time|            Hashtags|                Text|            TweetID|             UserID|\n",
            "+-------------------+--------------------+--------------------+-------------------+-------------------+\n",
            "|2021-07-24 20:42:26|                  []|This fight isn’t ...|1419035266136879114|         1065377610|\n",
            "|2021-07-24 20:42:26|                  []|RT @KumikoReturns...|1419035266371686400|         3064888521|\n",
            "|2021-07-24 20:42:27|                  []|RT @CultureCentra...|1419035268221489153| 939162668954472448|\n",
            "|2021-07-24 20:42:27|                  []|RT @Olympics: Beh...|1419035269228077056|         1104464264|\n",
            "|2021-07-24 20:42:27|                  []|Handball is the m...|1419035270444367872|          102617127|\n",
            "|2021-07-24 20:42:27|                  []|RT @VOLLEYBALLDIL...|1419035271123935238|1415717456375652356|\n",
            "|2021-07-24 20:42:28|          [olympics]|RT @rockerskating...|1419035273162153985|1004400479474860032|\n",
            "|2021-07-24 20:42:28|                  []|RT @jon_selvaraj:...|1419035273422249985|1250813325098668032|\n",
            "|2021-07-24 20:42:28|                  []|RT @richarddeitsc...|1419035273745272835|         3185426234|\n",
            "|2021-07-24 20:42:28|                  []|RT @mynbc15: The ...|1419035274143838210|1286992148034998273|\n",
            "|2021-07-24 20:42:28|                  []|RT @kadeart: Pro ...|1419035274315767810|1356282467666292736|\n",
            "|2021-07-24 20:42:28|                  []|@CBCOlympics @Kra...|1419035274558935040|1343956620254957574|\n",
            "|2021-07-24 20:42:28|         [tokyo2020]|RT @standardsport...|1419035275867590656|           44278640|\n",
            "|2021-07-24 20:42:28|                  []|RT @tobihishou: t...|1419035276115025920|          996344582|\n",
            "|2021-07-24 20:42:29|[tokyo2020, olymp...|RT @Alhilal_EN: ?...|1419035277344088068|1382857909038690305|\n",
            "|2021-07-24 20:42:29|[openingceremony,...|RT @Tokyo2020: 🥉...|1419035277432135684|          351089221|\n",
            "|2021-07-24 20:42:29|                  []|Think you’re forg...|1419035277348286464|1183263338618408960|\n",
            "|2021-07-24 20:42:29|                  []|RT @kadeart: Pro ...|1419035278694625281| 702619039630282754|\n",
            "|2021-07-24 20:42:29|[thecreek, olympics]|Come hang out at ...|1419035278044385282|          435440622|\n",
            "|2021-07-24 20:42:29|                  []|Did DC ever do a ...|1419035279839490049|           47152545|\n",
            "+-------------------+--------------------+--------------------+-------------------+-------------------+\n",
            "only showing top 20 rows\n",
            "\n"
          ],
          "name": "stdout"
        }
      ]
    },
    {
      "cell_type": "markdown",
      "metadata": {
        "id": "OJ1EjwsSekWE"
      },
      "source": [
        "## Number of tweets in last 30 second window"
      ]
    },
    {
      "cell_type": "code",
      "metadata": {
        "id": "B-RqpPrRekWE"
      },
      "source": [
        "df.createOrReplaceTempView(\"tweet_df\")"
      ],
      "execution_count": null,
      "outputs": []
    },
    {
      "cell_type": "code",
      "metadata": {
        "id": "NkbZ2JOlekWF",
        "outputId": "89bfc544-5375-401e-85aa-f05d65b09741"
      },
      "source": [
        "# Probably won't capture anything unless run right away, since it uses current time instead of most recent tweet\n",
        "# Maybe better to use below method\n",
        "spark.sql(\"\"\"\n",
        "    SELECT count(*) as num_tweets_last_30\n",
        "    FROM tweet_df\n",
        "    WHERE Event_time between (current_timestamp() - INTERVAL 30 SECOND ) \n",
        "                                AND current_timestamp()\n",
        "\"\"\").show()"
      ],
      "execution_count": null,
      "outputs": [
        {
          "output_type": "stream",
          "text": [
            "+------------------+\n",
            "|num_tweets_last_30|\n",
            "+------------------+\n",
            "|                 0|\n",
            "+------------------+\n",
            "\n"
          ],
          "name": "stdout"
        }
      ]
    },
    {
      "cell_type": "code",
      "metadata": {
        "id": "LtparxhPekWF"
      },
      "source": [
        "# Get the most recent tweet event_time captured, store as datetime\n",
        "# We can use this for all other queries to compare against most recent tweet (instead of current time, since it might be delayed)\n",
        "most_recent_tweet = spark.sql(\"\"\"\n",
        "    SELECT Event_time\n",
        "    FROM tweet_df\n",
        "    ORDER BY Event_time \n",
        "    DESC LIMIT 1\"\"\").collect()[0].Event_time"
      ],
      "execution_count": null,
      "outputs": []
    },
    {
      "cell_type": "code",
      "metadata": {
        "id": "Wb9PEfg9ekWG",
        "outputId": "8a0622b1-39aa-4d04-ad16-4b4dd50994e0"
      },
      "source": [
        "print('Datetime of most recently captured tweet is: {}'.format(most_recent_tweet)) "
      ],
      "execution_count": null,
      "outputs": [
        {
          "output_type": "stream",
          "text": [
            "Datetime of most recently captured tweet is: 2021-07-25 18:42:01\n"
          ],
          "name": "stdout"
        }
      ]
    },
    {
      "cell_type": "code",
      "metadata": {
        "id": "dsyPsjnoekWG",
        "outputId": "c6deb542-8309-40f0-dd36-de1619ce68bd"
      },
      "source": [
        "\n",
        "query = \"\"\"\n",
        "    SELECT COUNT(*) as Num_Tweets_Last_30_From_Newest_Tweet\n",
        "    FROM tweet_df\n",
        "    WHERE Event_time between ('{}' - INTERVAL 30 SECOND ) \n",
        "                                AND '{}'\"\"\".format(most_recent_tweet, most_recent_tweet)\n",
        "print(query)\n",
        "num_tweets_last_30 = spark.sql(query)\n",
        "num_tweets_last_30.show()"
      ],
      "execution_count": null,
      "outputs": [
        {
          "output_type": "stream",
          "text": [
            "\n",
            "    SELECT COUNT(*) as Num_Tweets_Last_30_From_Newest_Tweet\n",
            "    FROM tweet_df\n",
            "    WHERE Event_time between ('2021-07-25 18:42:01' - INTERVAL 30 SECOND ) \n",
            "                                AND '2021-07-25 18:42:01'\n",
            "+------------------------------------+\n",
            "|Num_Tweets_Last_30_From_Newest_Tweet|\n",
            "+------------------------------------+\n",
            "|                                  84|\n",
            "+------------------------------------+\n",
            "\n"
          ],
          "name": "stdout"
        }
      ]
    },
    {
      "cell_type": "markdown",
      "metadata": {
        "id": "mM0NxpfCekWH"
      },
      "source": [
        "## Num active users last 30 seconds"
      ]
    },
    {
      "cell_type": "code",
      "metadata": {
        "id": "DGsK5rWoekWH",
        "outputId": "34853e82-73bb-47f9-da6b-af85517f6fc9"
      },
      "source": [
        "# Actual last 30 seconds from current time\n",
        "query = \"\"\"\n",
        "    SELECT count(distinct(UserID)) as Num_Active_Users_Last_30_From_Current\n",
        "    FROM tweet_df\n",
        "    WHERE Event_time between (current_timestamp() - INTERVAL 30 SECOND ) \n",
        "                                AND current_timestamp()\"\"\".format(most_recent_tweet)\n",
        "spark.sql(query).show()\n"
      ],
      "execution_count": null,
      "outputs": [
        {
          "output_type": "stream",
          "text": [
            "+-------------------------------------+\n",
            "|Num_Active_Users_Last_30_From_Current|\n",
            "+-------------------------------------+\n",
            "|                                    0|\n",
            "+-------------------------------------+\n",
            "\n"
          ],
          "name": "stdout"
        }
      ]
    },
    {
      "cell_type": "code",
      "metadata": {
        "id": "_3_yuY2_ekWI",
        "outputId": "d37f87c6-edc3-4bf6-8fbe-d34a6f4e7b63"
      },
      "source": [
        "# 30 seconds prior to most recently received tweet\n",
        "query = \"\"\"\n",
        "    SELECT count(distinct(UserID)) as Num_Active_Users_Last_30_From_Newest_Tweet\n",
        "    FROM tweet_df\n",
        "    WHERE Event_time between ('{}' - INTERVAL 30 SECOND ) \n",
        "                                AND '{}'\"\"\".format(most_recent_tweet, most_recent_tweet)\n",
        "print(query)\n",
        "spark.sql(query).show()"
      ],
      "execution_count": null,
      "outputs": [
        {
          "output_type": "stream",
          "text": [
            "\n",
            "    SELECT count(distinct(UserID)) as Num_Active_Users_Last_30_From_Newest_Tweet\n",
            "    FROM tweet_df\n",
            "    WHERE Event_time between ('2021-07-25 18:42:01' - INTERVAL 30 SECOND ) \n",
            "                                AND '2021-07-25 18:42:01'\n",
            "+------------------------------------------+\n",
            "|Num_Active_Users_Last_30_From_Newest_Tweet|\n",
            "+------------------------------------------+\n",
            "|                                        83|\n",
            "+------------------------------------------+\n",
            "\n"
          ],
          "name": "stdout"
        }
      ]
    },
    {
      "cell_type": "markdown",
      "metadata": {
        "id": "GbKCIAwbekWI"
      },
      "source": [
        "## Most used hashtag in last 30 seconds"
      ]
    },
    {
      "cell_type": "code",
      "metadata": {
        "id": "QUXtYDcLekWI",
        "outputId": "b0817d5e-f407-404a-b105-e336117bdfbe"
      },
      "source": [
        "# key=lambda a: a[1] Means use the second value in the (word, num_occurrences) tuple as comparison key for max\n",
        "query = \"\"\"\n",
        "    SELECT Hashtags\n",
        "    FROM tweet_df\n",
        "    WHERE Event_time between ('{}' - INTERVAL 30 SECOND ) \n",
        "                                AND '{}'\"\"\".format(most_recent_tweet, most_recent_tweet)\n",
        "df_last_30 = spark.sql(query)\n",
        "frequent_hashtag_tup_last_30 = max(df_last_30.select(['Hashtags']).rdd.flatMap(lambda a: a.Hashtags).countByValue().items(), key=lambda a: a[1])\n",
        "print('Most frequently occuring hashtag in last 30 seconds: {}'.format(frequent_hashtag_tup_last_30[0]))\n",
        "print('Num occurrences: {}'.format(frequent_hashtag_tup_last_30[1]))"
      ],
      "execution_count": null,
      "outputs": [
        {
          "output_type": "stream",
          "text": [
            "Most frequently occuring hashtag in last 30 seconds: olympics\n",
            "Num occurrences: 10\n"
          ],
          "name": "stdout"
        }
      ]
    },
    {
      "cell_type": "markdown",
      "metadata": {
        "id": "v_1vvKCJekWJ"
      },
      "source": [
        "## Most used hashtag in complete time of analysis"
      ]
    },
    {
      "cell_type": "code",
      "metadata": {
        "id": "MgFMZd-zekWK",
        "outputId": "93d48417-e105-4314-bf66-425a15ddf030"
      },
      "source": [
        "# key=lambda a: a[1] Means use the second value in the (word, num_occurrences) tuple as comparison key for max\n",
        "frequent_hashtag_tup_complete = max(df.select(['Hashtags']).rdd.flatMap(lambda a: a.Hashtags).countByValue().items(), key=lambda a: a[1])\n",
        "print('Most frequently occuring hashtag in complete time of analysis: {}'.format(frequent_hashtag_tup_complete[0]))\n",
        "print('Num occurrences: {}'.format(frequent_hashtag_tup_complete[1]))"
      ],
      "execution_count": null,
      "outputs": [
        {
          "output_type": "stream",
          "text": [
            "Most frequently occuring hashtag in complete time of analysis: olympics\n",
            "Num occurrences: 15\n"
          ],
          "name": "stdout"
        }
      ]
    },
    {
      "cell_type": "markdown",
      "metadata": {
        "id": "-kCHfbl6ekWK"
      },
      "source": [
        "## Moving average of a given Hashtag every 1 minute"
      ]
    },
    {
      "cell_type": "code",
      "metadata": {
        "id": "05LNOeuCekWL"
      },
      "source": [
        "from pyspark.sql.window import Window\n",
        "from pyspark.sql import functions as func\n",
        "from pyspark.sql.functions import explode\n",
        "# I basically followed this tutorial: \n",
        "# https://www.linkedin.com/pulse/time-series-moving-average-apache-pyspark-laurent-weichberger/\n"
      ],
      "execution_count": null,
      "outputs": []
    },
    {
      "cell_type": "code",
      "metadata": {
        "id": "rBsStokBekWL"
      },
      "source": [
        "# Create a \"seven day\" Window from seven days previous to the current day (row), using previous casting of timestamp to long (number of seconds).\n",
        "\n",
        "# remember a start value of \"-1\" means one off before the current row, and we are taking the timestamp as a long and comparing it to the rangeBetween amount of time.\n",
        "\n",
        "# Remember an end value of 0 is the current row.\n",
        "# We use 6 days because rangeBetween is inclusive of start & end values.\n",
        "# Thank you Dr. Kevin Maguire for the bug fix!\n",
        "#windowSpec = Window.orderBy(func.col(\"Event_time\").cast('long')).rangeBetween(2, 0) # Using 3 seconds for now. Set to 59 for 1 minute\n",
        "windowSpec = Window.orderBy(func.col(\"Event_time\").cast('long')).rangeBetween(2, 0) # Using 3 seconds for now. Set to 59 for 1 minute"
      ],
      "execution_count": null,
      "outputs": []
    },
    {
      "cell_type": "code",
      "metadata": {
        "id": "wX9joA4eekWL",
        "outputId": "1f7581aa-83a9-4af1-94b1-5a6ce5bb42f1"
      },
      "source": [
        "# Explode the dataframe so that each element in each Hashtag array has its own row, \n",
        "# and so that the Hashtags column now only contains one hashtag string\n",
        "df_exploded = df.withColumn('Hashtags', explode('Hashtags'))\n",
        "df_exploded.show()"
      ],
      "execution_count": null,
      "outputs": [
        {
          "output_type": "stream",
          "text": [
            "+-------------------+---------------+--------------------+-------------------+-------------------+\n",
            "|         Event_time|       Hashtags|                Text|            TweetID|             UserID|\n",
            "+-------------------+---------------+--------------------+-------------------+-------------------+\n",
            "|2021-07-24 20:42:28|       olympics|RT @rockerskating...|1419035273162153985|1004400479474860032|\n",
            "|2021-07-24 20:42:28|      tokyo2020|RT @standardsport...|1419035275867590656|           44278640|\n",
            "|2021-07-24 20:42:29|      tokyo2020|RT @Alhilal_EN: ?...|1419035277344088068|1382857909038690305|\n",
            "|2021-07-24 20:42:29|       olympics|RT @Alhilal_EN: ?...|1419035277344088068|1382857909038690305|\n",
            "|2021-07-24 20:42:29|openingceremony|RT @Tokyo2020: 🥉...|1419035277432135684|          351089221|\n",
            "|2021-07-24 20:42:29|      tokyo2020|RT @Tokyo2020: 🥉...|1419035277432135684|          351089221|\n",
            "|2021-07-24 20:42:29|     pictograms|RT @Tokyo2020: 🥉...|1419035277432135684|          351089221|\n",
            "|2021-07-24 20:42:29|       olympics|RT @Tokyo2020: 🥉...|1419035277432135684|          351089221|\n",
            "|2021-07-24 20:42:29|       thecreek|Come hang out at ...|1419035278044385282|          435440622|\n",
            "|2021-07-24 20:42:29|       olympics|Come hang out at ...|1419035278044385282|          435440622|\n",
            "|2021-07-24 20:42:30|       olympics|RT @JohnCleese: Y...|1419035281169260545| 701777076391514112|\n",
            "|2021-07-24 20:42:30|      tokyo2020|RT @JohnCleese: Y...|1419035281169260545| 701777076391514112|\n",
            "|2021-07-24 20:42:30|          silly|RT @JohnCleese: Y...|1419035281169260545| 701777076391514112|\n",
            "|2021-07-25 18:41:55|   mountainbike|I don't know abou...|1419367323002150912|          569941905|\n",
            "|2021-07-25 18:41:55|       olympics|RT @zainaconda: P...|1419367324767989761|          116823633|\n",
            "|2021-07-25 18:41:55|     ハイキュー|RT @oKuMadeChan: ...|1419367325011087360| 825971686952480768|\n",
            "|2021-07-25 18:41:56|       olympics|RT @justleemar: M...|1419367328396070922|         1616064337|\n",
            "|2021-07-25 18:41:56|      tokyo2020|Daily Dose: E-com...|1419367330329489408|1411580306730078288|\n",
            "|2021-07-25 18:41:56|       olympics|Daily Dose: E-com...|1419367330329489408|1411580306730078288|\n",
            "|2021-07-25 18:41:56|  tokyoolympics|Daily Dose: E-com...|1419367330329489408|1411580306730078288|\n",
            "+-------------------+---------------+--------------------+-------------------+-------------------+\n",
            "only showing top 20 rows\n",
            "\n"
          ],
          "name": "stdout"
        }
      ]
    },
    {
      "cell_type": "code",
      "metadata": {
        "id": "sRaa5_pZekWM"
      },
      "source": [
        "# Now create a new column which has the count of "
      ],
      "execution_count": null,
      "outputs": []
    },
    {
      "cell_type": "code",
      "metadata": {
        "id": "EjlhIMFgekWM"
      },
      "source": [
        ""
      ],
      "execution_count": null,
      "outputs": []
    },
    {
      "cell_type": "code",
      "metadata": {
        "id": "rCxPrYayekWM"
      },
      "source": [
        "# Filter DF such that it only contains rows with our hashtag of interest\n",
        "df2 = df_exploded.filter(df_exploded.Hashtags == frequent_hashtag_tup_complete[0])"
      ],
      "execution_count": null,
      "outputs": []
    },
    {
      "cell_type": "code",
      "metadata": {
        "id": "G93qb6PJekWN",
        "outputId": "a10ea452-3348-47a0-9451-6740eb7ae35d"
      },
      "source": [
        "df2.show()"
      ],
      "execution_count": null,
      "outputs": [
        {
          "output_type": "stream",
          "text": [
            "+-------------------+--------+--------------------+-------------------+-------------------+\n",
            "|         Event_time|Hashtags|                Text|            TweetID|             UserID|\n",
            "+-------------------+--------+--------------------+-------------------+-------------------+\n",
            "|2021-07-24 20:42:28|olympics|RT @rockerskating...|1419035273162153985|1004400479474860032|\n",
            "|2021-07-24 20:42:29|olympics|RT @Alhilal_EN: ?...|1419035277344088068|1382857909038690305|\n",
            "|2021-07-24 20:42:29|olympics|RT @Tokyo2020: 🥉...|1419035277432135684|          351089221|\n",
            "|2021-07-24 20:42:29|olympics|Come hang out at ...|1419035278044385282|          435440622|\n",
            "|2021-07-24 20:42:30|olympics|RT @JohnCleese: Y...|1419035281169260545| 701777076391514112|\n",
            "|2021-07-25 18:41:55|olympics|RT @zainaconda: P...|1419367324767989761|          116823633|\n",
            "|2021-07-25 18:41:56|olympics|RT @justleemar: M...|1419367328396070922|         1616064337|\n",
            "|2021-07-25 18:41:56|olympics|Daily Dose: E-com...|1419367330329489408|1411580306730078288|\n",
            "|2021-07-25 18:41:57|olympics|RT @RevRichardCol...|1419367333311680524|1275854010105421824|\n",
            "|2021-07-25 18:41:58|olympics|Not me staying up...|1419367335807365121|1411895646123081728|\n",
            "|2021-07-25 18:41:58|olympics|RT @maddox_rider:...|1419367337308917760|1402625931022319625|\n",
            "|2021-07-25 18:41:58|olympics|RT @DMBenes: Japa...|1419367337342521345|1382092968660713479|\n",
            "|2021-07-25 18:41:58|olympics|RT @stauber919: F...|1419367339137462272|1306618680306876416|\n",
            "|2021-07-25 18:42:01|olympics|RT @stats_feed: #...|1419367348516098055|          460809737|\n",
            "|2021-07-25 18:42:01|olympics|Daily Dose: Entre...|1419367349682012163|1411580306730078288|\n",
            "+-------------------+--------+--------------------+-------------------+-------------------+\n",
            "\n"
          ],
          "name": "stdout"
        }
      ]
    },
    {
      "cell_type": "code",
      "metadata": {
        "id": "WE7GDr3BekWN",
        "outputId": "186eba4f-eb2e-40db-e95c-d1c1cc460917"
      },
      "source": [
        "from pyspark.sql.functions import lit\n",
        "df2 = df2.withColumn('count', lit(1.0)) # Simply add a new column and set each val to 1 (used for moving avg later)\n",
        "df2.show()"
      ],
      "execution_count": null,
      "outputs": [
        {
          "output_type": "stream",
          "text": [
            "+-------------------+--------+--------------------+-------------------+-------------------+-----+\n",
            "|         Event_time|Hashtags|                Text|            TweetID|             UserID|count|\n",
            "+-------------------+--------+--------------------+-------------------+-------------------+-----+\n",
            "|2021-07-24 20:42:28|olympics|RT @rockerskating...|1419035273162153985|1004400479474860032|  1.0|\n",
            "|2021-07-24 20:42:29|olympics|RT @Alhilal_EN: ?...|1419035277344088068|1382857909038690305|  1.0|\n",
            "|2021-07-24 20:42:29|olympics|RT @Tokyo2020: 🥉...|1419035277432135684|          351089221|  1.0|\n",
            "|2021-07-24 20:42:29|olympics|Come hang out at ...|1419035278044385282|          435440622|  1.0|\n",
            "|2021-07-24 20:42:30|olympics|RT @JohnCleese: Y...|1419035281169260545| 701777076391514112|  1.0|\n",
            "|2021-07-25 18:41:55|olympics|RT @zainaconda: P...|1419367324767989761|          116823633|  1.0|\n",
            "|2021-07-25 18:41:56|olympics|RT @justleemar: M...|1419367328396070922|         1616064337|  1.0|\n",
            "|2021-07-25 18:41:56|olympics|Daily Dose: E-com...|1419367330329489408|1411580306730078288|  1.0|\n",
            "|2021-07-25 18:41:57|olympics|RT @RevRichardCol...|1419367333311680524|1275854010105421824|  1.0|\n",
            "|2021-07-25 18:41:58|olympics|Not me staying up...|1419367335807365121|1411895646123081728|  1.0|\n",
            "|2021-07-25 18:41:58|olympics|RT @maddox_rider:...|1419367337308917760|1402625931022319625|  1.0|\n",
            "|2021-07-25 18:41:58|olympics|RT @DMBenes: Japa...|1419367337342521345|1382092968660713479|  1.0|\n",
            "|2021-07-25 18:41:58|olympics|RT @stauber919: F...|1419367339137462272|1306618680306876416|  1.0|\n",
            "|2021-07-25 18:42:01|olympics|RT @stats_feed: #...|1419367348516098055|          460809737|  1.0|\n",
            "|2021-07-25 18:42:01|olympics|Daily Dose: Entre...|1419367349682012163|1411580306730078288|  1.0|\n",
            "+-------------------+--------+--------------------+-------------------+-------------------+-----+\n",
            "\n"
          ],
          "name": "stdout"
        }
      ]
    },
    {
      "cell_type": "code",
      "metadata": {
        "id": "zdPcfd8fekWO",
        "outputId": "534a493f-a7bf-4beb-b764-2e091767d7a6"
      },
      "source": [
        "# Edit: Not sure if we need this\n",
        "# We do a wordcount on Event_time, because at this point each Event_time row is one occurance for the most frequent hashtag\n",
        "from pyspark.sql.types import DoubleType\n",
        "import pyspark.sql.functions as f\n",
        "df3 = df2 \\\n",
        "        .groupBy('Event_time') \\\n",
        "        .count() \\\n",
        "        .sort('Event_time', ascending=True)\n",
        "df3.show()"
      ],
      "execution_count": null,
      "outputs": [
        {
          "output_type": "stream",
          "text": [
            "+-------------------+-----+\n",
            "|         Event_time|count|\n",
            "+-------------------+-----+\n",
            "|2021-07-24 20:42:28|    1|\n",
            "|2021-07-24 20:42:29|    3|\n",
            "|2021-07-24 20:42:30|    1|\n",
            "|2021-07-25 18:41:55|    1|\n",
            "|2021-07-25 18:41:56|    2|\n",
            "|2021-07-25 18:41:57|    1|\n",
            "|2021-07-25 18:41:58|    4|\n",
            "|2021-07-25 18:42:01|    2|\n",
            "+-------------------+-----+\n",
            "\n"
          ],
          "name": "stdout"
        }
      ]
    },
    {
      "cell_type": "code",
      "metadata": {
        "id": "UpdO69VjekWO",
        "outputId": "6a0ac76b-966b-4a71-b7ba-06839f98bf78"
      },
      "source": [
        "# SparkSQL method - not sure if this is correct\n",
        "df3.createOrReplaceTempView(\"df3\")\n",
        "spark.sql(\n",
        "    \"\"\"SELECT *, mean(count) OVER (\n",
        "        ORDER BY CAST(Event_time AS timestamp) \n",
        "        RANGE BETWEEN INTERVAL 60 SECONDS PRECEDING AND CURRENT ROW\n",
        "     ) AS Moving_Average FROM df3\"\"\").show()"
      ],
      "execution_count": null,
      "outputs": [
        {
          "output_type": "stream",
          "text": [
            "+-------------------+-----+------------------+\n",
            "|         Event_time|count|    Moving_Average|\n",
            "+-------------------+-----+------------------+\n",
            "|2021-07-24 20:42:28|    1|               1.0|\n",
            "|2021-07-24 20:42:29|    3|               2.0|\n",
            "|2021-07-24 20:42:30|    1|1.6666666666666667|\n",
            "|2021-07-25 18:41:55|    1|               1.0|\n",
            "|2021-07-25 18:41:56|    2|               1.5|\n",
            "|2021-07-25 18:41:57|    1|1.3333333333333333|\n",
            "|2021-07-25 18:41:58|    4|               2.0|\n",
            "|2021-07-25 18:42:01|    2|               2.0|\n",
            "+-------------------+-----+------------------+\n",
            "\n"
          ],
          "name": "stdout"
        }
      ]
    },
    {
      "cell_type": "markdown",
      "metadata": {
        "id": "JJqtv5UdekWO"
      },
      "source": [
        "## Save results from 7a to Hive"
      ]
    },
    {
      "cell_type": "code",
      "metadata": {
        "id": "-t3bcYpZekWP",
        "outputId": "91ec5aa8-f817-405f-c8ec-d4129af322ed"
      },
      "source": [
        "# Add timestamp to this record in case we want to make sense of the data in the hive table later\n",
        "# Also, reorder columns so timestamp is on left\n",
        "table_to_write = num_tweets_last_30.withColumn('End_of_Capturing_Window', lit(most_recent_tweet))\n",
        "table_to_write = table_to_write.select('End_of_Capturing_Window', 'Num_Tweets_Last_30_From_Newest_Tweet')\n",
        "table_to_write.show()"
      ],
      "execution_count": null,
      "outputs": [
        {
          "output_type": "stream",
          "text": [
            "+-----------------------+------------------------------------+\n",
            "|End_of_Capturing_Window|Num_Tweets_Last_30_From_Newest_Tweet|\n",
            "+-----------------------+------------------------------------+\n",
            "|    2021-07-25 18:42:01|                                  84|\n",
            "+-----------------------+------------------------------------+\n",
            "\n"
          ],
          "name": "stdout"
        }
      ]
    },
    {
      "cell_type": "code",
      "metadata": {
        "id": "3Opx3FmuekWP",
        "outputId": "f7ca89fd-0087-4766-a3a6-0c1a4c3d8acc"
      },
      "source": [
        "# Create db and table\n",
        "spark.sql(\"\"\"\n",
        "    CREATE DATABASE twitter_analysis\n",
        "\"\"\")\n",
        "\n",
        "spark.sql(\"\"\"\n",
        "    USE twitter_analysis\n",
        "\"\"\").show()\n",
        "\n",
        "spark.sql(\"\"\"\n",
        "    CREATE TABLE IF NOT EXISTS tweets_last_30(\n",
        "        End_of_Capturing_Window String, \n",
        "        Num_Tweets_Last_30_From_Newest_Tweet String\n",
        "    )\n",
        "\"\"\").show()"
      ],
      "execution_count": null,
      "outputs": [
        {
          "output_type": "stream",
          "text": [
            "++\n",
            "||\n",
            "++\n",
            "++\n",
            "\n",
            "++\n",
            "||\n",
            "++\n",
            "++\n",
            "\n"
          ],
          "name": "stdout"
        }
      ]
    },
    {
      "cell_type": "code",
      "metadata": {
        "id": "M1E8-aQbekWP"
      },
      "source": [
        "table_to_write.write.mode(\"append\").format('hive').saveAsTable(\"twitter_analysis.tweets_last_30\")"
      ],
      "execution_count": null,
      "outputs": []
    },
    {
      "cell_type": "code",
      "metadata": {
        "id": "l6YRdTbCekWQ",
        "outputId": "53348ee7-8ac5-4da5-b71d-cd330d348e54"
      },
      "source": [
        "spark.sql(\"\"\"\n",
        "    SELECT *\n",
        "    FROM tweets_last_30\n",
        "\"\"\").show()"
      ],
      "execution_count": null,
      "outputs": [
        {
          "output_type": "stream",
          "text": [
            "+-----------------------+------------------------------------+\n",
            "|End_of_Capturing_Window|Num_Tweets_Last_30_From_Newest_Tweet|\n",
            "+-----------------------+------------------------------------+\n",
            "|    2021-07-25 18:42:01|                                  84|\n",
            "+-----------------------+------------------------------------+\n",
            "\n"
          ],
          "name": "stdout"
        }
      ]
    },
    {
      "cell_type": "code",
      "metadata": {
        "id": "1cuWaB8pekWQ"
      },
      "source": [
        ""
      ],
      "execution_count": null,
      "outputs": []
    }
  ]
}