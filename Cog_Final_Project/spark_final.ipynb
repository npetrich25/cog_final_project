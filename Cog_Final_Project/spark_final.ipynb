{
 "cells": [
  {
   "cell_type": "code",
   "execution_count": 1,
   "metadata": {
    "id": "CDlHETL1X7p_"
   },
   "outputs": [],
   "source": [
    "import os\n",
    "import sys\n",
    "os.environ[\"SPARK_HOME\"]=\"/home/user1/trainig_material/spark-2.4.4-bin-hadoop2.7\"\n",
    "os.environ[\"PYLIB\"] = os.environ[\"SPARK_HOME\"] + \"/python/lib\"\n",
    "#os.environ[\"HIVE_HOME\"] =\"/usr/lib/hive\"\n",
    "#os.environ[\"PATH\"] =os.environ[\"HIVE_HOME\"]+\"/bin\"\n",
    "#os.environ[\"JAVA_HOME\"]=\"/usr/java/jdk1.7.0_67-cloudera\"\n",
    "# In below two lines, use /usr/bin/python2.7 if you want to use Python 2\n",
    "#os.environ[\"PYSPARK_PYTHON\"] = \"/home/cloudera/anaconda3/bin/python3.7\" \n",
    "#os.environ[\"PYSPARK_DRIVER_PYTHON\"] = \"/home/cloudera/anaconda3/bin/python3.7\"\n",
    "sys.path.insert(0, os.environ[\"PYLIB\"] +\"/py4j-0.10.7-src.zip\")\n",
    "sys.path.insert(0, os.environ[\"PYLIB\"] +\"/pyspark.zip\")\n",
    "\n",
    "\n",
    "os.environ['PYSPARK_SUBMIT_ARGS'] = '--packages org.apache.spark:spark-streaming-kafka-0-8_2.11:2.4.4 pyspark-shell'"
   ]
  },
  {
   "cell_type": "code",
   "execution_count": 2,
   "metadata": {
    "id": "aFQofpu7X7qB"
   },
   "outputs": [],
   "source": [
    "# Spark\n",
    "from pyspark import SparkContext, SparkConf\n",
    "# Spark Streaming\n",
    "from pyspark.streaming import StreamingContext\n",
    "# Kafka\n",
    "#from pyspark.streaming.kafka import KafkaUtils\n",
    "# json parsing\n",
    "from pyspark.sql import Row,SQLContext\n",
    "from pyspark import SparkConf,SparkContext\n",
    "from pyspark.sql import SQLContext,HiveContext"
   ]
  },
  {
   "cell_type": "code",
   "execution_count": null,
   "metadata": {
    "id": "JiYoHyp8X7qC"
   },
   "outputs": [],
   "source": []
  },
  {
   "cell_type": "code",
   "execution_count": 3,
   "metadata": {
    "id": "houVHeHYX7qC"
   },
   "outputs": [],
   "source": [
    "sc = SparkContext(\"local\", \"twitter\")\n",
    "sc.setLogLevel(\"WARN\")"
   ]
  },
  {
   "cell_type": "code",
   "execution_count": null,
   "metadata": {
    "id": "g0wK5WUgX7qC"
   },
   "outputs": [],
   "source": [
    "sc.stop()"
   ]
  },
  {
   "cell_type": "code",
   "execution_count": 5,
   "metadata": {
    "id": "B87w91i2X7qD"
   },
   "outputs": [],
   "source": [
    "from pyspark.sql import SparkSession\n",
    "spark = SparkSession.builder.enableHiveSupport().getOrCreate()"
   ]
  },
  {
   "cell_type": "code",
   "execution_count": 7,
   "metadata": {
    "id": "4KKNcpYpX7qD"
   },
   "outputs": [],
   "source": [
    "#spark.sql(\"show databases\").show()"
   ]
  },
  {
   "cell_type": "code",
   "execution_count": 8,
   "metadata": {
    "id": "AjlHcIfuX7qF"
   },
   "outputs": [],
   "source": [
    "import pandas as pd\n",
    "from datetime import datetime, timedelta\n",
    "import json\n",
    "\n",
    "import tweepy\n",
    "from tweepy import OAuthHandler\n",
    "from tweepy.streaming import StreamListener\n",
    "from tweepy import OAuthHandler\n",
    "from tweepy import Stream\n",
    "from textblob import TextBlob\n",
    "\n",
    "from kafka import KafkaClient\n",
    "from kafka import KafkaProducer\n",
    "from kafka import KafkaConsumer\n",
    "from kafka import TopicPartition\n",
    "from kafka.errors import KafkaError"
   ]
  },
  {
   "cell_type": "code",
   "execution_count": 28,
   "metadata": {
    "id": "UESdeAulX7qF",
    "outputId": "a3dad678-dad9-4baa-a688-366f72dc023b"
   },
   "outputs": [
    {
     "name": "stdout",
     "output_type": "stream",
     "text": [
      "<class 'dict'>\n",
      "<class 'dict'>\n",
      "<class 'dict'>\n",
      "<class 'dict'>\n",
      "<class 'dict'>\n",
      "Tokyo2020\n",
      "Row(Event_time='Sat Jul 24 20:22:57 +0000 2021', Hashtags='Tokyo2020', Text='I agree with @Devin_Heroux. I would be happy if Japanese 7-11 catered my wedding. \\n#Tokyo2020 \\n https://t.co/VYres1sv3U', TweetID=1419030363054088195, UserID=22720902)\n",
      "<class 'dict'>\n",
      "<class 'dict'>\n",
      "<class 'dict'>\n",
      "<class 'dict'>\n",
      "<class 'dict'>\n",
      "<class 'dict'>\n",
      "<class 'dict'>\n",
      "Olympics2021\n",
      "Row(Event_time='Sat Jul 24 20:22:58 +0000 2021', Hashtags='Olympics2021', Text='RT @_AfricanSoil: Black population in USA is less than 20% but check their #Olympics2021 team\\n\\nIn South Africa, 80% + of the population is…', TweetID=1419030365331673273, UserID=82641042)\n",
      "<class 'dict'>\n",
      "<class 'dict'>\n",
      "<class 'dict'>\n",
      "<class 'dict'>\n",
      "Olympics\n",
      "Row(Event_time='Sat Jul 24 20:22:58 +0000 2021', Hashtags='Olympics', Text='RT @mrdanwalker: Lots of people have asked about the full @mariadecezar #Olympics incident today 🏖😂\\n5 years ago this week, on Copacabana be…', TweetID=1419030367957397510, UserID=360518857)\n",
      "<class 'dict'>\n",
      "<class 'dict'>\n",
      "<class 'dict'>\n",
      "bronze\n",
      "Row(Event_time='Sat Jul 24 20:22:58 +0000 2021', Hashtags='bronze', Text='RT @Olympics: It’s #bronze for @DariaBilodid of #UKR in the #judo women’s 48 kg event. \\n\\nShe takes this medal on her #Olympics debut! \\n\\n#St…', TweetID=1419030369039360002, UserID=4594967060)\n",
      "<class 'dict'>\n",
      "<class 'dict'>\n",
      "<class 'dict'>\n",
      "<class 'dict'>\n",
      "<class 'dict'>\n",
      "<class 'dict'>\n",
      "<class 'dict'>\n",
      "Olympics\n",
      "Row(Event_time='Sat Jul 24 20:23:00 +0000 2021', Hashtags='Olympics', Text='RT @EJinAction: The #Olympics have nothing on the #NationalBabyTrials.  The Cutest Stars of the future.  Let me see your flag  🇯🇲 🇹🇹 🇯🇵 🇧🇷…', TweetID=1419030374106214405, UserID=26209691)\n",
      "<class 'dict'>\n",
      "<class 'dict'>\n",
      "<class 'dict'>\n",
      "<class 'dict'>\n",
      "<class 'dict'>\n",
      "<class 'dict'>\n",
      "<class 'dict'>\n",
      "<class 'dict'>\n",
      "<class 'dict'>\n",
      "<class 'dict'>\n",
      "<class 'dict'>\n",
      "<class 'dict'>\n",
      "<class 'dict'>\n",
      "<class 'dict'>\n",
      "<class 'dict'>\n",
      "TokyoOlympics\n",
      "Row(Event_time='Sat Jul 24 20:23:01 +0000 2021', Hashtags='TokyoOlympics', Text='RT @mtgreenee: So the #TokyoOlympics has terrorist, trans, and Americans who hate our flag competing. \\n\\nNo thanks.', TweetID=1419030380645167105, UserID=1368422614725767169)\n",
      "<class 'dict'>\n",
      "<class 'dict'>\n",
      "<class 'dict'>\n",
      "Olympics\n",
      "Row(Event_time='Sat Jul 24 20:23:02 +0000 2021', Hashtags='Olympics', Text='RT @todokugou: Mentally, we are here. \\n#Olympics #Tokyo2020 #OlympicGames https://t.co/UvpXkPDbLx', TweetID=1419030382515609600, UserID=1180031821704155136)\n",
      "<class 'dict'>\n",
      "<class 'dict'>\n",
      "<class 'dict'>\n",
      "<class 'dict'>\n",
      "<class 'dict'>\n",
      "<class 'dict'>\n",
      "<class 'dict'>\n",
      "<class 'dict'>\n",
      "<class 'dict'>\n",
      "<class 'dict'>\n",
      "Olympics\n",
      "Row(Event_time='Sat Jul 24 20:23:02 +0000 2021', Hashtags='Olympics', Text='RT @FierceFemale2: The #Olympics are #OlympicsErasingWomen\\nBy allowing males to compete in the competition for women. This means women are…', TweetID=1419030385577582594, UserID=1139450771907518465)\n",
      "<class 'dict'>\n",
      "<class 'dict'>\n",
      "<class 'dict'>\n",
      "<class 'dict'>\n",
      "<class 'dict'>\n",
      "<class 'dict'>\n",
      "<class 'dict'>\n",
      "<class 'dict'>\n",
      "<class 'dict'>\n",
      "Uganda\n",
      "Row(Event_time='Sat Jul 24 20:37:25 +0000 2021', Hashtags='Uganda', Text=\"RT @observerug: #Uganda's first ever rower at the #Olympics Kathleen Grace Noble today qualified for the semi-finals after posting a time o…\", TweetID=1419034002837671942, UserID=1188562979400441857)\n",
      "<class 'dict'>\n",
      "<class 'dict'>\n",
      "<class 'dict'>\n",
      "<class 'dict'>\n",
      "Olympics\n",
      "Row(Event_time='Sat Jul 24 20:37:25 +0000 2021', Hashtags='Olympics', Text='Watching Olympic Taekwondo and I don’t know what the hell is going on LOL #Olympics', TweetID=1419034005576556552, UserID=1282097042)\n",
      "<class 'dict'>\n",
      "<class 'dict'>\n",
      "<class 'dict'>\n",
      "<class 'dict'>\n",
      "<class 'dict'>\n",
      "Tokyo2020\n",
      "Row(Event_time='Sat Jul 24 20:37:26 +0000 2021', Hashtags='Tokyo2020', Text=\"RT @standardsport: The first gold medalist of #Tokyo2020, China's Yang Qian!\\n\\nJust 21 years old, what a star.\\n\\nLIVE: https://t.co/12ErhvxbZ…\", TweetID=1419034007443054599, UserID=1113330275449225216)\n",
      "<class 'dict'>\n",
      "<class 'dict'>\n",
      "<class 'dict'>\n",
      "<class 'dict'>\n",
      "<class 'dict'>\n",
      "<class 'dict'>\n",
      "مرگ_بر_جمهوری_اسلامی\n",
      "Row(Event_time='Sat Jul 24 20:37:26 +0000 2021', Hashtags='مرگ_بر_جمهوری_اسلامی', Text='@Olympics @ISSF_Shooting Shame on you for allowing terrorists to compete in the Olympics\\n\\n#مرگ_بر_جمهوری_اسلامی', TweetID=1419034009158443008, UserID=2729967866)\n",
      "<class 'dict'>\n",
      "<class 'dict'>\n",
      "<class 'dict'>\n",
      "<class 'dict'>\n",
      "<class 'dict'>\n",
      "Olympics\n",
      "Row(Event_time='Sat Jul 24 20:37:27 +0000 2021', Hashtags='Olympics', Text='RT @FLOTUS: 17-10 Win!\\xa0So proud of you @usab3x3! #Olympics', TweetID=1419034013117861888, UserID=1258974533698158593)\n",
      "<class 'dict'>\n",
      "<class 'dict'>\n",
      "<class 'dict'>\n",
      "<class 'dict'>\n",
      "skibb2tokyo\n",
      "Row(Event_time='Sat Jul 24 20:37:28 +0000 2021', Hashtags='skibb2tokyo', Text='RT @skibbrowing: 1st place for Paul &amp; Fintan in the heat💪🏼💪🏼straight through to the A/B Semis 🔥 #skibb2tokyo #Tokyo2020 #Olympics #furtherw…', TweetID=1419034017320652804, UserID=3057670547)\n",
      "<class 'dict'>\n",
      "<class 'dict'>\n",
      "<class 'dict'>\n",
      "AI\n",
      "Row(Event_time='Sat Jul 24 20:37:29 +0000 2021', Hashtags='AI', Text='RT @alvinfoo: Japan puts on a spectacular #AI controlled performance by #Drones at the #Olympics. https://t.co/djd6b0Mo9Q', TweetID=1419034020181123077, UserID=882837224357756929)\n",
      "<class 'dict'>\n",
      "<class 'dict'>\n",
      "RaiseARacket\n",
      "Row(Event_time='Sat Jul 24 20:37:29 +0000 2021', Hashtags='RaiseARacket', Text='RT @bwfmedia: What. A. Sight.\\n\\nThat’s it. That’s the tweet.\\n\\n#RaiseARacket 🏸 at #Tokyo2020 #Olympics for 🇮🇩 the Minions. https://t.co/ZGp25…', TweetID=1419034022408200192, UserID=1107173158883225606)\n",
      "<class 'dict'>\n",
      "<class 'dict'>\n",
      "<class 'dict'>\n",
      "RaiseARacket\n",
      "Row(Event_time='Sat Jul 24 20:37:30 +0000 2021', Hashtags='RaiseARacket', Text='RT @bwfmedia: What. A. Sight.\\n\\nThat’s it. That’s the tweet.\\n\\n#RaiseARacket 🏸 at #Tokyo2020 #Olympics for 🇮🇩 the Minions. https://t.co/ZGp25…', TweetID=1419034025134489600, UserID=2489470136)\n",
      "<class 'dict'>\n",
      "<class 'dict'>\n",
      "<class 'dict'>\n",
      "<class 'dict'>\n",
      "Olympics\n",
      "Row(Event_time='Sat Jul 24 20:37:31 +0000 2021', Hashtags='Olympics', Text='RT @peppypeach: Tears of joy \\U0001f972 #Olympics #น้องเทนนิส 🥇 https://t.co/jfk5RZAAPu', TweetID=1419034028041113601, UserID=903815942144122881)\n",
      "<class 'dict'>\n",
      "Tokyo2020\n",
      "Row(Event_time='Sat Jul 24 20:37:31 +0000 2021', Hashtags='Tokyo2020', Text='RT @TheZaiduLeaks: As China will occupy Pakistan we can claim all Medal won by China In Olympics.\\n\\n#Tokyo2020', TweetID=1419034029282578435, UserID=464405291)\n",
      "<class 'dict'>\n",
      "<class 'dict'>\n",
      "Olympics\n",
      "Row(Event_time='Sat Jul 24 20:37:32 +0000 2021', Hashtags='Olympics', Text=\"RT @ZENIADCUNHA: Mirabai Chanu says she's been home for just 5 days in last 5 years &amp; will now go home with the #Olympics medal &amp; eat her m…\", TweetID=1419034031056846849, UserID=25984209)\n",
      "<class 'dict'>\n",
      "OpeningCeremony\n",
      "Row(Event_time='Sat Jul 24 20:42:22 +0000 2021', Hashtags='OpeningCeremony', Text=\"Want to know what it was like at the @Olympics #OpeningCeremony for @USABaseball's @eddyalvarez90? Read/listen/watc… https://t.co/P0uaDkxYvZ\", TweetID=1419035251167350788, UserID=27296085)\n",
      "<class 'dict'>\n",
      "<class 'dict'>\n",
      "<class 'dict'>\n",
      "<class 'dict'>\n",
      "<class 'dict'>\n",
      "<class 'dict'>\n",
      "<class 'dict'>\n",
      "Olympics\n",
      "Row(Event_time='Sat Jul 24 20:42:23 +0000 2021', Hashtags='Olympics', Text='RT @rockerskating: Wow I love the #Olympics https://t.co/oAg2RgFFGT', TweetID=1419035254577188867, UserID=934737515738578944)\n",
      "<class 'dict'>\n",
      "<class 'dict'>\n",
      "<class 'dict'>\n",
      "<class 'dict'>\n",
      "<class 'dict'>\n",
      "<class 'dict'>\n",
      "<class 'dict'>\n",
      "Olympics\n",
      "Row(Event_time='Sat Jul 24 20:42:25 +0000 2021', Hashtags='Olympics', Text='RT @FierceFemale2: Laurel Hubbard, trans identified man, joins weightlifting for women. \\n\\n#Olympics \\n#OlympicsErasingWomen \\n#unsporting\\n#Sa…', TweetID=1419035261145690116, UserID=1331001814523764737)\n",
      "<class 'dict'>\n",
      "<class 'dict'>\n",
      "Olympics\n",
      "Row(Event_time='Sat Jul 24 20:42:25 +0000 2021', Hashtags='Olympics', Text='RT @KanimozhiDMK: A brilliant start for India @Tokyo2020 on the very first day of #Olympics. Heartiest Congratulations @mirabai_chanu on se…', TweetID=1419035261292322818, UserID=1284212759442288641)\n",
      "<class 'dict'>\n",
      "<class 'dict'>\n",
      "<class 'dict'>\n",
      "Tokyo2020\n",
      "Row(Event_time='Sat Jul 24 20:42:25 +0000 2021', Hashtags='Tokyo2020', Text=\"RT @Olympics: We have the first Olympic champion of #Tokyo2020!\\n\\nChina's Yang Qian takes gold 🥇 with a new Olympic Record of 251.8 points.…\", TweetID=1419035262542303233, UserID=44278640)\n",
      "<class 'dict'>\n",
      "<class 'dict'>\n",
      "BRA\n",
      "Row(Event_time='Sat Jul 24 20:42:25 +0000 2021', Hashtags='BRA', Text='BUT I JUST KEEP GETTING DEAD ENDS  https://t.co/JHjx7Ia96s #BRA #DONDA #Lafesse #Olympics\\xa0 #Tokyo2020\\xa0 #NHLDraft… https://t.co/SpKxDe2SU4', TweetID=1419035263003766784, UserID=1385741170056310784)\n",
      "<class 'dict'>\n",
      "IRENE\n",
      "Row(Event_time='Sat Jul 24 20:42:25 +0000 2021', Hashtags='IRENE', Text=\"RT @irene_global: #IRENE is once again gaining attention on K-Twitter for her archery skills after the Women's National Archery players of…\", TweetID=1419035263024603136, UserID=3895310652)\n",
      "<class 'dict'>\n",
      "olympics\n",
      "Row(Event_time='Sat Jul 24 20:42:25 +0000 2021', Hashtags='olympics', Text=\"RT @JohnCleese: You know which event I'll be watching! @montypython #olympics #tokyo2020 #silly https://t.co/tEoy7MEVIi\", TweetID=1419035263507079174, UserID=104783146)\n",
      "<class 'dict'>\n",
      "<class 'dict'>\n",
      "<class 'dict'>\n",
      "<class 'dict'>\n",
      "<class 'dict'>\n",
      "<class 'dict'>\n",
      "<class 'dict'>\n",
      "<class 'dict'>\n",
      "<class 'dict'>\n",
      "Olympics\n",
      "Row(Event_time='Sat Jul 24 20:42:28 +0000 2021', Hashtags='Olympics', Text='RT @rockerskating: Wow I love the #Olympics https://t.co/oAg2RgFFGT', TweetID=1419035273162153985, UserID=1004400479474860032)\n",
      "<class 'dict'>\n",
      "<class 'dict'>\n",
      "<class 'dict'>\n",
      "<class 'dict'>\n",
      "<class 'dict'>\n",
      "<class 'dict'>\n",
      "Tokyo2020\n",
      "Row(Event_time='Sat Jul 24 20:42:28 +0000 2021', Hashtags='Tokyo2020', Text=\"RT @standardsport: The first gold medalist of #Tokyo2020, China's Yang Qian!\\n\\nJust 21 years old, what a star.\\n\\nLIVE: https://t.co/12ErhvxbZ…\", TweetID=1419035275867590656, UserID=44278640)\n",
      "<class 'dict'>\n",
      "<class 'dict'>\n",
      "Tokyo2020\n",
      "Row(Event_time='Sat Jul 24 20:42:29 +0000 2021', Hashtags='Tokyo2020', Text='RT @Alhilal_EN: 💚 All the best 🙏🏻\\nOur Green Falcons 🦅 \\n#Tokyo2020 🇸🇦🆚🇩🇪 \\n#Olympics  ⚽️ https://t.co/Zum7tQnL8i', TweetID=1419035277344088068, UserID=1382857909038690305)\n",
      "<class 'dict'>\n",
      "OpeningCeremony\n",
      "Row(Event_time='Sat Jul 24 20:42:29 +0000 2021', Hashtags='OpeningCeremony', Text='RT @Tokyo2020: 🥉🥇🥈 Are they the real MVPs of the #OpeningCeremony❓\\n\\n#Tokyo2020 | #Pictograms | #Olympics https://t.co/7SJ0nPCqke', TweetID=1419035277432135684, UserID=351089221)\n",
      "<class 'dict'>\n",
      "<class 'dict'>\n",
      "<class 'dict'>\n",
      "thecreek\n",
      "Row(Event_time='Sat Jul 24 20:42:29 +0000 2021', Hashtags='thecreek', Text='Come hang out at #thecreek with us, the Olympics are on and the beer fridge is full of goodies! 🍻 #olympics \\n\\nPint… https://t.co/uoMmDJOykq', TweetID=1419035278044385282, UserID=435440622)\n",
      "<class 'dict'>\n",
      "<class 'dict'>\n",
      "<class 'dict'>\n",
      "olympics\n",
      "Row(Event_time='Sat Jul 24 20:42:30 +0000 2021', Hashtags='olympics', Text=\"RT @JohnCleese: You know which event I'll be watching! @montypython #olympics #tokyo2020 #silly https://t.co/tEoy7MEVIi\", TweetID=1419035281169260545, UserID=701777076391514112)\n",
      "<class 'dict'>\n",
      "<class 'dict'>\n",
      "<class 'dict'>\n",
      "<class 'dict'>\n",
      "<class 'dict'>\n",
      "<class 'dict'>\n",
      "<class 'dict'>\n",
      "<class 'dict'>\n"
     ]
    },
    {
     "ename": "KeyboardInterrupt",
     "evalue": "",
     "output_type": "error",
     "traceback": [
      "\u001b[0;31m---------------------------------------------------------------------------\u001b[0m",
      "\u001b[0;31mKeyboardInterrupt\u001b[0m                         Traceback (most recent call last)",
      "\u001b[0;32m<ipython-input-28-801399ec5d1b>\u001b[0m in \u001b[0;36m<module>\u001b[0;34m\u001b[0m\n\u001b[1;32m      2\u001b[0m \u001b[0mrows\u001b[0m \u001b[0;34m=\u001b[0m \u001b[0;34m[\u001b[0m\u001b[0;34m]\u001b[0m\u001b[0;34m\u001b[0m\u001b[0;34m\u001b[0m\u001b[0m\n\u001b[1;32m      3\u001b[0m \u001b[0;34m\u001b[0m\u001b[0m\n\u001b[0;32m----> 4\u001b[0;31m \u001b[0;32mfor\u001b[0m \u001b[0mmsg\u001b[0m \u001b[0;32min\u001b[0m \u001b[0mconsumer\u001b[0m\u001b[0;34m:\u001b[0m\u001b[0;34m\u001b[0m\u001b[0;34m\u001b[0m\u001b[0m\n\u001b[0m\u001b[1;32m      5\u001b[0m \u001b[0;34m\u001b[0m\u001b[0m\n\u001b[1;32m      6\u001b[0m     \u001b[0mrow\u001b[0m \u001b[0;34m=\u001b[0m \u001b[0mmsg\u001b[0m\u001b[0;34m.\u001b[0m\u001b[0mvalue\u001b[0m\u001b[0;34m\u001b[0m\u001b[0;34m\u001b[0m\u001b[0m\n",
      "\u001b[0;32m~/trainig_material/anaconda3/lib/python3.7/site-packages/kafka/consumer/group.py\u001b[0m in \u001b[0;36m__next__\u001b[0;34m(self)\u001b[0m\n\u001b[1;32m   1191\u001b[0m             \u001b[0;32mreturn\u001b[0m \u001b[0mself\u001b[0m\u001b[0;34m.\u001b[0m\u001b[0mnext_v1\u001b[0m\u001b[0;34m(\u001b[0m\u001b[0;34m)\u001b[0m\u001b[0;34m\u001b[0m\u001b[0;34m\u001b[0m\u001b[0m\n\u001b[1;32m   1192\u001b[0m         \u001b[0;32melse\u001b[0m\u001b[0;34m:\u001b[0m\u001b[0;34m\u001b[0m\u001b[0;34m\u001b[0m\u001b[0m\n\u001b[0;32m-> 1193\u001b[0;31m             \u001b[0;32mreturn\u001b[0m \u001b[0mself\u001b[0m\u001b[0;34m.\u001b[0m\u001b[0mnext_v2\u001b[0m\u001b[0;34m(\u001b[0m\u001b[0;34m)\u001b[0m\u001b[0;34m\u001b[0m\u001b[0;34m\u001b[0m\u001b[0m\n\u001b[0m\u001b[1;32m   1194\u001b[0m \u001b[0;34m\u001b[0m\u001b[0m\n\u001b[1;32m   1195\u001b[0m     \u001b[0;32mdef\u001b[0m \u001b[0mnext_v2\u001b[0m\u001b[0;34m(\u001b[0m\u001b[0mself\u001b[0m\u001b[0;34m)\u001b[0m\u001b[0;34m:\u001b[0m\u001b[0;34m\u001b[0m\u001b[0;34m\u001b[0m\u001b[0m\n",
      "\u001b[0;32m~/trainig_material/anaconda3/lib/python3.7/site-packages/kafka/consumer/group.py\u001b[0m in \u001b[0;36mnext_v2\u001b[0;34m(self)\u001b[0m\n\u001b[1;32m   1199\u001b[0m                 \u001b[0mself\u001b[0m\u001b[0;34m.\u001b[0m\u001b[0m_iterator\u001b[0m \u001b[0;34m=\u001b[0m \u001b[0mself\u001b[0m\u001b[0;34m.\u001b[0m\u001b[0m_message_generator_v2\u001b[0m\u001b[0;34m(\u001b[0m\u001b[0;34m)\u001b[0m\u001b[0;34m\u001b[0m\u001b[0;34m\u001b[0m\u001b[0m\n\u001b[1;32m   1200\u001b[0m             \u001b[0;32mtry\u001b[0m\u001b[0;34m:\u001b[0m\u001b[0;34m\u001b[0m\u001b[0;34m\u001b[0m\u001b[0m\n\u001b[0;32m-> 1201\u001b[0;31m                 \u001b[0;32mreturn\u001b[0m \u001b[0mnext\u001b[0m\u001b[0;34m(\u001b[0m\u001b[0mself\u001b[0m\u001b[0;34m.\u001b[0m\u001b[0m_iterator\u001b[0m\u001b[0;34m)\u001b[0m\u001b[0;34m\u001b[0m\u001b[0;34m\u001b[0m\u001b[0m\n\u001b[0m\u001b[1;32m   1202\u001b[0m             \u001b[0;32mexcept\u001b[0m \u001b[0mStopIteration\u001b[0m\u001b[0;34m:\u001b[0m\u001b[0;34m\u001b[0m\u001b[0;34m\u001b[0m\u001b[0m\n\u001b[1;32m   1203\u001b[0m                 \u001b[0mself\u001b[0m\u001b[0;34m.\u001b[0m\u001b[0m_iterator\u001b[0m \u001b[0;34m=\u001b[0m \u001b[0;32mNone\u001b[0m\u001b[0;34m\u001b[0m\u001b[0;34m\u001b[0m\u001b[0m\n",
      "\u001b[0;32m~/trainig_material/anaconda3/lib/python3.7/site-packages/kafka/consumer/group.py\u001b[0m in \u001b[0;36m_message_generator_v2\u001b[0;34m(self)\u001b[0m\n\u001b[1;32m   1114\u001b[0m     \u001b[0;32mdef\u001b[0m \u001b[0m_message_generator_v2\u001b[0m\u001b[0;34m(\u001b[0m\u001b[0mself\u001b[0m\u001b[0;34m)\u001b[0m\u001b[0;34m:\u001b[0m\u001b[0;34m\u001b[0m\u001b[0;34m\u001b[0m\u001b[0m\n\u001b[1;32m   1115\u001b[0m         \u001b[0mtimeout_ms\u001b[0m \u001b[0;34m=\u001b[0m \u001b[0;36m1000\u001b[0m \u001b[0;34m*\u001b[0m \u001b[0;34m(\u001b[0m\u001b[0mself\u001b[0m\u001b[0;34m.\u001b[0m\u001b[0m_consumer_timeout\u001b[0m \u001b[0;34m-\u001b[0m \u001b[0mtime\u001b[0m\u001b[0;34m.\u001b[0m\u001b[0mtime\u001b[0m\u001b[0;34m(\u001b[0m\u001b[0;34m)\u001b[0m\u001b[0;34m)\u001b[0m\u001b[0;34m\u001b[0m\u001b[0;34m\u001b[0m\u001b[0m\n\u001b[0;32m-> 1116\u001b[0;31m         \u001b[0mrecord_map\u001b[0m \u001b[0;34m=\u001b[0m \u001b[0mself\u001b[0m\u001b[0;34m.\u001b[0m\u001b[0mpoll\u001b[0m\u001b[0;34m(\u001b[0m\u001b[0mtimeout_ms\u001b[0m\u001b[0;34m=\u001b[0m\u001b[0mtimeout_ms\u001b[0m\u001b[0;34m,\u001b[0m \u001b[0mupdate_offsets\u001b[0m\u001b[0;34m=\u001b[0m\u001b[0;32mFalse\u001b[0m\u001b[0;34m)\u001b[0m\u001b[0;34m\u001b[0m\u001b[0;34m\u001b[0m\u001b[0m\n\u001b[0m\u001b[1;32m   1117\u001b[0m         \u001b[0;32mfor\u001b[0m \u001b[0mtp\u001b[0m\u001b[0;34m,\u001b[0m \u001b[0mrecords\u001b[0m \u001b[0;32min\u001b[0m \u001b[0msix\u001b[0m\u001b[0;34m.\u001b[0m\u001b[0miteritems\u001b[0m\u001b[0;34m(\u001b[0m\u001b[0mrecord_map\u001b[0m\u001b[0;34m)\u001b[0m\u001b[0;34m:\u001b[0m\u001b[0;34m\u001b[0m\u001b[0;34m\u001b[0m\u001b[0m\n\u001b[1;32m   1118\u001b[0m             \u001b[0;31m# Generators are stateful, and it is possible that the tp / records\u001b[0m\u001b[0;34m\u001b[0m\u001b[0;34m\u001b[0m\u001b[0;34m\u001b[0m\u001b[0m\n",
      "\u001b[0;32m~/trainig_material/anaconda3/lib/python3.7/site-packages/kafka/consumer/group.py\u001b[0m in \u001b[0;36mpoll\u001b[0;34m(self, timeout_ms, max_records, update_offsets)\u001b[0m\n\u001b[1;32m    653\u001b[0m         \u001b[0mremaining\u001b[0m \u001b[0;34m=\u001b[0m \u001b[0mtimeout_ms\u001b[0m\u001b[0;34m\u001b[0m\u001b[0;34m\u001b[0m\u001b[0m\n\u001b[1;32m    654\u001b[0m         \u001b[0;32mwhile\u001b[0m \u001b[0;32mTrue\u001b[0m\u001b[0;34m:\u001b[0m\u001b[0;34m\u001b[0m\u001b[0;34m\u001b[0m\u001b[0m\n\u001b[0;32m--> 655\u001b[0;31m             \u001b[0mrecords\u001b[0m \u001b[0;34m=\u001b[0m \u001b[0mself\u001b[0m\u001b[0;34m.\u001b[0m\u001b[0m_poll_once\u001b[0m\u001b[0;34m(\u001b[0m\u001b[0mremaining\u001b[0m\u001b[0;34m,\u001b[0m \u001b[0mmax_records\u001b[0m\u001b[0;34m,\u001b[0m \u001b[0mupdate_offsets\u001b[0m\u001b[0;34m=\u001b[0m\u001b[0mupdate_offsets\u001b[0m\u001b[0;34m)\u001b[0m\u001b[0;34m\u001b[0m\u001b[0;34m\u001b[0m\u001b[0m\n\u001b[0m\u001b[1;32m    656\u001b[0m             \u001b[0;32mif\u001b[0m \u001b[0mrecords\u001b[0m\u001b[0;34m:\u001b[0m\u001b[0;34m\u001b[0m\u001b[0;34m\u001b[0m\u001b[0m\n\u001b[1;32m    657\u001b[0m                 \u001b[0;32mreturn\u001b[0m \u001b[0mrecords\u001b[0m\u001b[0;34m\u001b[0m\u001b[0;34m\u001b[0m\u001b[0m\n",
      "\u001b[0;32m~/trainig_material/anaconda3/lib/python3.7/site-packages/kafka/consumer/group.py\u001b[0m in \u001b[0;36m_poll_once\u001b[0;34m(self, timeout_ms, max_records, update_offsets)\u001b[0m\n\u001b[1;32m    700\u001b[0m \u001b[0;34m\u001b[0m\u001b[0m\n\u001b[1;32m    701\u001b[0m         \u001b[0mtimeout_ms\u001b[0m \u001b[0;34m=\u001b[0m \u001b[0mmin\u001b[0m\u001b[0;34m(\u001b[0m\u001b[0mtimeout_ms\u001b[0m\u001b[0;34m,\u001b[0m \u001b[0mself\u001b[0m\u001b[0;34m.\u001b[0m\u001b[0m_coordinator\u001b[0m\u001b[0;34m.\u001b[0m\u001b[0mtime_to_next_poll\u001b[0m\u001b[0;34m(\u001b[0m\u001b[0;34m)\u001b[0m \u001b[0;34m*\u001b[0m \u001b[0;36m1000\u001b[0m\u001b[0;34m)\u001b[0m\u001b[0;34m\u001b[0m\u001b[0;34m\u001b[0m\u001b[0m\n\u001b[0;32m--> 702\u001b[0;31m         \u001b[0mself\u001b[0m\u001b[0;34m.\u001b[0m\u001b[0m_client\u001b[0m\u001b[0;34m.\u001b[0m\u001b[0mpoll\u001b[0m\u001b[0;34m(\u001b[0m\u001b[0mtimeout_ms\u001b[0m\u001b[0;34m=\u001b[0m\u001b[0mtimeout_ms\u001b[0m\u001b[0;34m)\u001b[0m\u001b[0;34m\u001b[0m\u001b[0;34m\u001b[0m\u001b[0m\n\u001b[0m\u001b[1;32m    703\u001b[0m         \u001b[0;31m# after the long poll, we should check whether the group needs to rebalance\u001b[0m\u001b[0;34m\u001b[0m\u001b[0;34m\u001b[0m\u001b[0;34m\u001b[0m\u001b[0m\n\u001b[1;32m    704\u001b[0m         \u001b[0;31m# prior to returning data so that the group can stabilize faster\u001b[0m\u001b[0;34m\u001b[0m\u001b[0;34m\u001b[0m\u001b[0;34m\u001b[0m\u001b[0m\n",
      "\u001b[0;32m~/trainig_material/anaconda3/lib/python3.7/site-packages/kafka/client_async.py\u001b[0m in \u001b[0;36mpoll\u001b[0;34m(self, timeout_ms, future)\u001b[0m\n\u001b[1;32m    600\u001b[0m                     \u001b[0mtimeout\u001b[0m \u001b[0;34m=\u001b[0m \u001b[0mmax\u001b[0m\u001b[0;34m(\u001b[0m\u001b[0;36m0\u001b[0m\u001b[0;34m,\u001b[0m \u001b[0mtimeout\u001b[0m\u001b[0;34m)\u001b[0m  \u001b[0;31m# avoid negative timeouts\u001b[0m\u001b[0;34m\u001b[0m\u001b[0;34m\u001b[0m\u001b[0m\n\u001b[1;32m    601\u001b[0m \u001b[0;34m\u001b[0m\u001b[0m\n\u001b[0;32m--> 602\u001b[0;31m                 \u001b[0mself\u001b[0m\u001b[0;34m.\u001b[0m\u001b[0m_poll\u001b[0m\u001b[0;34m(\u001b[0m\u001b[0mtimeout\u001b[0m \u001b[0;34m/\u001b[0m \u001b[0;36m1000\u001b[0m\u001b[0;34m)\u001b[0m\u001b[0;34m\u001b[0m\u001b[0;34m\u001b[0m\u001b[0m\n\u001b[0m\u001b[1;32m    603\u001b[0m \u001b[0;34m\u001b[0m\u001b[0m\n\u001b[1;32m    604\u001b[0m             \u001b[0;31m# called without the lock to avoid deadlock potential\u001b[0m\u001b[0;34m\u001b[0m\u001b[0;34m\u001b[0m\u001b[0;34m\u001b[0m\u001b[0m\n",
      "\u001b[0;32m~/trainig_material/anaconda3/lib/python3.7/site-packages/kafka/client_async.py\u001b[0m in \u001b[0;36m_poll\u001b[0;34m(self, timeout)\u001b[0m\n\u001b[1;32m    632\u001b[0m \u001b[0;34m\u001b[0m\u001b[0m\n\u001b[1;32m    633\u001b[0m         \u001b[0mstart_select\u001b[0m \u001b[0;34m=\u001b[0m \u001b[0mtime\u001b[0m\u001b[0;34m.\u001b[0m\u001b[0mtime\u001b[0m\u001b[0;34m(\u001b[0m\u001b[0;34m)\u001b[0m\u001b[0;34m\u001b[0m\u001b[0;34m\u001b[0m\u001b[0m\n\u001b[0;32m--> 634\u001b[0;31m         \u001b[0mready\u001b[0m \u001b[0;34m=\u001b[0m \u001b[0mself\u001b[0m\u001b[0;34m.\u001b[0m\u001b[0m_selector\u001b[0m\u001b[0;34m.\u001b[0m\u001b[0mselect\u001b[0m\u001b[0;34m(\u001b[0m\u001b[0mtimeout\u001b[0m\u001b[0;34m)\u001b[0m\u001b[0;34m\u001b[0m\u001b[0;34m\u001b[0m\u001b[0m\n\u001b[0m\u001b[1;32m    635\u001b[0m         \u001b[0mend_select\u001b[0m \u001b[0;34m=\u001b[0m \u001b[0mtime\u001b[0m\u001b[0;34m.\u001b[0m\u001b[0mtime\u001b[0m\u001b[0;34m(\u001b[0m\u001b[0;34m)\u001b[0m\u001b[0;34m\u001b[0m\u001b[0;34m\u001b[0m\u001b[0m\n\u001b[1;32m    636\u001b[0m         \u001b[0;32mif\u001b[0m \u001b[0mself\u001b[0m\u001b[0;34m.\u001b[0m\u001b[0m_sensors\u001b[0m\u001b[0;34m:\u001b[0m\u001b[0;34m\u001b[0m\u001b[0;34m\u001b[0m\u001b[0m\n",
      "\u001b[0;32m~/trainig_material/anaconda3/lib/python3.7/selectors.py\u001b[0m in \u001b[0;36mselect\u001b[0;34m(self, timeout)\u001b[0m\n\u001b[1;32m    466\u001b[0m             \u001b[0mready\u001b[0m \u001b[0;34m=\u001b[0m \u001b[0;34m[\u001b[0m\u001b[0;34m]\u001b[0m\u001b[0;34m\u001b[0m\u001b[0;34m\u001b[0m\u001b[0m\n\u001b[1;32m    467\u001b[0m             \u001b[0;32mtry\u001b[0m\u001b[0;34m:\u001b[0m\u001b[0;34m\u001b[0m\u001b[0;34m\u001b[0m\u001b[0m\n\u001b[0;32m--> 468\u001b[0;31m                 \u001b[0mfd_event_list\u001b[0m \u001b[0;34m=\u001b[0m \u001b[0mself\u001b[0m\u001b[0;34m.\u001b[0m\u001b[0m_selector\u001b[0m\u001b[0;34m.\u001b[0m\u001b[0mpoll\u001b[0m\u001b[0;34m(\u001b[0m\u001b[0mtimeout\u001b[0m\u001b[0;34m,\u001b[0m \u001b[0mmax_ev\u001b[0m\u001b[0;34m)\u001b[0m\u001b[0;34m\u001b[0m\u001b[0;34m\u001b[0m\u001b[0m\n\u001b[0m\u001b[1;32m    469\u001b[0m             \u001b[0;32mexcept\u001b[0m \u001b[0mInterruptedError\u001b[0m\u001b[0;34m:\u001b[0m\u001b[0;34m\u001b[0m\u001b[0;34m\u001b[0m\u001b[0m\n\u001b[1;32m    470\u001b[0m                 \u001b[0;32mreturn\u001b[0m \u001b[0mready\u001b[0m\u001b[0;34m\u001b[0m\u001b[0;34m\u001b[0m\u001b[0m\n",
      "\u001b[0;31mKeyboardInterrupt\u001b[0m: "
     ]
    }
   ],
   "source": [
    "# not utilizing a structured streaming environment, this will allow us to save tweets in consumer \n",
    "#nd not neet to run producer and streaming simultaneosly avoiding error:420\n",
    "consumer = KafkaConsumer('final_twitter', group_id=None, auto_offset_reset='earliest', bootstrap_servers=['localhost:9092'], value_deserializer=lambda m: json.loads(m)) \n",
    "#list of dicts, this will save tweets from consumer\n",
    "rows = []\n",
    "\n",
    "for msg in consumer:\n",
    "    # this converts consumer to type dict\n",
    "    row = msg.value\n",
    "    # pull the hashtags\n",
    "    if len(row['entities']['hashtags']) > 0:\n",
    "        hashtag_text = row['entities']['hashtags'][0]['text']\n",
    "    else:\n",
    "        continue\n",
    "        hashtag_text = row['entities']['hashtags']\n",
    "    # create a row and add it to the list, we only need Tweet Id, User Id, Text, hashtags, and event time\n",
    "    row = Row(TweetID=row['id'], Text=row['text'], UserID=row['user']['id'], Hashtags=hashtag_text, Event_time=row['created_at'])\n",
    "    rows.append(row)\n",
    "    print(row)"
   ]
  },
  {
   "cell_type": "code",
   "execution_count": 22,
   "metadata": {
    "id": "74QEdb5nX7qG"
   },
   "outputs": [
    {
     "name": "stdout",
     "output_type": "stream",
     "text": [
      "[Row(Event_time='Sat Jul 24 20:22:57 +0000 2021', Hashtags='Tokyo2020', Text='I agree with @Devin_Heroux. I would be happy if Japanese 7-11 catered my wedding. \\n#Tokyo2020 \\n https://t.co/VYres1sv3U', TweetID=1419030363054088195, UserID=22720902), Row(Event_time='Sat Jul 24 20:22:58 +0000 2021', Hashtags='Olympics2021', Text='RT @_AfricanSoil: Black population in USA is less than 20% but check their #Olympics2021 team\\n\\nIn South Africa, 80% + of the population is…', TweetID=1419030365331673273, UserID=82641042), Row(Event_time='Sat Jul 24 20:22:58 +0000 2021', Hashtags='Olympics', Text='RT @mrdanwalker: Lots of people have asked about the full @mariadecezar #Olympics incident today 🏖😂\\n5 years ago this week, on Copacabana be…', TweetID=1419030367957397510, UserID=360518857), Row(Event_time='Sat Jul 24 20:22:58 +0000 2021', Hashtags='bronze', Text='RT @Olympics: It’s #bronze for @DariaBilodid of #UKR in the #judo women’s 48 kg event. \\n\\nShe takes this medal on her #Olympics debut! \\n\\n#St…', TweetID=1419030369039360002, UserID=4594967060), Row(Event_time='Sat Jul 24 20:23:00 +0000 2021', Hashtags='Olympics', Text='RT @EJinAction: The #Olympics have nothing on the #NationalBabyTrials.  The Cutest Stars of the future.  Let me see your flag  🇯🇲 🇹🇹 🇯🇵 🇧🇷…', TweetID=1419030374106214405, UserID=26209691), Row(Event_time='Sat Jul 24 20:23:01 +0000 2021', Hashtags='TokyoOlympics', Text='RT @mtgreenee: So the #TokyoOlympics has terrorist, trans, and Americans who hate our flag competing. \\n\\nNo thanks.', TweetID=1419030380645167105, UserID=1368422614725767169), Row(Event_time='Sat Jul 24 20:23:02 +0000 2021', Hashtags='Olympics', Text='RT @todokugou: Mentally, we are here. \\n#Olympics #Tokyo2020 #OlympicGames https://t.co/UvpXkPDbLx', TweetID=1419030382515609600, UserID=1180031821704155136), Row(Event_time='Sat Jul 24 20:23:02 +0000 2021', Hashtags='Olympics', Text='RT @FierceFemale2: The #Olympics are #OlympicsErasingWomen\\nBy allowing males to compete in the competition for women. This means women are…', TweetID=1419030385577582594, UserID=1139450771907518465), Row(Event_time='Sat Jul 24 20:37:25 +0000 2021', Hashtags='Uganda', Text=\"RT @observerug: #Uganda's first ever rower at the #Olympics Kathleen Grace Noble today qualified for the semi-finals after posting a time o…\", TweetID=1419034002837671942, UserID=1188562979400441857), Row(Event_time='Sat Jul 24 20:37:25 +0000 2021', Hashtags='Olympics', Text='Watching Olympic Taekwondo and I don’t know what the hell is going on LOL #Olympics', TweetID=1419034005576556552, UserID=1282097042), Row(Event_time='Sat Jul 24 20:37:26 +0000 2021', Hashtags='Tokyo2020', Text=\"RT @standardsport: The first gold medalist of #Tokyo2020, China's Yang Qian!\\n\\nJust 21 years old, what a star.\\n\\nLIVE: https://t.co/12ErhvxbZ…\", TweetID=1419034007443054599, UserID=1113330275449225216), Row(Event_time='Sat Jul 24 20:37:26 +0000 2021', Hashtags='مرگ_بر_جمهوری_اسلامی', Text='@Olympics @ISSF_Shooting Shame on you for allowing terrorists to compete in the Olympics\\n\\n#مرگ_بر_جمهوری_اسلامی', TweetID=1419034009158443008, UserID=2729967866), Row(Event_time='Sat Jul 24 20:37:27 +0000 2021', Hashtags='Olympics', Text='RT @FLOTUS: 17-10 Win!\\xa0So proud of you @usab3x3! #Olympics', TweetID=1419034013117861888, UserID=1258974533698158593), Row(Event_time='Sat Jul 24 20:37:28 +0000 2021', Hashtags='skibb2tokyo', Text='RT @skibbrowing: 1st place for Paul &amp; Fintan in the heat💪🏼💪🏼straight through to the A/B Semis 🔥 #skibb2tokyo #Tokyo2020 #Olympics #furtherw…', TweetID=1419034017320652804, UserID=3057670547), Row(Event_time='Sat Jul 24 20:37:29 +0000 2021', Hashtags='AI', Text='RT @alvinfoo: Japan puts on a spectacular #AI controlled performance by #Drones at the #Olympics. https://t.co/djd6b0Mo9Q', TweetID=1419034020181123077, UserID=882837224357756929), Row(Event_time='Sat Jul 24 20:37:29 +0000 2021', Hashtags='RaiseARacket', Text='RT @bwfmedia: What. A. Sight.\\n\\nThat’s it. That’s the tweet.\\n\\n#RaiseARacket 🏸 at #Tokyo2020 #Olympics for 🇮🇩 the Minions. https://t.co/ZGp25…', TweetID=1419034022408200192, UserID=1107173158883225606), Row(Event_time='Sat Jul 24 20:37:30 +0000 2021', Hashtags='RaiseARacket', Text='RT @bwfmedia: What. A. Sight.\\n\\nThat’s it. That’s the tweet.\\n\\n#RaiseARacket 🏸 at #Tokyo2020 #Olympics for 🇮🇩 the Minions. https://t.co/ZGp25…', TweetID=1419034025134489600, UserID=2489470136), Row(Event_time='Sat Jul 24 20:37:31 +0000 2021', Hashtags='Olympics', Text='RT @peppypeach: Tears of joy \\U0001f972 #Olympics #น้องเทนนิส 🥇 https://t.co/jfk5RZAAPu', TweetID=1419034028041113601, UserID=903815942144122881), Row(Event_time='Sat Jul 24 20:37:31 +0000 2021', Hashtags='Tokyo2020', Text='RT @TheZaiduLeaks: As China will occupy Pakistan we can claim all Medal won by China In Olympics.\\n\\n#Tokyo2020', TweetID=1419034029282578435, UserID=464405291), Row(Event_time='Sat Jul 24 20:37:32 +0000 2021', Hashtags='Olympics', Text=\"RT @ZENIADCUNHA: Mirabai Chanu says she's been home for just 5 days in last 5 years &amp; will now go home with the #Olympics medal &amp; eat her m…\", TweetID=1419034031056846849, UserID=25984209), Row(Event_time='Sat Jul 24 20:42:22 +0000 2021', Hashtags='OpeningCeremony', Text=\"Want to know what it was like at the @Olympics #OpeningCeremony for @USABaseball's @eddyalvarez90? Read/listen/watc… https://t.co/P0uaDkxYvZ\", TweetID=1419035251167350788, UserID=27296085), Row(Event_time='Sat Jul 24 20:42:23 +0000 2021', Hashtags='Olympics', Text='RT @rockerskating: Wow I love the #Olympics https://t.co/oAg2RgFFGT', TweetID=1419035254577188867, UserID=934737515738578944), Row(Event_time='Sat Jul 24 20:42:25 +0000 2021', Hashtags='Olympics', Text='RT @FierceFemale2: Laurel Hubbard, trans identified man, joins weightlifting for women. \\n\\n#Olympics \\n#OlympicsErasingWomen \\n#unsporting\\n#Sa…', TweetID=1419035261145690116, UserID=1331001814523764737), Row(Event_time='Sat Jul 24 20:42:25 +0000 2021', Hashtags='Olympics', Text='RT @KanimozhiDMK: A brilliant start for India @Tokyo2020 on the very first day of #Olympics. Heartiest Congratulations @mirabai_chanu on se…', TweetID=1419035261292322818, UserID=1284212759442288641), Row(Event_time='Sat Jul 24 20:42:25 +0000 2021', Hashtags='Tokyo2020', Text=\"RT @Olympics: We have the first Olympic champion of #Tokyo2020!\\n\\nChina's Yang Qian takes gold 🥇 with a new Olympic Record of 251.8 points.…\", TweetID=1419035262542303233, UserID=44278640), Row(Event_time='Sat Jul 24 20:42:25 +0000 2021', Hashtags='BRA', Text='BUT I JUST KEEP GETTING DEAD ENDS  https://t.co/JHjx7Ia96s #BRA #DONDA #Lafesse #Olympics\\xa0 #Tokyo2020\\xa0 #NHLDraft… https://t.co/SpKxDe2SU4', TweetID=1419035263003766784, UserID=1385741170056310784), Row(Event_time='Sat Jul 24 20:42:25 +0000 2021', Hashtags='IRENE', Text=\"RT @irene_global: #IRENE is once again gaining attention on K-Twitter for her archery skills after the Women's National Archery players of…\", TweetID=1419035263024603136, UserID=3895310652), Row(Event_time='Sat Jul 24 20:42:25 +0000 2021', Hashtags='olympics', Text=\"RT @JohnCleese: You know which event I'll be watching! @montypython #olympics #tokyo2020 #silly https://t.co/tEoy7MEVIi\", TweetID=1419035263507079174, UserID=104783146), Row(Event_time='Sat Jul 24 20:42:28 +0000 2021', Hashtags='Olympics', Text='RT @rockerskating: Wow I love the #Olympics https://t.co/oAg2RgFFGT', TweetID=1419035273162153985, UserID=1004400479474860032), Row(Event_time='Sat Jul 24 20:42:28 +0000 2021', Hashtags='Tokyo2020', Text=\"RT @standardsport: The first gold medalist of #Tokyo2020, China's Yang Qian!\\n\\nJust 21 years old, what a star.\\n\\nLIVE: https://t.co/12ErhvxbZ…\", TweetID=1419035275867590656, UserID=44278640), Row(Event_time='Sat Jul 24 20:42:29 +0000 2021', Hashtags='Tokyo2020', Text='RT @Alhilal_EN: 💚 All the best 🙏🏻\\nOur Green Falcons 🦅 \\n#Tokyo2020 🇸🇦🆚🇩🇪 \\n#Olympics  ⚽️ https://t.co/Zum7tQnL8i', TweetID=1419035277344088068, UserID=1382857909038690305), Row(Event_time='Sat Jul 24 20:42:29 +0000 2021', Hashtags='OpeningCeremony', Text='RT @Tokyo2020: 🥉🥇🥈 Are they the real MVPs of the #OpeningCeremony❓\\n\\n#Tokyo2020 | #Pictograms | #Olympics https://t.co/7SJ0nPCqke', TweetID=1419035277432135684, UserID=351089221), Row(Event_time='Sat Jul 24 20:42:29 +0000 2021', Hashtags='thecreek', Text='Come hang out at #thecreek with us, the Olympics are on and the beer fridge is full of goodies! 🍻 #olympics \\n\\nPint… https://t.co/uoMmDJOykq', TweetID=1419035278044385282, UserID=435440622), Row(Event_time='Sat Jul 24 20:42:30 +0000 2021', Hashtags='olympics', Text=\"RT @JohnCleese: You know which event I'll be watching! @montypython #olympics #tokyo2020 #silly https://t.co/tEoy7MEVIi\", TweetID=1419035281169260545, UserID=701777076391514112)]\n"
     ]
    }
   ],
   "source": [
    "# sanity check\n",
    "print(rows)"
   ]
  },
  {
   "cell_type": "code",
   "execution_count": 25,
   "metadata": {},
   "outputs": [],
   "source": [
    "# convert the list of dicts to a spark dataframe as per the requirements\n",
    "df = spark.createDataFrame(rows)"
   ]
  },
  {
   "cell_type": "code",
   "execution_count": 26,
   "metadata": {},
   "outputs": [
    {
     "name": "stdout",
     "output_type": "stream",
     "text": [
      "+--------------------+--------------------+--------------------+-------------------+-------------------+\n",
      "|          Event_time|            Hashtags|                Text|            TweetID|             UserID|\n",
      "+--------------------+--------------------+--------------------+-------------------+-------------------+\n",
      "|Sat Jul 24 20:22:...|           Tokyo2020|I agree with @Dev...|1419030363054088195|           22720902|\n",
      "|Sat Jul 24 20:22:...|        Olympics2021|RT @_AfricanSoil:...|1419030365331673273|           82641042|\n",
      "|Sat Jul 24 20:22:...|            Olympics|RT @mrdanwalker: ...|1419030367957397510|          360518857|\n",
      "|Sat Jul 24 20:22:...|              bronze|RT @Olympics: It’...|1419030369039360002|         4594967060|\n",
      "|Sat Jul 24 20:23:...|            Olympics|RT @EJinAction: T...|1419030374106214405|           26209691|\n",
      "|Sat Jul 24 20:23:...|       TokyoOlympics|RT @mtgreenee: So...|1419030380645167105|1368422614725767169|\n",
      "|Sat Jul 24 20:23:...|            Olympics|RT @todokugou: Me...|1419030382515609600|1180031821704155136|\n",
      "|Sat Jul 24 20:23:...|            Olympics|RT @FierceFemale2...|1419030385577582594|1139450771907518465|\n",
      "|Sat Jul 24 20:37:...|              Uganda|RT @observerug: #...|1419034002837671942|1188562979400441857|\n",
      "|Sat Jul 24 20:37:...|            Olympics|Watching Olympic ...|1419034005576556552|         1282097042|\n",
      "|Sat Jul 24 20:37:...|           Tokyo2020|RT @standardsport...|1419034007443054599|1113330275449225216|\n",
      "|Sat Jul 24 20:37:...|مرگ_بر_جمهوری_اسلامی|@Olympics @ISSF_S...|1419034009158443008|         2729967866|\n",
      "|Sat Jul 24 20:37:...|            Olympics|RT @FLOTUS: 17-10...|1419034013117861888|1258974533698158593|\n",
      "|Sat Jul 24 20:37:...|         skibb2tokyo|RT @skibbrowing: ...|1419034017320652804|         3057670547|\n",
      "|Sat Jul 24 20:37:...|                  AI|RT @alvinfoo: Jap...|1419034020181123077| 882837224357756929|\n",
      "|Sat Jul 24 20:37:...|        RaiseARacket|RT @bwfmedia: Wha...|1419034022408200192|1107173158883225606|\n",
      "|Sat Jul 24 20:37:...|        RaiseARacket|RT @bwfmedia: Wha...|1419034025134489600|         2489470136|\n",
      "|Sat Jul 24 20:37:...|            Olympics|RT @peppypeach: T...|1419034028041113601| 903815942144122881|\n",
      "|Sat Jul 24 20:37:...|           Tokyo2020|RT @TheZaiduLeaks...|1419034029282578435|          464405291|\n",
      "|Sat Jul 24 20:37:...|            Olympics|RT @ZENIADCUNHA: ...|1419034031056846849|           25984209|\n",
      "+--------------------+--------------------+--------------------+-------------------+-------------------+\n",
      "only showing top 20 rows\n",
      "\n"
     ]
    }
   ],
   "source": [
    "df.show()"
   ]
  },
  {
   "cell_type": "code",
   "execution_count": null,
   "metadata": {},
   "outputs": [],
   "source": []
  }
 ],
 "metadata": {
  "colab": {
   "collapsed_sections": [],
   "name": "spark_final.ipynb",
   "provenance": []
  },
  "kernelspec": {
   "display_name": "Python 3",
   "language": "python",
   "name": "python3"
  },
  "language_info": {
   "codemirror_mode": {
    "name": "ipython",
    "version": 3
   },
   "file_extension": ".py",
   "mimetype": "text/x-python",
   "name": "python",
   "nbconvert_exporter": "python",
   "pygments_lexer": "ipython3",
   "version": "3.7.4"
  }
 },
 "nbformat": 4,
 "nbformat_minor": 4
}
