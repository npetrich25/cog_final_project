{
 "cells": [
  {
   "cell_type": "code",
   "execution_count": null,
   "metadata": {
    "id": "RPSlo7LMYEuw",
    "outputId": "0900e7a7-f08b-4ad9-9d24-e6482d3771ac"
   },
   "outputs": [],
   "source": [
    "!pip install kafka-python\n",
    "!pip install tweepy\n",
    "!pip install pykafka"
   ]
  },
  {
   "cell_type": "code",
   "execution_count": null,
   "metadata": {
    "id": "56sVwo40YEux"
   },
   "outputs": [],
   "source": [
    "import os\n",
    "from datetime import datetime\n",
    "import time\n",
    "import threading\n",
    "import json\n",
    "from kafka import KafkaProducer\n",
    "from kafka.errors import KafkaError\n",
    "import pykafka"
   ]
  },
  {
   "cell_type": "code",
   "execution_count": null,
   "metadata": {
    "id": "I2maGAheYEuy"
   },
   "outputs": [],
   "source": [
    "import tweepy\n",
    "from tweepy.auth import OAuthHandler\n",
    "from tweepy import Stream\n",
    "from tweepy.streaming import StreamListener"
   ]
  },
  {
   "cell_type": "markdown",
   "metadata": {
    "id": "ZqsXNRVyYMha"
   },
   "source": [
    "### my twitter cred"
   ]
  },
  {
   "cell_type": "code",
   "execution_count": null,
   "metadata": {
    "id": "NFmboKs6YEuy"
   },
   "outputs": [],
   "source": [
    "consumer_key = '4eqZwXBNe5V0UZt2y0ompX1OH'\n",
    "consumer_secret = 'ntUajCkdPgrd9CNm7mmtQ6JP7YwKo00zjktetiqDyQ7lMK1pAp'\n",
    "access_token = '1418681168258637825-IL5xpVdFdlTwugxS6a6yb3BZpUn0V9'\n",
    "access_secret = 'Pt34cuHOuaiQrFqFnTlfUY3SBQGfq48k33N8kykY48AJu'"
   ]
  },
  {
   "cell_type": "markdown",
   "metadata": {
    "id": "0HhK0jktYPyw"
   },
   "source": [
    "### dont use veer twitter cred\n"
   ]
  },
  {
   "cell_type": "code",
   "execution_count": null,
   "metadata": {
    "id": "GmSd2cZWYEuy"
   },
   "outputs": [],
   "source": [
    "consumer_key    = 'hzTxnpkRLgCWp8lYDcQYA48Qg'\n",
    "consumer_secret = 'GXKF11n0QIZSWSyOnRkn1srOuo3HJMMjeIfQHO384Cf9gF5Znh'\n",
    "access_token    = '135033706-eFg8rNkyEWkAizvhopN9shVw0v8JUO1QAhgCs4HY'\n",
    "access_secret   = 'ciRuC3KgfLLBvVZWzlD8U6xVMnqfquw4ghuEmIH3sHzNE'"
   ]
  },
  {
   "cell_type": "markdown",
   "metadata": {
    "id": "0HhK0jktYPyw"
   },
   "source": [
    "### Ted's creds"
   ]
  },
  {
   "cell_type": "code",
   "execution_count": null,
   "metadata": {},
   "outputs": [],
   "source": [
    "consumer_key = 'ehRQEjyJTzeifkywMW4JLu9HL'\n",
    "consumer_secret = 'ONzbMlyr0k0Z2FpJdWHbP42vGo74VxvKO3cqbbo8nsKgo0iENG'\n",
    "access_token = '1417279984302006287-eLoQn9mpx3lYiIJg4qCtmYGoMqazFF'\n",
    "access_secret = 'aHH71WwKt33DU8ONqgpncA9zry9ndFHtZD35eDH4MUrwL'\n"
   ]
  },
  {
   "cell_type": "markdown",
   "metadata": {},
   "source": [
    "## Old Tweet listener, this still works just not well"
   ]
  },
  {
   "cell_type": "code",
   "execution_count": null,
   "metadata": {
    "id": "BookJlKrYEuz",
    "outputId": "9c4b5381-84b6-4fd5-a6e3-446102b2331d"
   },
   "outputs": [],
   "source": [
    "class StdOutListener(StreamListener):\n",
    "    def __init__(self):\n",
    "\n",
    "        self.client = pykafka.KafkaClient(\"localhost:9092\")\n",
    "        \n",
    "        #Get Producer that has topic name is Twitter\n",
    "        self.producer = self.client.topics[bytes(\"final_twitter\", \"ascii\")].get_producer()\n",
    "    def on_connect(self):\n",
    "        # Called initially to connect to the Streaming API\n",
    "        print(\"You are now connected to the streaming API.\")\n",
    "    def on_data(self, data):\n",
    "        json_ = json.loads(data) \n",
    "        producer.send(\"basic\", json_[\"text\"].encode('utf-8'))\n",
    "        print(json_[\"text\"])\n",
    "        return True\n",
    "    def on_error(self, status_code):\n",
    "        # On error - if an error occurs, display the error / status code\n",
    "        print('An Error has occured: ' + repr(status_code))\n",
    "        return False\n",
    "\n",
    "    def on_limit(self,status):\n",
    "        print (\"Rate Limit Exceeded, Sleep for 15 Mins\")\n",
    "        time.sleep(15 * 60)\n",
    "        return True\n",
    "\n",
    "producer = KafkaProducer(bootstrap_servers='localhost:9092')\n",
    "l = StdOutListener()\n",
    "auth = OAuthHandler(consumer_key, consumer_secret)\n",
    "auth.set_access_token(access_token, access_secret)\n",
    "stream = Stream(auth, l)\n",
    "stream.filter(track=[\"covid19\", \"corona virus\"])"
   ]
  },
  {
   "cell_type": "markdown",
   "metadata": {},
   "source": [
    "## Use this twitter listener"
   ]
  },
  {
   "cell_type": "code",
   "execution_count": null,
   "metadata": {
    "id": "cGSpEK0pYEu0",
    "outputId": "09c55843-04ce-44fa-9df6-f82352fc0dd5"
   },
   "outputs": [],
   "source": [
    "class TwitterListener(StreamListener):\n",
    "    def __init__(self):\n",
    "        self.client = pykafka.KafkaClient(\"localhost:9092\")\n",
    "        \n",
    "        #Get Producer that has topic name is Twitter\n",
    "        self.producer = self.client.topics[bytes(\"final_twitter\", \"ascii\")].get_producer()\n",
    "    # overriding the on_data from StreamListner\n",
    "    def on_connect(self):\n",
    "        print(\"Now you have been connected to Twitter Streaming API\")\n",
    "    def on_data(self,data):\n",
    "        try:\n",
    "            print(data)\n",
    "            \n",
    "            self.producer.produce(bytes(data, \"ascii\"))\n",
    "            return True # sending the tweets to producer\n",
    "        except BaseException as e: \n",
    "            print(\"Error_on_data: %s\" % str(e))\n",
    "            return False\n",
    "        return True\n",
    "    def if_error(self,status):\n",
    "        print(status)\n",
    "        return True\n",
    "    def on_error(self, status_code):\n",
    "        # On error - if an error occurs, display the error / status code\n",
    "        print('An Error has occured: ' + repr(status_code))\n",
    "        return False\n",
    "\n",
    "    def on_limit(self,status_code):\n",
    "        print (\"Rate Limit Exceeded, Sleep for 15 Mins\")\n",
    "        time.sleep(15 * 60)\n",
    "        return True\n",
    " \n",
    "\n",
    "producer = KafkaProducer(bootstrap_servers=['localhost:9092'])\n",
    "\n",
    "\n",
    "obj1 = TwitterListener()\n",
    "\n",
    "#Authorization for Twitter API Access Config\n",
    "auth = OAuthHandler(consumer_key, consumer_secret)\n",
    "auth.set_access_token(access_token, access_secret)\n",
    "    \n",
    "twitter_stream = Stream(auth, obj1) \n",
    "twitter_stream.filter(track=['olympics'], languages = ['en']) # topic that I want to filter    "
   ]
  },
  {
   "cell_type": "code",
   "execution_count": null,
   "metadata": {
    "id": "k3v9G6LNYEu0"
   },
   "outputs": [],
   "source": []
  },
  {
   "cell_type": "code",
   "execution_count": null,
   "metadata": {
    "id": "N1c7EdEZYEu1"
   },
   "outputs": [],
   "source": []
  },
  {
   "cell_type": "code",
   "execution_count": null,
   "metadata": {
    "id": "EHHu_biUYEu1"
   },
   "outputs": [],
   "source": []
  },
  {
   "cell_type": "code",
   "execution_count": null,
   "metadata": {
    "id": "4BjbsCWRYEu1"
   },
   "outputs": [],
   "source": []
  },
  {
   "cell_type": "code",
   "execution_count": null,
   "metadata": {
    "id": "O6kSLvYCYEu1",
    "outputId": "26d2be59-0b65-4203-edfd-4b7da30e9ec8"
   },
   "outputs": [],
   "source": []
  },
  {
   "cell_type": "code",
   "execution_count": null,
   "metadata": {
    "id": "ns9Hgg75YEu1",
    "outputId": "592b9790-1577-46ea-d49b-2f5b1ac224e6"
   },
   "outputs": [],
   "source": []
  },
  {
   "cell_type": "code",
   "execution_count": null,
   "metadata": {
    "id": "rdLvrq_bYEu1"
   },
   "outputs": [],
   "source": []
  }
 ],
 "metadata": {
  "colab": {
   "name": "final_project.ipynb",
   "provenance": []
  },
  "kernelspec": {
   "display_name": "python3.7.1",
   "language": "python",
   "name": "python3.7.1"
  },
  "language_info": {
   "codemirror_mode": {
    "name": "ipython",
    "version": 3
   },
   "file_extension": ".py",
   "mimetype": "text/x-python",
   "name": "python",
   "nbconvert_exporter": "python",
   "pygments_lexer": "ipython3",
   "version": "3.7.1"
  }
 },
 "nbformat": 4,
 "nbformat_minor": 4
}
