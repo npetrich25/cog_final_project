{
 "cells": [
  {
   "cell_type": "code",
   "execution_count": 1,
   "metadata": {},
   "outputs": [],
   "source": [
    "import os\n",
    "import sys"
   ]
  },
  {
   "cell_type": "code",
   "execution_count": 2,
   "metadata": {},
   "outputs": [],
   "source": [
    "# Theodore's paths (do not run this cell)\n",
    "os.environ[\"PYLIB\"] = os.environ[\"SPARK_HOME\"] + \"/python/lib\"\n",
    "#os.environ['PYSPARK_SUBMIT_ARGS'] = f'--packages org.apache.spark:spark-sql-kafka-0-10_2.11:2.4.1,org.apache.spark:spark-streaming-kafka-0-8_2.11:2.2.0 --jars spark-sql-kafka-0-10_2.11-2.4.1.jar pyspark-shell'\n",
    "sys.path.insert(0, os.environ[\"PYLIB\"] +\"/py4j-0.10.7-src.zip\")\n",
    "sys.path.insert(0, os.environ[\"PYLIB\"] +\"/pyspark.zip\")\n",
    "os.environ['PYSPARK_SUBMIT_ARGS'] = '--packages org.apache.spark:spark-streaming-kafka-0-8_2.11:2.4.4 pyspark-shell'"
   ]
  },
  {
   "cell_type": "code",
   "execution_count": null,
   "metadata": {
    "id": "CDlHETL1X7p_"
   },
   "outputs": [],
   "source": [
    "\n",
    "os.environ[\"SPARK_HOME\"]=\"/home/user1/trainig_material/spark-2.4.4-bin-hadoop2.7\"\n",
    "os.environ[\"PYLIB\"] = os.environ[\"SPARK_HOME\"] + \"/python/lib\"\n",
    "#os.environ[\"HIVE_HOME\"] =\"/usr/lib/hive\"\n",
    "#os.environ[\"PATH\"] =os.environ[\"HIVE_HOME\"]+\"/bin\"\n",
    "#os.environ[\"JAVA_HOME\"]=\"/usr/java/jdk1.7.0_67-cloudera\"\n",
    "# In below two lines, use /usr/bin/python2.7 if you want to use Python 2\n",
    "#os.environ[\"PYSPARK_PYTHON\"] = \"/home/cloudera/anaconda3/bin/python3.7\" \n",
    "#os.environ[\"PYSPARK_DRIVER_PYTHON\"] = \"/home/cloudera/anaconda3/bin/python3.7\"\n",
    "sys.path.insert(0, os.environ[\"PYLIB\"] +\"/py4j-0.10.7-src.zip\")\n",
    "sys.path.insert(0, os.environ[\"PYLIB\"] +\"/pyspark.zip\")\n",
    "\n",
    "\n",
    "os.environ['PYSPARK_SUBMIT_ARGS'] = '--packages org.apache.spark:spark-streaming-kafka-0-8_2.11:2.4.4 pyspark-shell'"
   ]
  },
  {
   "cell_type": "code",
   "execution_count": null,
   "metadata": {},
   "outputs": [],
   "source": [
    "\n",
    "!pyspark --version"
   ]
  },
  {
   "cell_type": "code",
   "execution_count": 3,
   "metadata": {
    "id": "aFQofpu7X7qB"
   },
   "outputs": [],
   "source": [
    "# Spark\n",
    "from pyspark import SparkContext, SparkConf\n",
    "# Spark Streaming\n",
    "from pyspark.streaming import StreamingContext\n",
    "# Kafka\n",
    "#from pyspark.streaming.kafka import KafkaUtils\n",
    "# json parsing\n",
    "from pyspark.sql import Row,SQLContext\n",
    "from pyspark import SparkConf,SparkContext\n",
    "from pyspark.sql import SQLContext,HiveContext"
   ]
  },
  {
   "cell_type": "code",
   "execution_count": null,
   "metadata": {
    "id": "JiYoHyp8X7qC"
   },
   "outputs": [],
   "source": []
  },
  {
   "cell_type": "code",
   "execution_count": 4,
   "metadata": {
    "id": "houVHeHYX7qC"
   },
   "outputs": [
    {
     "name": "stderr",
     "output_type": "stream",
     "text": [
      "Ivy Default Cache set to: /home/ted/.ivy2/cache\n",
      "The jars for the packages stored in: /home/ted/.ivy2/jars\n",
      ":: loading settings :: url = jar:file:/opt/spark-2.4.4-bin-hadoop2.7/jars/ivy-2.4.0.jar!/org/apache/ivy/core/settings/ivysettings.xml\n",
      "org.apache.spark#spark-streaming-kafka-0-8_2.11 added as a dependency\n",
      ":: resolving dependencies :: org.apache.spark#spark-submit-parent-aa25cb05-8380-4063-a193-a0792dcc64ac;1.0\n",
      "\tconfs: [default]\n",
      "\tfound org.apache.spark#spark-streaming-kafka-0-8_2.11;2.4.4 in central\n",
      "\tfound org.apache.kafka#kafka_2.11;0.8.2.1 in central\n",
      "\tfound org.scala-lang.modules#scala-xml_2.11;1.0.2 in central\n",
      "\tfound com.yammer.metrics#metrics-core;2.2.0 in central\n",
      "\tfound org.slf4j#slf4j-api;1.7.16 in central\n",
      "\tfound org.scala-lang.modules#scala-parser-combinators_2.11;1.1.0 in central\n",
      "\tfound com.101tec#zkclient;0.3 in central\n",
      "\tfound log4j#log4j;1.2.17 in central\n",
      "\tfound org.apache.kafka#kafka-clients;0.8.2.1 in central\n",
      "\tfound net.jpountz.lz4#lz4;1.2.0 in central\n",
      "\tfound org.xerial.snappy#snappy-java;1.1.7.3 in central\n",
      "\tfound org.spark-project.spark#unused;1.0.0 in central\n",
      ":: resolution report :: resolve 430ms :: artifacts dl 7ms\n",
      "\t:: modules in use:\n",
      "\tcom.101tec#zkclient;0.3 from central in [default]\n",
      "\tcom.yammer.metrics#metrics-core;2.2.0 from central in [default]\n",
      "\tlog4j#log4j;1.2.17 from central in [default]\n",
      "\tnet.jpountz.lz4#lz4;1.2.0 from central in [default]\n",
      "\torg.apache.kafka#kafka-clients;0.8.2.1 from central in [default]\n",
      "\torg.apache.kafka#kafka_2.11;0.8.2.1 from central in [default]\n",
      "\torg.apache.spark#spark-streaming-kafka-0-8_2.11;2.4.4 from central in [default]\n",
      "\torg.scala-lang.modules#scala-parser-combinators_2.11;1.1.0 from central in [default]\n",
      "\torg.scala-lang.modules#scala-xml_2.11;1.0.2 from central in [default]\n",
      "\torg.slf4j#slf4j-api;1.7.16 from central in [default]\n",
      "\torg.spark-project.spark#unused;1.0.0 from central in [default]\n",
      "\torg.xerial.snappy#snappy-java;1.1.7.3 from central in [default]\n",
      "\t---------------------------------------------------------------------\n",
      "\t|                  |            modules            ||   artifacts   |\n",
      "\t|       conf       | number| search|dwnlded|evicted|| number|dwnlded|\n",
      "\t---------------------------------------------------------------------\n",
      "\t|      default     |   12  |   0   |   0   |   0   ||   12  |   0   |\n",
      "\t---------------------------------------------------------------------\n",
      ":: retrieving :: org.apache.spark#spark-submit-parent-aa25cb05-8380-4063-a193-a0792dcc64ac\n",
      "\tconfs: [default]\n",
      "\t0 artifacts copied, 12 already retrieved (0kB/7ms)\n",
      "21/07/25 09:55:02 WARN Utils: Your hostname, ted resolves to a loopback address: 127.0.1.1; using 192.168.1.187 instead (on interface wlp59s0)\n",
      "21/07/25 09:55:02 WARN Utils: Set SPARK_LOCAL_IP if you need to bind to another address\n",
      "21/07/25 09:55:02 WARN NativeCodeLoader: Unable to load native-hadoop library for your platform... using builtin-java classes where applicable\n",
      "Using Spark's default log4j profile: org/apache/spark/log4j-defaults.properties\n",
      "Setting default log level to \"WARN\".\n",
      "To adjust logging level use sc.setLogLevel(newLevel). For SparkR, use setLogLevel(newLevel).\n"
     ]
    }
   ],
   "source": [
    "sc = SparkContext(\"local\", \"twitter\")\n",
    "sc.setLogLevel(\"WARN\")"
   ]
  },
  {
   "cell_type": "code",
   "execution_count": 5,
   "metadata": {
    "id": "g0wK5WUgX7qC"
   },
   "outputs": [],
   "source": [
    "sc.stop()"
   ]
  },
  {
   "cell_type": "code",
   "execution_count": 6,
   "metadata": {
    "id": "B87w91i2X7qD"
   },
   "outputs": [],
   "source": [
    "from pyspark.sql import SparkSession\n",
    "spark = SparkSession.builder.enableHiveSupport().getOrCreate()"
   ]
  },
  {
   "cell_type": "code",
   "execution_count": 7,
   "metadata": {
    "id": "4KKNcpYpX7qD"
   },
   "outputs": [],
   "source": [
    "#spark.sql(\"show databases\").show()"
   ]
  },
  {
   "cell_type": "code",
   "execution_count": 8,
   "metadata": {
    "id": "AjlHcIfuX7qF"
   },
   "outputs": [],
   "source": [
    "import pandas as pd\n",
    "from datetime import datetime, timedelta\n",
    "import json\n",
    "\n",
    "import tweepy\n",
    "from tweepy import OAuthHandler\n",
    "from tweepy.streaming import StreamListener\n",
    "from tweepy import OAuthHandler\n",
    "from tweepy import Stream\n",
    "from textblob import TextBlob\n",
    "\n",
    "from kafka import KafkaClient\n",
    "from kafka import KafkaProducer\n",
    "from kafka import KafkaConsumer\n",
    "from kafka import TopicPartition\n",
    "from kafka.errors import KafkaError"
   ]
  },
  {
   "cell_type": "code",
   "execution_count": 9,
   "metadata": {},
   "outputs": [],
   "source": [
    "consumer = ''"
   ]
  },
  {
   "cell_type": "code",
   "execution_count": 10,
   "metadata": {},
   "outputs": [],
   "source": [
    "# not utilizing a structured streaming environment, this will allow us to save tweets in consumer \n",
    "#nd not neet to run producer and streaming simultaneosly avoiding error:420\n",
    "consumer = KafkaConsumer('final_twitter', \n",
    "                         group_id='1', # Using group so that it doesn't re-read messages\n",
    "                         auto_offset_reset='earliest', \n",
    "                         enable_auto_commit=True, \n",
    "                         bootstrap_servers=['localhost:9092'], \n",
    "                         value_deserializer=lambda m: json.loads(m))\n",
    "# Create TopicPartition object so we can keep track of offset and know when to exit consumer loop later\n",
    "tp = TopicPartition('final_twitter',0)"
   ]
  },
  {
   "cell_type": "code",
   "execution_count": 21,
   "metadata": {},
   "outputs": [],
   "source": [
    "rows = [] # Put in separate cell so we don't clear rows every time we run next cell"
   ]
  },
  {
   "cell_type": "code",
   "execution_count": 22,
   "metadata": {
    "id": "UESdeAulX7qF",
    "outputId": "a3dad678-dad9-4baa-a688-366f72dc023b"
   },
   "outputs": [
    {
     "name": "stdout",
     "output_type": "stream",
     "text": [
      "\n",
      "Current offset: 1265\n",
      "Last offset: 1358\n",
      "Row(Event_time=datetime.datetime(2021, 7, 25, 14, 7, 26), Hashtags=['tokyo2020', 'ハイキュー', 'haikyuu', 'olympics', 'オリンピック'], Text='RT @maddox_rider: Behind The Scenes 🇯🇵✨\\n#Tokyo2020 \\n#ハイキュー #Haikyuu\\n#Olympics #オリンピック https://t.co/tQKJBe4Slz', TweetID=1419298247001088000, UserID=3268154072)\n",
      "\n",
      "Current offset: 1266\n",
      "Last offset: 1358\n",
      "Row(Event_time=datetime.datetime(2021, 7, 25, 14, 7, 26), Hashtags=[], Text='Now!\\nThat was just too damn cute! 🥺', TweetID=1419298247177277443, UserID=95787053)\n",
      "\n",
      "Current offset: 1267\n",
      "Last offset: 1358\n",
      "Row(Event_time=datetime.datetime(2021, 7, 25, 14, 7, 26), Hashtags=['olympics'], Text='RT @stauber919: Farah Ann Hadi Rotation 2 on Balance Beam #Olympics https://t.co/q8qB3jeBXQ', TweetID=1419298247315574789, UserID=756198683939446784)\n",
      "\n",
      "Current offset: 1268\n",
      "Last offset: 1358\n",
      "Row(Event_time=datetime.datetime(2021, 7, 25, 14, 7, 26), Hashtags=[], Text='RT @WorldWideWob: USA’s Men’s Basketball just lost in the Olympics for the first time since 2004 and honestly they were beat by a better te…', TweetID=1419298247533682694, UserID=1069606461649502209)\n",
      "\n",
      "Current offset: 1269\n",
      "Last offset: 1358\n",
      "Row(Event_time=datetime.datetime(2021, 7, 25, 14, 7, 26), Hashtags=[], Text='RT @ZDane7: Not actually from the Olympics (see fans in stands) but this is an absolutely outrageous photo https://t.co/VfuIoC8Z83', TweetID=1419298247420653568, UserID=362506197)\n",
      "\n",
      "Current offset: 1270\n",
      "Last offset: 1358\n",
      "Row(Event_time=datetime.datetime(2021, 7, 25, 14, 7, 26), Hashtags=[], Text='RT @Pontifex: In this time of pandemic, the Tokyo Olympics are a sign of hope, a sign of universal brotherhood marked by a healthy competit…', TweetID=1419298247898804227, UserID=14900778)\n",
      "\n",
      "Current offset: 1271\n",
      "Last offset: 1358\n",
      "Row(Event_time=datetime.datetime(2021, 7, 25, 14, 7, 26), Hashtags=[], Text=\"RT @bomani_jones: they'd get their doors blown off.\", TweetID=1419298247860965382, UserID=1461266335)\n",
      "\n",
      "Current offset: 1272\n",
      "Last offset: 1358\n",
      "Row(Event_time=datetime.datetime(2021, 7, 25, 14, 7, 26), Hashtags=[], Text='RT @dreamfoIder: [210725] 👑💭\\n\\n“watch the olympics well~ because tomorrow’s monday, so fighting/cheer up!! ㅎㅎ” https://t.co/SBzOLM39KY', TweetID=1419298248028610563, UserID=1193476560092708866)\n",
      "\n",
      "Current offset: 1273\n",
      "Last offset: 1358\n",
      "Row(Event_time=datetime.datetime(2021, 7, 25, 14, 7, 26), Hashtags=[], Text='RT @WorldWideWob: USA’s Men’s Basketball just lost in the Olympics for the first time since 2004 and honestly they were beat by a better te…', TweetID=1419298248305565703, UserID=2842165126)\n",
      "\n",
      "Current offset: 1274\n",
      "Last offset: 1358\n",
      "Row(Event_time=datetime.datetime(2021, 7, 25, 14, 7, 26), Hashtags=[], Text='RT @sawerapasha: Dream ends here but boy what a fight put up by @talha_tlb on his olympics debut.. \\nlifting total of 320 Kgs is a testament…', TweetID=1419298248515325952, UserID=1597750988)\n",
      "\n",
      "Current offset: 1275\n",
      "Last offset: 1358\n",
      "Row(Event_time=datetime.datetime(2021, 7, 25, 14, 7, 26), Hashtags=['olympics'], Text='RT @mrdanwalker: Lots of people have asked about the full @mariadecezar #Olympics incident today 🏖😂\\n5 years ago this week, on Copacabana be…', TweetID=1419298248846622729, UserID=26311523)\n",
      "\n",
      "Current offset: 1276\n",
      "Last offset: 1358\n",
      "Row(Event_time=datetime.datetime(2021, 7, 25, 14, 7, 26), Hashtags=[], Text=\"RT @BBCSport: Wow! A huge upset in the men's basketball!\\n\\nFrance have beaten the USA 83-76; it's a first defeat in 25 games at the Olympics…\", TweetID=1419298248838234112, UserID=1407481507724279809)\n",
      "\n",
      "Current offset: 1277\n",
      "Last offset: 1358\n",
      "Row(Event_time=datetime.datetime(2021, 7, 25, 14, 7, 26), Hashtags=['talhatalib', 'talhatalib', 'olympics', 'olympicgames', 'pak', 'tokyo2020'], Text='#TalhaTalib trending now !\\nSports above politics Alhamdulillah #TalhaTalib \\n#Olympics #OlympicGames #Pak #Tokyo2020', TweetID=1419298249052151826, UserID=4480506203)\n",
      "\n",
      "Current offset: 1278\n",
      "Last offset: 1358\n",
      "Row(Event_time=datetime.datetime(2021, 7, 25, 14, 7, 26), Hashtags=[], Text=\"RT @bomani_jones: they'd get their doors blown off.\", TweetID=1419298249224110082, UserID=285327954)\n",
      "\n",
      "Current offset: 1279\n",
      "Last offset: 1358\n",
      "Row(Event_time=datetime.datetime(2021, 7, 25, 14, 7, 26), Hashtags=[], Text='RT @WorldWideWob: USA’s Men’s Basketball just lost in the Olympics for the first time since 2004 and honestly they were beat by a better te…', TweetID=1419298249463185416, UserID=500442261)\n",
      "\n",
      "Current offset: 1280\n",
      "Last offset: 1358\n",
      "Row(Event_time=datetime.datetime(2021, 7, 25, 14, 7, 26), Hashtags=['india', 'israel', 'olympics'], Text='RT @MayaKadosh: First medal to #India🇮🇳 first medal to #Israel🇮🇱, both won by young female athletes . Excellent first day of the #Olympics…', TweetID=1419298249505075205, UserID=415412957)\n",
      "\n",
      "Current offset: 1281\n",
      "Last offset: 1358\n",
      "Row(Event_time=datetime.datetime(2021, 7, 25, 14, 7, 26), Hashtags=[], Text='RT @WorldWideWob: USA’s Men’s Basketball just lost in the Olympics for the first time since 2004 and honestly they were beat by a better te…', TweetID=1419298249790398465, UserID=1365343824847986694)\n",
      "\n",
      "Current offset: 1282\n",
      "Last offset: 1358\n",
      "Row(Event_time=datetime.datetime(2021, 7, 25, 14, 7, 26), Hashtags=[], Text='RT @Jkylebass: Why does the world @Olympics allow a regime that Commits Crimes Against Humanity and Genocide to compete in the Olympics? #C…', TweetID=1419298249924558854, UserID=14987991)\n",
      "\n",
      "Current offset: 1283\n",
      "Last offset: 1358\n",
      "Row(Event_time=datetime.datetime(2021, 7, 25, 14, 7, 26), Hashtags=[], Text='RT @nctdaoying: MBC used NCT 127’s Kick It as the BGM when replaying the key highlights for South Korea’s soccer match at Tokyo Olympics ea…', TweetID=1419298250691993601, UserID=1250163577454903296)\n",
      "\n",
      "Current offset: 1284\n",
      "Last offset: 1358\n",
      "Row(Event_time=datetime.datetime(2021, 7, 25, 14, 7, 27), Hashtags=[], Text='my toxic trait is wanting the olympics on in the background at all times', TweetID=1419298251124224007, UserID=176922150)\n",
      "\n",
      "Current offset: 1285\n",
      "Last offset: 1358\n",
      "Row(Event_time=datetime.datetime(2021, 7, 25, 14, 7, 26), Hashtags=['tokyo2020', 'olympics'], Text=\"RT @YXiusheng: 🥇China's weightlifter Li Fabin won men's 61 kg gold at the #Tokyo2020 #Olympics on Sunday, claiming the 5th gold medal for #…\", TweetID=1419298250998353922, UserID=1019145299380580353)\n",
      "\n",
      "Current offset: 1286\n",
      "Last offset: 1358\n",
      "Row(Event_time=datetime.datetime(2021, 7, 25, 14, 7, 27), Hashtags=[], Text='@usabasketball Force them on a plane to Shanghai so they can play there after the olympics', TweetID=1419298251392569344, UserID=707093506)\n",
      "\n",
      "Current offset: 1287\n",
      "Last offset: 1358\n",
      "Row(Event_time=datetime.datetime(2021, 7, 25, 14, 7, 27), Hashtags=['olympics', 'unitedbyemotion', 'strongertogether'], Text='RT @Tokyo2020: Like brother, like sister, like #Olympics medallists 🥇 \\n\\n#UnitedByEmotion | #StrongerTogether | @Judo', TweetID=1419298251497295875, UserID=740495869686906881)\n",
      "\n",
      "Current offset: 1288\n",
      "Last offset: 1358\n",
      "Row(Event_time=datetime.datetime(2021, 7, 25, 14, 7, 27), Hashtags=[], Text='@NBCOlympics @PlayersTribune This is what happens when you bring a bunch of overpaid prima donna’s to the olympics… https://t.co/6BCZsHxAMP', TweetID=1419298251723902977, UserID=297772213)\n",
      "\n",
      "Current offset: 1289\n",
      "Last offset: 1358\n",
      "Row(Event_time=datetime.datetime(2021, 7, 25, 14, 7, 27), Hashtags=[], Text='My god these guys suck lmao', TweetID=1419298251874910215, UserID=2614476452)\n",
      "\n",
      "Current offset: 1290\n",
      "Last offset: 1358\n",
      "Row(Event_time=datetime.datetime(2021, 7, 25, 14, 7, 27), Hashtags=[], Text='I have liter tears rn', TweetID=1419298251853897729, UserID=857434002742951937)\n",
      "\n",
      "Current offset: 1291\n",
      "Last offset: 1358\n",
      "Row(Event_time=datetime.datetime(2021, 7, 25, 14, 7, 27), Hashtags=['france', 'usa'], Text='#France 83  s #USA 76 🏀\\nDown the drain or Dream?\\nhttps://t.co/qVE2ycGlmD', TweetID=1419298252092936199, UserID=976400847692156929)\n",
      "\n",
      "Current offset: 1292\n",
      "Last offset: 1358\n",
      "Row(Event_time=datetime.datetime(2021, 7, 25, 14, 7, 27), Hashtags=[], Text='RT @WorldWideWob: USA’s Men’s Basketball just lost in the Olympics for the first time since 2004 and honestly they were beat by a better te…', TweetID=1419298252407648259, UserID=2544195216)\n",
      "\n",
      "Current offset: 1293\n",
      "Last offset: 1358\n",
      "Row(Event_time=datetime.datetime(2021, 7, 25, 14, 7, 27), Hashtags=['tokyo2020', 'ハイキュー', 'haikyuu', 'olympics', 'オリンピック'], Text='RT @maddox_rider: Behind The Scenes 🇯🇵✨\\n#Tokyo2020 \\n#ハイキュー #Haikyuu\\n#Olympics #オリンピック https://t.co/tQKJBe4Slz', TweetID=1419298252818731016, UserID=1357367388585529344)\n",
      "\n",
      "Current offset: 1294\n",
      "Last offset: 1358\n",
      "Row(Event_time=datetime.datetime(2021, 7, 25, 14, 7, 27), Hashtags=[], Text='RT @nctdaoying: MBC used NCT 127’s Kick It as the BGM when replaying the key highlights for South Korea’s soccer match at Tokyo Olympics ea…', TweetID=1419298252969574403, UserID=1226509925779591173)\n"
     ]
    },
    {
     "name": "stdout",
     "output_type": "stream",
     "text": [
      "\n",
      "Current offset: 1295\n",
      "Last offset: 1358\n",
      "Row(Event_time=datetime.datetime(2021, 7, 25, 14, 7, 27), Hashtags=[], Text='RT @menghanyurkan: women be participating in olympics and religious incels do be doing this', TweetID=1419298252948533259, UserID=23901828)\n",
      "\n",
      "Current offset: 1296\n",
      "Last offset: 1358\n",
      "Row(Event_time=datetime.datetime(2021, 7, 25, 14, 7, 27), Hashtags=[], Text='sneaking homo flag just cuz its a match against us? You must be ashamed', TweetID=1419298252869054470, UserID=929457515527639040)\n",
      "\n",
      "Current offset: 1297\n",
      "Last offset: 1358\n",
      "Row(Event_time=datetime.datetime(2021, 7, 25, 14, 7, 27), Hashtags=[], Text='RT @joshtpm: @KevinMKruse honestly there are a lot of sports in the olympics that are the equivalent of the 6th generation Ivy legacy types.', TweetID=1419298253061955584, UserID=1682929322)\n",
      "\n",
      "Current offset: 1298\n",
      "Last offset: 1358\n",
      "Row(Event_time=datetime.datetime(2021, 7, 25, 14, 7, 27), Hashtags=['tokyo2020'], Text='RT @1116sen: WOW.\\n\\nFrance BEAT Team USA 83-76 in a massive boilover. It’s the USA’s first loss at the Olympics since 2004. \\n\\n#Tokyo2020 #Ba…', TweetID=1419298253120491522, UserID=191761621)\n",
      "\n",
      "Current offset: 1299\n",
      "Last offset: 1358\n",
      "Row(Event_time=datetime.datetime(2021, 7, 25, 14, 7, 27), Hashtags=['tokyo2020'], Text='RT @Eurohoopsnet: The Saitama curse - First defeat in the Olympics for USA since 2004 #Tokyo2020', TweetID=1419298253040914434, UserID=2338428144)\n",
      "\n",
      "Current offset: 1300\n",
      "Last offset: 1358\n",
      "Row(Event_time=datetime.datetime(2021, 7, 25, 14, 7, 27), Hashtags=['tha', 'olympics'], Text='RT @ThaiEnquirer: This will never get old!\\n\\n🏅 #tha #Olympics https://t.co/twZ7ikg38R', TweetID=1419298253368033282, UserID=1344531559043354627)\n",
      "\n",
      "Current offset: 1301\n",
      "Last offset: 1358\n",
      "Row(Event_time=datetime.datetime(2021, 7, 25, 14, 7, 27), Hashtags=['tokyo2020', 'ハイキュー', 'haikyuu', 'olympics', 'オリンピック'], Text='RT @maddox_rider: Behind The Scenes 🇯🇵✨\\n#Tokyo2020 \\n#ハイキュー #Haikyuu\\n#Olympics #オリンピック https://t.co/tQKJBe4Slz', TweetID=1419298254571728903, UserID=993140653)\n",
      "\n",
      "Current offset: 1302\n",
      "Last offset: 1358\n",
      "Row(Event_time=datetime.datetime(2021, 7, 25, 14, 7, 27), Hashtags=[], Text=\"RT @bomani_jones: they'd get their doors blown off.\", TweetID=1419298255016497158, UserID=86229102)\n",
      "\n",
      "Current offset: 1303\n",
      "Last offset: 1358\n",
      "Row(Event_time=datetime.datetime(2021, 7, 25, 14, 7, 27), Hashtags=['olympics', 'sports'], Text='RT @dharamifs_HP: Schools in India have only 1 sports class per week. And we expect hundreds of medals in Olympics.\\n\\n #Olympics #sports', TweetID=1419298255200870402, UserID=1259449382199611392)\n",
      "\n",
      "Current offset: 1304\n",
      "Last offset: 1358\n",
      "Row(Event_time=datetime.datetime(2021, 7, 25, 14, 7, 27), Hashtags=[], Text='RT @TheDukeNation: Remember when casuals didn’t give K any credit for what he did while coaching USA Basketball? Well, they just lost their…', TweetID=1419298255171559426, UserID=2941290591)\n",
      "\n",
      "Current offset: 1305\n",
      "Last offset: 1358\n",
      "Row(Event_time=datetime.datetime(2021, 7, 25, 14, 7, 28), Hashtags=[], Text='RT @SportsCenter: Jon Rahm will also miss the Olympics after testing positive for COVID-19, the Spanish Olympic committee announced. He wil…', TweetID=1419298255335165956, UserID=233107089)\n",
      "\n",
      "Current offset: 1306\n",
      "Last offset: 1358\n",
      "Row(Event_time=datetime.datetime(2021, 7, 25, 14, 7, 28), Hashtags=['kpop', 'got7', 'jacksonwang', 'teamwang'], Text='RT @Opoyis: Apart from being a part of the #Kpop group #GOT7, #JacksonWang has a fashion label by the name of #TeamWang. However, he was al…', TweetID=1419298255477739521, UserID=746699488325054464)\n",
      "\n",
      "Current offset: 1307\n",
      "Last offset: 1358\n",
      "Row(Event_time=datetime.datetime(2021, 7, 25, 14, 7, 28), Hashtags=['blackpink', 'blackpink'], Text='RT @GlobalBlackPink: #BLACKPINK “Lovesick Girls” was played during a Volleyball match in Tokyo Olympics \\n\\n#BLACKPINK @BLACKPINK \\nhttps://t.…', TweetID=1419298255595184133, UserID=836607435104120832)\n",
      "\n",
      "Current offset: 1308\n",
      "Last offset: 1358\n",
      "Row(Event_time=datetime.datetime(2021, 7, 25, 14, 7, 28), Hashtags=[], Text='Stefanie Dolson, Team USA Dominating Early Stages of 3×3 Basketball Pool Play https://t.co/li5i9S2IGx', TweetID=1419298255704317956, UserID=819970012941262848)\n",
      "\n",
      "Current offset: 1309\n",
      "Last offset: 1358\n",
      "Row(Event_time=datetime.datetime(2021, 7, 25, 14, 7, 28), Hashtags=['tokyo2020', 'ハイキュー', 'haikyuu', 'olympics', 'オリンピック'], Text='RT @maddox_rider: Behind The Scenes 🇯🇵✨\\n#Tokyo2020 \\n#ハイキュー #Haikyuu\\n#Olympics #オリンピック https://t.co/tQKJBe4Slz', TweetID=1419298255901368322, UserID=1277848734446112768)\n",
      "\n",
      "Current offset: 1310\n",
      "Last offset: 1358\n",
      "Row(Event_time=datetime.datetime(2021, 7, 25, 14, 7, 28), Hashtags=['taekwondo', 'taiwan'], Text='RT @iingwen: Congratulations to Lo Chia-Ling 羅嘉翎 on winning bronze in #taekwondo! #Taiwan is so happy to see you shine on the world stage!…', TweetID=1419298256366936067, UserID=926657693246398465)\n",
      "\n",
      "Current offset: 1311\n",
      "Last offset: 1358\n",
      "Row(Event_time=datetime.datetime(2021, 7, 25, 14, 7, 28), Hashtags=[], Text='RT @CBCOlympics: Jenn Abel and Melissa Citrini-Beaulieu joined forces after the Rio Olympics, both feeling as though their diving style sui…', TweetID=1419298256522260482, UserID=1050850633)\n",
      "\n",
      "Current offset: 1312\n",
      "Last offset: 1358\n",
      "Row(Event_time=datetime.datetime(2021, 7, 25, 14, 7, 28), Hashtags=[], Text='Gone to be a long a Olympics for Team USA', TweetID=1419298256769667077, UserID=122581374)\n",
      "\n",
      "Current offset: 1313\n",
      "Last offset: 1358\n",
      "Row(Event_time=datetime.datetime(2021, 7, 25, 14, 7, 28), Hashtags=[], Text=\"RT @AskAnshul: Tisca Chopra posted Indonesian weightlifter's photo &amp; congratulated Mirabai.\\n\\nAlia Bhatt posted 2012 Olympics' Indian contin…\", TweetID=1419298256769622016, UserID=353155976)\n",
      "\n",
      "Current offset: 1314\n",
      "Last offset: 1358\n",
      "Row(Event_time=datetime.datetime(2021, 7, 25, 14, 7, 28), Hashtags=[], Text=\"RT @sprinkleyoons: no way look who's competing at the olympics https://t.co/9QNsCyiwgQ\", TweetID=1419298256836829184, UserID=1033881704296075264)\n",
      "\n",
      "Current offset: 1315\n",
      "Last offset: 1358\n",
      "Row(Event_time=datetime.datetime(2021, 7, 25, 14, 7, 28), Hashtags=[], Text='only thing team usa getting this olympics is a trip back to the usa', TweetID=1419298257461731328, UserID=838035615837011969)\n",
      "\n",
      "Current offset: 1316\n",
      "Last offset: 1358\n",
      "Row(Event_time=datetime.datetime(2021, 7, 25, 14, 7, 28), Hashtags=[], Text=\"RT @nytimes: She's competing in the Tokyo Olympics as Singapore's only female rower. But when the coronavirus hit her home country last yea…\", TweetID=1419298257528791041, UserID=1364688138409402371)\n",
      "\n",
      "Current offset: 1317\n",
      "Last offset: 1358\n",
      "Row(Event_time=datetime.datetime(2021, 7, 25, 14, 7, 28), Hashtags=[], Text='RT @naumanuhk: All those athletes who qualified for Tokyo Olympics were only given 100,000 PKR for training.', TweetID=1419298257642086402, UserID=131882980)\n",
      "\n",
      "Current offset: 1318\n",
      "Last offset: 1358\n",
      "Row(Event_time=datetime.datetime(2021, 7, 25, 14, 7, 28), Hashtags=[], Text=\"RT @ABlackParadise1: There's a post about Felix being born on the opening day of the 2000 summer Olympics in Sydney that's gaining attentio…\", TweetID=1419298257700737028, UserID=1373077716249899008)\n",
      "\n",
      "Current offset: 1319\n",
      "Last offset: 1358\n",
      "Row(Event_time=datetime.datetime(2021, 7, 25, 14, 7, 28), Hashtags=[], Text='I had a dream about those cardboard beds for the Olympics, they don’t make sense to me', TweetID=1419298257797255168, UserID=849798931)\n",
      "\n",
      "Current offset: 1320\n",
      "Last offset: 1358\n",
      "Row(Event_time=datetime.datetime(2021, 7, 25, 14, 7, 28), Hashtags=[], Text='RT @WorldWideWob: USA’s Men’s Basketball just lost in the Olympics for the first time since 2004 and honestly they were beat by a better te…', TweetID=1419298257914761223, UserID=59276037)\n",
      "\n",
      "Current offset: 1321\n",
      "Last offset: 1358\n",
      "Row(Event_time=datetime.datetime(2021, 7, 25, 14, 7, 28), Hashtags=[], Text='RT @sagarcasm: Me, cheering for India in Olympics, without knowing the rules of many sports https://t.co/VzMHKkbOlO', TweetID=1419298258233413641, UserID=935190437853196288)\n",
      "\n",
      "Current offset: 1322\n",
      "Last offset: 1358\n",
      "Row(Event_time=datetime.datetime(2021, 7, 25, 14, 7, 28), Hashtags=[], Text='RT @vampyoimiya: japan   are   playing   anime   theme   songs   at   the   olympics   this  is   so   funny   omg    https://t.co/IYPZJIwx…', TweetID=1419298258724155395, UserID=3548550741)\n"
     ]
    },
    {
     "name": "stdout",
     "output_type": "stream",
     "text": [
      "\n",
      "Current offset: 1323\n",
      "Last offset: 1358\n",
      "Row(Event_time=datetime.datetime(2021, 7, 25, 14, 7, 28), Hashtags=[], Text=\"Imagine winning a medal at Olympics and they played a song about men drooling over U n breaking up songs. That's so… https://t.co/Jdg29VZPEj\", TweetID=1419298258631987204, UserID=1278069042679595008)\n",
      "\n",
      "Current offset: 1324\n",
      "Last offset: 1358\n",
      "Row(Event_time=datetime.datetime(2021, 7, 25, 14, 7, 29), Hashtags=['olympics'], Text='RT @FanDuel: France just ended the game on a 16-2 run.\\n\\n#Olympics https://t.co/uBnQLwnfkD', TweetID=1419298259797901318, UserID=1674786175)\n",
      "\n",
      "Current offset: 1325\n",
      "Last offset: 1358\n",
      "Row(Event_time=datetime.datetime(2021, 7, 25, 14, 7, 29), Hashtags=[], Text=\"Olympics Damian Lillard can't guard or make shots wtf is he doin out there\", TweetID=1419298260053676035, UserID=1218858572366270467)\n",
      "\n",
      "Current offset: 1326\n",
      "Last offset: 1358\n",
      "Row(Event_time=datetime.datetime(2021, 7, 25, 14, 7, 29), Hashtags=['tokyo2020', 'ハイキュー', 'haikyuu', 'olympics', 'オリンピック'], Text='RT @maddox_rider: Behind The Scenes 🇯🇵✨\\n#Tokyo2020 \\n#ハイキュー #Haikyuu\\n#Olympics #オリンピック https://t.co/tQKJBe4Slz', TweetID=1419298259936456707, UserID=1271844956475457536)\n",
      "\n",
      "Current offset: 1327\n",
      "Last offset: 1358\n",
      "Row(Event_time=datetime.datetime(2021, 7, 25, 14, 7, 29), Hashtags=[], Text='RT @rob_schaef: Final: France 83, USA 76\\n\\nThat snaps a 24-game Olympics winning streak for Team USA. France outscored them 16-2 in final 3:…', TweetID=1419298260204797953, UserID=424050217)\n",
      "\n",
      "Current offset: 1328\n",
      "Last offset: 1358\n",
      "Row(Event_time=datetime.datetime(2021, 7, 25, 14, 7, 29), Hashtags=['ina', 'silver', 'weightlifting', 'olympics'], Text='RT @Olympics: Eko Yuli Irawan of #INA takes #silver in the men’s 61kg #weightlifting event on his fourth #Olympics appearance.\\n\\n#StrongerTo…', TweetID=1419298260682829829, UserID=258756944)\n",
      "\n",
      "Current offset: 1329\n",
      "Last offset: 1358\n",
      "Row(Event_time=datetime.datetime(2021, 7, 25, 14, 7, 29), Hashtags=[], Text='@WHO @DrTedros @Olympics We must stop the politicization of Covid-19 origin tracing', TweetID=1419298260850671619, UserID=1046982996862152705)\n",
      "\n",
      "Current offset: 1330\n",
      "Last offset: 1358\n",
      "Row(Event_time=datetime.datetime(2021, 7, 25, 14, 7, 29), Hashtags=['tokyo2020', 'ハイキュー', 'haikyuu', 'olympics', 'オリンピック'], Text='RT @maddox_rider: Behind The Scenes 🇯🇵✨\\n#Tokyo2020 \\n#ハイキュー #Haikyuu\\n#Olympics #オリンピック https://t.co/tQKJBe4Slz', TweetID=1419298260934664194, UserID=4301853557)\n",
      "\n",
      "Current offset: 1331\n",
      "Last offset: 1358\n",
      "Row(Event_time=datetime.datetime(2021, 7, 25, 14, 7, 29), Hashtags=[], Text='RT @Steph_Rothstein: Some athletes are in the best shape of their lives heading to compete at the Tokyo Olympics. Some of us are running 8…', TweetID=1419298261328879622, UserID=1011731038085767169)\n",
      "\n",
      "Current offset: 1332\n",
      "Last offset: 1358\n",
      "Row(Event_time=datetime.datetime(2021, 7, 25, 14, 7, 29), Hashtags=['tokyo2020', 'ハイキュー', 'haikyuu', 'olympics', 'オリンピック'], Text='RT @maddox_rider: Behind The Scenes 🇯🇵✨\\n#Tokyo2020 \\n#ハイキュー #Haikyuu\\n#Olympics #オリンピック https://t.co/tQKJBe4Slz', TweetID=1419298261660098566, UserID=1336211668146114562)\n",
      "\n",
      "Current offset: 1333\n",
      "Last offset: 1358\n",
      "Row(Event_time=datetime.datetime(2021, 7, 25, 14, 7, 29), Hashtags=[], Text=\"RT @SInow: France hands USA men's basketball its first loss at the Olympics since 2004 😳 https://t.co/xUIsc9eZcB\", TweetID=1419298261609992201, UserID=135646393)\n",
      "\n",
      "Current offset: 1334\n",
      "Last offset: 1358\n",
      "Row(Event_time=datetime.datetime(2021, 7, 25, 14, 7, 29), Hashtags=['ハイキュー'], Text='RT @oKuMadeChan: they OWN the entire Olympics, congratulations for the victory Japan!!! (and yes, Oikawa invaded the picture)\\n\\n#ハイキュー #Haik…', TweetID=1419298261840498690, UserID=1363331709224198147)\n",
      "\n",
      "Current offset: 1335\n",
      "Last offset: 1358\n",
      "Row(Event_time=datetime.datetime(2021, 7, 25, 14, 7, 29), Hashtags=[], Text='RT @manikabatra_TT: Thank u @sachin_rt sir', TweetID=1419298261786001421, UserID=1253000289524649984)\n",
      "\n",
      "Current offset: 1336\n",
      "Last offset: 1358\n",
      "Row(Event_time=datetime.datetime(2021, 7, 25, 14, 7, 29), Hashtags=[], Text='1) he is Gen (R) Arif Hassan\\n2) if he and his POA is not responsible, lets dissolve POA and let PSB handle all the… https://t.co/XXCtB4Wupl', TweetID=1419298262029414411, UserID=378517752)\n",
      "\n",
      "Current offset: 1337\n",
      "Last offset: 1358\n",
      "Row(Event_time=datetime.datetime(2021, 7, 25, 14, 7, 29), Hashtags=[], Text='@Olympics @iwfnet Deserved a gold, Chinese must be on drugs to lift 187kg in clean and jerk', TweetID=1419298262188584966, UserID=1118178046245097472)\n",
      "\n",
      "Current offset: 1338\n",
      "Last offset: 1358\n",
      "Row(Event_time=datetime.datetime(2021, 7, 25, 14, 7, 29), Hashtags=[], Text='Jokic won MVP, Giannis won Finals MVP. We losing in the Olympics... we gotta do something about these foreigners bruh 😭', TweetID=1419298262251606018, UserID=96681138)\n",
      "\n",
      "Current offset: 1339\n",
      "Last offset: 1358\n",
      "Row(Event_time=datetime.datetime(2021, 7, 25, 14, 7, 29), Hashtags=[], Text='RT @SalmanAkbar12: And then people think what happend to Pakistan Hockey and sports. https://t.co/gR0lj9TDQB', TweetID=1419298262109011971, UserID=491176724)\n",
      "\n",
      "Current offset: 1340\n",
      "Last offset: 1358\n",
      "Row(Event_time=datetime.datetime(2021, 7, 25, 14, 7, 29), Hashtags=['teamusa'], Text=\"#TeamUSA men's basketball team have lost at the Olympics for the first time since 2004. 😳\\n\\nThey came up short in th… https://t.co/4qVhdSf9OO\", TweetID=1419298261140115456, UserID=1131799687701422085)\n",
      "\n",
      "Current offset: 1341\n",
      "Last offset: 1358\n",
      "Row(Event_time=datetime.datetime(2021, 7, 25, 14, 7, 29), Hashtags=[], Text='RT @e_vanti: @shen_shiwei @melissakchan Standing ovation to Japan!🇯🇵🇹🇼\\nhttps://t.co/Kfo3oStToG', TweetID=1419298262201274369, UserID=1170069102808973313)\n",
      "\n",
      "Current offset: 1342\n",
      "Last offset: 1358\n",
      "Row(Event_time=datetime.datetime(2021, 7, 25, 14, 7, 29), Hashtags=[], Text='RT @JasonMBrodsky: The Israeli coach of the Czech Republic’s national men’s basketball team shook hands with his Iranian counterpart, Mehra…', TweetID=1419298262255734784, UserID=584760752)\n",
      "\n",
      "Current offset: 1343\n",
      "Last offset: 1358\n",
      "Row(Event_time=datetime.datetime(2021, 7, 25, 14, 7, 29), Hashtags=[], Text='RT @btsbaragi_jk: An article titled ‘“If I win a gold medal in an individual match, [play] Dynamite!”…Taegeuk Warriors (referring to Korean…', TweetID=1419298262935166978, UserID=1385110960982032384)\n",
      "\n",
      "Current offset: 1344\n",
      "Last offset: 1358\n",
      "Row(Event_time=datetime.datetime(2021, 7, 25, 14, 7, 29), Hashtags=[], Text='RT @FTalentScout: Takefusa Kubo at the Olympics so far:\\n\\n✅2 games\\n✅2 goals\\n✅10 shots\\n✅3 key passes\\n✅1 big chance created\\n✅3 successful drib…', TweetID=1419298262813757442, UserID=1020688560360427520)\n",
      "\n",
      "Current offset: 1345\n",
      "Last offset: 1358\n",
      "Row(Event_time=datetime.datetime(2021, 7, 25, 14, 7, 29), Hashtags=[], Text='Oh Yea Pack All This Shit Up. America Washed 😂😂😂😂', TweetID=1419298263010889731, UserID=294995318)\n",
      "\n",
      "Current offset: 1346\n",
      "Last offset: 1358\n",
      "Row(Event_time=datetime.datetime(2021, 7, 25, 14, 7, 29), Hashtags=[], Text='RT @disclosetv: JUST IN - Team USA did not medal for the first time since 1972 on the opening day of the Olympics in Tokyo. https://t.co/2u…', TweetID=1419298263363047424, UserID=1221630411475808256)\n",
      "\n",
      "Current offset: 1347\n",
      "Last offset: 1358\n",
      "Row(Event_time=datetime.datetime(2021, 7, 25, 14, 7, 29), Hashtags=[], Text='RT @NBCNews: An Algerian judo competitor refuses, for the second time, to take on an Israeli athlete to show support for Palestine; withdra…', TweetID=1419298263426084872, UserID=4779274581)\n",
      "\n",
      "Current offset: 1348\n",
      "Last offset: 1358\n",
      "Row(Event_time=datetime.datetime(2021, 7, 25, 14, 7, 30), Hashtags=['teamusa', 'tokyo2020'], Text=\"RT @sportingnews: #TeamUSA men's basketball loses for the first time in the Olympics since 2004 after falling to France, 83-76.\\n\\n#Tokyo2020…\", TweetID=1419298263811960839, UserID=1287946070337748993)\n",
      "\n",
      "Current offset: 1349\n",
      "Last offset: 1358\n",
      "Row(Event_time=datetime.datetime(2021, 7, 25, 14, 7, 30), Hashtags=[], Text='RT @WorldWideWob: USA’s Men’s Basketball just lost in the Olympics for the first time since 2004 and honestly they were beat by a better te…', TweetID=1419298263820296201, UserID=340109843)\n",
      "\n",
      "Current offset: 1350\n",
      "Last offset: 1358\n",
      "Row(Event_time=datetime.datetime(2021, 7, 25, 14, 7, 30), Hashtags=[], Text='RT @mirabai_chanu: Thank you @DrKumarVishwas sir', TweetID=1419298263727935494, UserID=791656632862314496)\n",
      "\n",
      "Current offset: 1351\n",
      "Last offset: 1358\n",
      "Row(Event_time=datetime.datetime(2021, 7, 25, 14, 7, 30), Hashtags=['tokyo2020', 'ハイキュー', 'haikyuu', 'olympics', 'オリンピック'], Text='RT @maddox_rider: Behind The Scenes 🇯🇵✨\\n#Tokyo2020 \\n#ハイキュー #Haikyuu\\n#Olympics #オリンピック https://t.co/tQKJBe4Slz', TweetID=1419298264034074624, UserID=1325607543587053569)\n",
      "\n",
      "Current offset: 1352\n",
      "Last offset: 1358\n",
      "Row(Event_time=datetime.datetime(2021, 7, 25, 14, 7, 30), Hashtags=['taekwondo', 'taiwan'], Text='RT @iingwen: Congratulations to Lo Chia-Ling 羅嘉翎 on winning bronze in #taekwondo! #Taiwan is so happy to see you shine on the world stage!…', TweetID=1419298264432533504, UserID=1291323408)\n",
      "\n",
      "Current offset: 1353\n",
      "Last offset: 1358\n",
      "Row(Event_time=datetime.datetime(2021, 7, 25, 14, 7, 30), Hashtags=[], Text='RT @BronDontStop: We were really watching peak Michael Phelps, kobe Bryant, LeBron James, and usain bolt at the 08 Olympics', TweetID=1419298265586089991, UserID=114549633)\n",
      "\n",
      "Current offset: 1354\n",
      "Last offset: 1358\n",
      "Row(Event_time=datetime.datetime(2021, 7, 25, 14, 7, 30), Hashtags=['olympics'], Text=\"RT @News24: #Olympics | Twitter went into overdrive on Sunday following Tatjana Schoenmaker's epic Olympic record in a 100m breaststroke he…\", TweetID=1419298265602957314, UserID=1240596471977820160)\n",
      "\n",
      "Current offset: 1355\n",
      "Last offset: 1358\n",
      "Row(Event_time=datetime.datetime(2021, 7, 25, 14, 7, 30), Hashtags=[], Text='RT @RonnieMatrix: https://t.co/jUgrvYgbXC Good piece @TheLoveDre , I always wondered why the country always sends alot of officials to the…', TweetID=1419298266160799746, UserID=1108664070914408448)\n",
      "\n",
      "Current offset: 1356\n",
      "Last offset: 1358\n",
      "Row(Event_time=datetime.datetime(2021, 7, 25, 14, 7, 30), Hashtags=[], Text='RT @MattNorlander: The U.S. men’s basketball team loses 83-76 to France in its first game of the Olympics Flaccid stuff, really. Team USA l…', TweetID=1419298266340945923, UserID=188547477)\n",
      "\n",
      "Current offset: 1357\n",
      "Last offset: 1358\n"
     ]
    }
   ],
   "source": [
    "date_format = '%a %b %d %H:%M:%S %Y' # To convert created_at to Datetime object\n",
    "\n",
    "#list of dicts, this will save tweets from consumer\n",
    "for msg in consumer:\n",
    "    # Obtain the last offset value, so that we know when to exit loop\n",
    "    current_position = consumer.position(tp) # Store current offset pos so we can seek to it after\n",
    "    consumer.seek_to_end(tp)\n",
    "    last_offset = consumer.position(tp)\n",
    "    \n",
    "    consumer.seek(tp, current_position) # Seek back to where we were\n",
    "    print(\"\\nCurrent offset:\", msg.offset)\n",
    "    print(\"Last offset:\", last_offset)\n",
    "    \n",
    "    # Comment this out to continue even if consumer catches up to producer\n",
    "    if msg.offset >= last_offset - 1: \n",
    "        break\n",
    "    \n",
    "    # this converts consumer to type dict\n",
    "    row = msg.value\n",
    "    # pull the hashtags\n",
    "    if len(row['entities']['hashtags']) > 0:\n",
    "        #hashtag_text = [row['entities']['hashtags'][0]['text'] # Get text string of first hashtag\n",
    "        hashtag_text = [row['entities']['hashtags'][i]['text'].lower() for i, tag in enumerate(row['entities']['hashtags'])]\n",
    "    else:\n",
    "        #continue # Commented this out since if we continue, the next line wouldn't execute and we wouldn't store the tweet\n",
    "        hashtag_text = []\n",
    "    # create a row and add it to the list, we only need Tweet Id, User Id, Text, hashtags, and event time\n",
    "    row = Row(TweetID=row['id'], \n",
    "              Text=row['text'], \n",
    "              UserID=row['user']['id'], \n",
    "              Hashtags=hashtag_text,\n",
    "              #Event_time=row['created_at']\n",
    "              Event_time=datetime.strptime(row['created_at'].replace('+0000 ', ''), date_format)\n",
    "    )\n",
    "    rows.append(row)\n",
    "    print(row)"
   ]
  },
  {
   "cell_type": "code",
   "execution_count": null,
   "metadata": {},
   "outputs": [],
   "source": []
  },
  {
   "cell_type": "code",
   "execution_count": 30,
   "metadata": {
    "id": "74QEdb5nX7qG"
   },
   "outputs": [
    {
     "name": "stdout",
     "output_type": "stream",
     "text": [
      "[Row(Event_time=datetime.datetime(2021, 7, 25, 14, 7, 26), Hashtags=['tokyo2020', 'ハイキュー', 'haikyuu', 'olympics', 'オリンピック'], Text='RT @maddox_rider: Behind The Scenes 🇯🇵✨\\n#Tokyo2020 \\n#ハイキュー #Haikyuu\\n#Olympics #オリンピック https://t.co/tQKJBe4Slz', TweetID=1419298247001088000, UserID=3268154072), Row(Event_time=datetime.datetime(2021, 7, 25, 14, 7, 26), Hashtags=[], Text='Now!\\nThat was just too damn cute! 🥺', TweetID=1419298247177277443, UserID=95787053), Row(Event_time=datetime.datetime(2021, 7, 25, 14, 7, 26), Hashtags=['olympics'], Text='RT @stauber919: Farah Ann Hadi Rotation 2 on Balance Beam #Olympics https://t.co/q8qB3jeBXQ', TweetID=1419298247315574789, UserID=756198683939446784), Row(Event_time=datetime.datetime(2021, 7, 25, 14, 7, 26), Hashtags=[], Text='RT @WorldWideWob: USA’s Men’s Basketball just lost in the Olympics for the first time since 2004 and honestly they were beat by a better te…', TweetID=1419298247533682694, UserID=1069606461649502209), Row(Event_time=datetime.datetime(2021, 7, 25, 14, 7, 26), Hashtags=[], Text='RT @ZDane7: Not actually from the Olympics (see fans in stands) but this is an absolutely outrageous photo https://t.co/VfuIoC8Z83', TweetID=1419298247420653568, UserID=362506197), Row(Event_time=datetime.datetime(2021, 7, 25, 14, 7, 26), Hashtags=[], Text='RT @Pontifex: In this time of pandemic, the Tokyo Olympics are a sign of hope, a sign of universal brotherhood marked by a healthy competit…', TweetID=1419298247898804227, UserID=14900778), Row(Event_time=datetime.datetime(2021, 7, 25, 14, 7, 26), Hashtags=[], Text=\"RT @bomani_jones: they'd get their doors blown off.\", TweetID=1419298247860965382, UserID=1461266335), Row(Event_time=datetime.datetime(2021, 7, 25, 14, 7, 26), Hashtags=[], Text='RT @dreamfoIder: [210725] 👑💭\\n\\n“watch the olympics well~ because tomorrow’s monday, so fighting/cheer up!! ㅎㅎ” https://t.co/SBzOLM39KY', TweetID=1419298248028610563, UserID=1193476560092708866), Row(Event_time=datetime.datetime(2021, 7, 25, 14, 7, 26), Hashtags=[], Text='RT @WorldWideWob: USA’s Men’s Basketball just lost in the Olympics for the first time since 2004 and honestly they were beat by a better te…', TweetID=1419298248305565703, UserID=2842165126), Row(Event_time=datetime.datetime(2021, 7, 25, 14, 7, 26), Hashtags=[], Text='RT @sawerapasha: Dream ends here but boy what a fight put up by @talha_tlb on his olympics debut.. \\nlifting total of 320 Kgs is a testament…', TweetID=1419298248515325952, UserID=1597750988)]\n",
      "\n",
      "Number of tweets collected: 92\n"
     ]
    }
   ],
   "source": [
    "# sanity check\n",
    "print(rows[:10]) # First 10 rows\n",
    "print('\\nNumber of tweets collected: {}'.format(len(rows)))"
   ]
  },
  {
   "cell_type": "code",
   "execution_count": 31,
   "metadata": {},
   "outputs": [],
   "source": [
    "# convert the list of dicts to a spark dataframe as per the requirements\n",
    "df = spark.createDataFrame(rows)"
   ]
  },
  {
   "cell_type": "code",
   "execution_count": 32,
   "metadata": {},
   "outputs": [
    {
     "name": "stdout",
     "output_type": "stream",
     "text": [
      "+-------------------+-------------------------+--------------------+-------------------+-------------------+\n",
      "|         Event_time|                 Hashtags|                Text|            TweetID|             UserID|\n",
      "+-------------------+-------------------------+--------------------+-------------------+-------------------+\n",
      "|2021-07-25 14:07:26|[tokyo2020, ハイキュー...|RT @maddox_rider:...|1419298247001088000|         3268154072|\n",
      "|2021-07-25 14:07:26|                       []|Now!\n",
      "That was jus...|1419298247177277443|           95787053|\n",
      "|2021-07-25 14:07:26|               [olympics]|RT @stauber919: F...|1419298247315574789| 756198683939446784|\n",
      "|2021-07-25 14:07:26|                       []|RT @WorldWideWob:...|1419298247533682694|1069606461649502209|\n",
      "|2021-07-25 14:07:26|                       []|RT @ZDane7: Not a...|1419298247420653568|          362506197|\n",
      "|2021-07-25 14:07:26|                       []|RT @Pontifex: In ...|1419298247898804227|           14900778|\n",
      "|2021-07-25 14:07:26|                       []|RT @bomani_jones:...|1419298247860965382|         1461266335|\n",
      "|2021-07-25 14:07:26|                       []|RT @dreamfoIder: ...|1419298248028610563|1193476560092708866|\n",
      "|2021-07-25 14:07:26|                       []|RT @WorldWideWob:...|1419298248305565703|         2842165126|\n",
      "|2021-07-25 14:07:26|                       []|RT @sawerapasha: ...|1419298248515325952|         1597750988|\n",
      "|2021-07-25 14:07:26|               [olympics]|RT @mrdanwalker: ...|1419298248846622729|           26311523|\n",
      "|2021-07-25 14:07:26|                       []|RT @BBCSport: Wow...|1419298248838234112|1407481507724279809|\n",
      "|2021-07-25 14:07:26|     [talhatalib, talh...|#TalhaTalib trend...|1419298249052151826|         4480506203|\n",
      "|2021-07-25 14:07:26|                       []|RT @bomani_jones:...|1419298249224110082|          285327954|\n",
      "|2021-07-25 14:07:26|                       []|RT @WorldWideWob:...|1419298249463185416|          500442261|\n",
      "|2021-07-25 14:07:26|     [india, israel, o...|RT @MayaKadosh: F...|1419298249505075205|          415412957|\n",
      "|2021-07-25 14:07:26|                       []|RT @WorldWideWob:...|1419298249790398465|1365343824847986694|\n",
      "|2021-07-25 14:07:26|                       []|RT @Jkylebass: Wh...|1419298249924558854|           14987991|\n",
      "|2021-07-25 14:07:26|                       []|RT @nctdaoying: M...|1419298250691993601|1250163577454903296|\n",
      "|2021-07-25 14:07:27|                       []|my toxic trait is...|1419298251124224007|          176922150|\n",
      "+-------------------+-------------------------+--------------------+-------------------+-------------------+\n",
      "only showing top 20 rows\n",
      "\n"
     ]
    }
   ],
   "source": [
    "df.show()"
   ]
  },
  {
   "cell_type": "markdown",
   "metadata": {},
   "source": [
    "## Number of tweets in last 30 second window"
   ]
  },
  {
   "cell_type": "code",
   "execution_count": 35,
   "metadata": {},
   "outputs": [],
   "source": [
    "df.createOrReplaceTempView(\"tweet_df\")"
   ]
  },
  {
   "cell_type": "code",
   "execution_count": 57,
   "metadata": {},
   "outputs": [
    {
     "name": "stdout",
     "output_type": "stream",
     "text": [
      "+------------------+\n",
      "|num_tweets_last_30|\n",
      "+------------------+\n",
      "|                 0|\n",
      "+------------------+\n",
      "\n"
     ]
    }
   ],
   "source": [
    "# Probably won't capture anything unless run right away, since it uses current time instead of most recent tweet\n",
    "# Maybe better to use below method\n",
    "spark.sql(\"\"\"\n",
    "    SELECT count(*) as num_tweets_last_30\n",
    "    FROM tweet_df\n",
    "    WHERE Event_time between (current_timestamp() - INTERVAL 30 SECOND ) \n",
    "                                AND current_timestamp()\n",
    "\"\"\").show()"
   ]
  },
  {
   "cell_type": "code",
   "execution_count": 60,
   "metadata": {},
   "outputs": [],
   "source": [
    "# Get the most recent tweet event_time captured, store as datetime\n",
    "# We can use this for all other queries to compare against most recent tweet (instead of current time, since it might be delayed)\n",
    "most_recent_tweet = spark.sql(\"\"\"\n",
    "    SELECT Event_time\n",
    "    FROM tweet_df\n",
    "    ORDER BY Event_time \n",
    "    DESC LIMIT 1\"\"\").collect()[0].Event_time"
   ]
  },
  {
   "cell_type": "code",
   "execution_count": 61,
   "metadata": {},
   "outputs": [
    {
     "name": "stdout",
     "output_type": "stream",
     "text": [
      "Datetime of most recently captured tweet is: 2021-07-25 14:07:30\n"
     ]
    }
   ],
   "source": [
    "print('Datetime of most recently captured tweet is: {}'.format(most_recent_tweet)) "
   ]
  },
  {
   "cell_type": "code",
   "execution_count": 62,
   "metadata": {},
   "outputs": [
    {
     "name": "stdout",
     "output_type": "stream",
     "text": [
      "\n",
      "    SELECT COUNT(*) as Num_Active_Users_Last_30_From_Newest_Tweet\n",
      "    FROM tweet_df\n",
      "    WHERE Event_time between ('2021-07-25 14:07:30' - INTERVAL 30 SECOND ) \n",
      "                                AND '2021-07-25 14:07:30'\n",
      "+------------------------------------------+\n",
      "|Num_Active_Users_Last_30_From_Newest_Tweet|\n",
      "+------------------------------------------+\n",
      "|                                        92|\n",
      "+------------------------------------------+\n",
      "\n"
     ]
    }
   ],
   "source": [
    "\n",
    "query = \"\"\"\n",
    "    SELECT COUNT(*) as Num_Active_Users_Last_30_From_Newest_Tweet\n",
    "    FROM tweet_df\n",
    "    WHERE Event_time between ('{}' - INTERVAL 30 SECOND ) \n",
    "                                AND '{}'\"\"\".format(most_recent_tweet, most_recent_tweet)\n",
    "print(query)\n",
    "spark.sql(query).show()"
   ]
  },
  {
   "cell_type": "markdown",
   "metadata": {},
   "source": [
    "## Num active users last 30 seconds"
   ]
  },
  {
   "cell_type": "code",
   "execution_count": 63,
   "metadata": {},
   "outputs": [
    {
     "name": "stdout",
     "output_type": "stream",
     "text": [
      "+-------------------------------------+\n",
      "|Num_Active_Users_Last_30_From_Current|\n",
      "+-------------------------------------+\n",
      "|                                    0|\n",
      "+-------------------------------------+\n",
      "\n"
     ]
    }
   ],
   "source": [
    "# Actual last 30 seconds from current time\n",
    "query = \"\"\"\n",
    "    SELECT count(distinct(UserID)) as Num_Active_Users_Last_30_From_Current\n",
    "    FROM tweet_df\n",
    "    WHERE Event_time between (current_timestamp() - INTERVAL 30 SECOND ) \n",
    "                                AND current_timestamp()\"\"\".format(most_recent_tweet)\n",
    "spark.sql(query).show()\n"
   ]
  },
  {
   "cell_type": "code",
   "execution_count": 103,
   "metadata": {},
   "outputs": [
    {
     "name": "stdout",
     "output_type": "stream",
     "text": [
      "\n",
      "    SELECT count(distinct(UserID)) as Num_Active_Users_Last_30_From_Newest_Tweet\n",
      "    FROM tweet_df\n",
      "    WHERE Event_time between ('2021-07-25 14:07:30' - INTERVAL 30 SECOND ) \n",
      "                                AND '2021-07-25 14:07:30'\n",
      "+------------------------------------------+\n",
      "|Num_Active_Users_Last_30_From_Newest_Tweet|\n",
      "+------------------------------------------+\n",
      "|                                        92|\n",
      "+------------------------------------------+\n",
      "\n"
     ]
    }
   ],
   "source": [
    "# 30 seconds prior to most recently received tweet\n",
    "query = \"\"\"\n",
    "    SELECT count(distinct(UserID)) as Num_Active_Users_Last_30_From_Newest_Tweet\n",
    "    FROM tweet_df\n",
    "    WHERE Event_time between ('{}' - INTERVAL 30 SECOND ) \n",
    "                                AND '{}'\"\"\".format(most_recent_tweet, most_recent_tweet)\n",
    "print(query)\n",
    "spark.sql(query).show()"
   ]
  },
  {
   "cell_type": "markdown",
   "metadata": {},
   "source": [
    "## Most used hashtag in last 30 seconds"
   ]
  },
  {
   "cell_type": "code",
   "execution_count": 132,
   "metadata": {},
   "outputs": [
    {
     "name": "stdout",
     "output_type": "stream",
     "text": [
      "Most frequently occuring hashtag in last 30 seconds: olympics\n",
      "Num occurrences: 19\n"
     ]
    }
   ],
   "source": [
    "# key=lambda a: a[1] Means use the second value in the (word, num_occurrences) tuple as comparison key for max\n",
    "query = \"\"\"\n",
    "    SELECT Hashtags\n",
    "    FROM tweet_df\n",
    "    WHERE Event_time between ('{}' - INTERVAL 30 SECOND ) \n",
    "                                AND '{}'\"\"\".format(most_recent_tweet, most_recent_tweet)\n",
    "df_last_30 = spark.sql(query)\n",
    "frequent_hashtag_tup_last_30 = max(df_last_30.select(['Hashtags']).rdd.flatMap(lambda a: a.Hashtags).countByValue().items(), key=lambda a: a[1])\n",
    "print('Most frequently occuring hashtag in last 30 seconds: {}'.format(frequent_hashtag_tup_last_30[0]))\n",
    "print('Num occurrences: {}'.format(frequent_hashtag_tup_last_30[1]))"
   ]
  },
  {
   "cell_type": "markdown",
   "metadata": {},
   "source": [
    "## Most used hashtag in complete time of analysis"
   ]
  },
  {
   "cell_type": "code",
   "execution_count": 130,
   "metadata": {},
   "outputs": [
    {
     "name": "stdout",
     "output_type": "stream",
     "text": [
      "Most frequently occuring hashtag in complete time of analysis: olympics\n",
      "Num occurrences: 19\n"
     ]
    }
   ],
   "source": [
    "# key=lambda a: a[1] Means use the second value in the (word, num_occurrences) tuple as comparison key for max\n",
    "frequent_hashtag_tup_complete = max(df.select(['Hashtags']).rdd.flatMap(lambda a: a.Hashtags).countByValue().items(), key=lambda a: a[1])\n",
    "print('Most frequently occuring hashtag in complete time of analysis: {}'.format(frequent_hashtag_tup_complete[0]))\n",
    "print('Num occurrences: {}'.format(frequent_hashtag_tup_complete[1]))"
   ]
  },
  {
   "cell_type": "markdown",
   "metadata": {},
   "source": [
    "## Moving average of a given Hashtag every 1 minute"
   ]
  },
  {
   "cell_type": "code",
   "execution_count": 127,
   "metadata": {},
   "outputs": [],
   "source": [
    "from pyspark.sql.window import Window\n",
    "from pyspark.sql import functions as func\n",
    "from pyspark.sql.functions import explode\n",
    "# I basically followed this tutorial: \n",
    "# https://www.linkedin.com/pulse/time-series-moving-average-apache-pyspark-laurent-weichberger/\n"
   ]
  },
  {
   "cell_type": "code",
   "execution_count": 186,
   "metadata": {},
   "outputs": [],
   "source": [
    "# Create a \"seven day\" Window from seven days previous to the current day (row), using previous casting of timestamp to long (number of seconds).\n",
    "\n",
    "# remember a start value of \"-1\" means one off before the current row, and we are taking the timestamp as a long and comparing it to the rangeBetween amount of time.\n",
    "\n",
    "# Remember an end value of 0 is the current row.\n",
    "# We use 6 days because rangeBetween is inclusive of start & end values.\n",
    "# Thank you Dr. Kevin Maguire for the bug fix!\n",
    "#windowSpec = Window.orderBy(func.col(\"Event_time\").cast('long')).rangeBetween(2, 0) # Using 3 seconds for now. Set to 59 for 1 minute\n",
    "windowSpec = Window.orderBy(func.col(\"Event_time\").cast('long')).rangeBetween(2, 0) # Using 3 seconds for now. Set to 59 for 1 minute"
   ]
  },
  {
   "cell_type": "code",
   "execution_count": 125,
   "metadata": {},
   "outputs": [
    {
     "name": "stdout",
     "output_type": "stream",
     "text": [
      "+-------------------+---------------+--------------------+-------------------+-------------------+\n",
      "|         Event_time|       Hashtags|                Text|            TweetID|             UserID|\n",
      "+-------------------+---------------+--------------------+-------------------+-------------------+\n",
      "|2021-07-25 14:07:26|      tokyo2020|RT @maddox_rider:...|1419298247001088000|         3268154072|\n",
      "|2021-07-25 14:07:26|     ハイキュー|RT @maddox_rider:...|1419298247001088000|         3268154072|\n",
      "|2021-07-25 14:07:26|        haikyuu|RT @maddox_rider:...|1419298247001088000|         3268154072|\n",
      "|2021-07-25 14:07:26|       olympics|RT @maddox_rider:...|1419298247001088000|         3268154072|\n",
      "|2021-07-25 14:07:26|   オリンピック|RT @maddox_rider:...|1419298247001088000|         3268154072|\n",
      "|2021-07-25 14:07:26|       olympics|RT @stauber919: F...|1419298247315574789| 756198683939446784|\n",
      "|2021-07-25 14:07:26|       olympics|RT @mrdanwalker: ...|1419298248846622729|           26311523|\n",
      "|2021-07-25 14:07:26|     talhatalib|#TalhaTalib trend...|1419298249052151826|         4480506203|\n",
      "|2021-07-25 14:07:26|     talhatalib|#TalhaTalib trend...|1419298249052151826|         4480506203|\n",
      "|2021-07-25 14:07:26|       olympics|#TalhaTalib trend...|1419298249052151826|         4480506203|\n",
      "|2021-07-25 14:07:26|   olympicgames|#TalhaTalib trend...|1419298249052151826|         4480506203|\n",
      "|2021-07-25 14:07:26|            pak|#TalhaTalib trend...|1419298249052151826|         4480506203|\n",
      "|2021-07-25 14:07:26|      tokyo2020|#TalhaTalib trend...|1419298249052151826|         4480506203|\n",
      "|2021-07-25 14:07:26|          india|RT @MayaKadosh: F...|1419298249505075205|          415412957|\n",
      "|2021-07-25 14:07:26|         israel|RT @MayaKadosh: F...|1419298249505075205|          415412957|\n",
      "|2021-07-25 14:07:26|       olympics|RT @MayaKadosh: F...|1419298249505075205|          415412957|\n",
      "|2021-07-25 14:07:26|      tokyo2020|RT @YXiusheng: 🥇...|1419298250998353922|1019145299380580353|\n",
      "|2021-07-25 14:07:26|       olympics|RT @YXiusheng: 🥇...|1419298250998353922|1019145299380580353|\n",
      "|2021-07-25 14:07:27|       olympics|RT @Tokyo2020: Li...|1419298251497295875| 740495869686906881|\n",
      "|2021-07-25 14:07:27|unitedbyemotion|RT @Tokyo2020: Li...|1419298251497295875| 740495869686906881|\n",
      "+-------------------+---------------+--------------------+-------------------+-------------------+\n",
      "only showing top 20 rows\n",
      "\n"
     ]
    }
   ],
   "source": [
    "# Explode the dataframe so that each element in each Hashtag array has its own row, \n",
    "# and so that the Hashtags column now only contains one hashtag string\n",
    "df_exploded = df.withColumn('Hashtags', explode('Hashtags'))\n",
    "df_exploded.show()"
   ]
  },
  {
   "cell_type": "code",
   "execution_count": null,
   "metadata": {},
   "outputs": [],
   "source": [
    "# Now create a new column which has the count of "
   ]
  },
  {
   "cell_type": "code",
   "execution_count": 175,
   "metadata": {},
   "outputs": [],
   "source": []
  },
  {
   "cell_type": "code",
   "execution_count": 163,
   "metadata": {},
   "outputs": [],
   "source": [
    "# Filter DF such that it only contains rows with our hashtag of interest\n",
    "df2 = df_exploded.filter(df_exploded.Hashtags == frequent_hashtag_tup_complete[0])"
   ]
  },
  {
   "cell_type": "code",
   "execution_count": 162,
   "metadata": {},
   "outputs": [
    {
     "name": "stdout",
     "output_type": "stream",
     "text": [
      "+-------------------+--------+--------------------+-------------------+-------------------+\n",
      "|         Event_time|Hashtags|                Text|            TweetID|             UserID|\n",
      "+-------------------+--------+--------------------+-------------------+-------------------+\n",
      "|2021-07-25 14:07:26|olympics|RT @maddox_rider:...|1419298247001088000|         3268154072|\n",
      "|2021-07-25 14:07:26|olympics|RT @stauber919: F...|1419298247315574789| 756198683939446784|\n",
      "|2021-07-25 14:07:26|olympics|RT @mrdanwalker: ...|1419298248846622729|           26311523|\n",
      "|2021-07-25 14:07:26|olympics|#TalhaTalib trend...|1419298249052151826|         4480506203|\n",
      "|2021-07-25 14:07:26|olympics|RT @MayaKadosh: F...|1419298249505075205|          415412957|\n",
      "|2021-07-25 14:07:26|olympics|RT @YXiusheng: 🥇...|1419298250998353922|1019145299380580353|\n",
      "|2021-07-25 14:07:27|olympics|RT @Tokyo2020: Li...|1419298251497295875| 740495869686906881|\n",
      "|2021-07-25 14:07:27|olympics|RT @maddox_rider:...|1419298252818731016|1357367388585529344|\n",
      "|2021-07-25 14:07:27|olympics|RT @ThaiEnquirer:...|1419298253368033282|1344531559043354627|\n",
      "|2021-07-25 14:07:27|olympics|RT @maddox_rider:...|1419298254571728903|          993140653|\n",
      "|2021-07-25 14:07:27|olympics|RT @dharamifs_HP:...|1419298255200870402|1259449382199611392|\n",
      "|2021-07-25 14:07:28|olympics|RT @maddox_rider:...|1419298255901368322|1277848734446112768|\n",
      "|2021-07-25 14:07:29|olympics|RT @FanDuel: Fran...|1419298259797901318|         1674786175|\n",
      "|2021-07-25 14:07:29|olympics|RT @maddox_rider:...|1419298259936456707|1271844956475457536|\n",
      "|2021-07-25 14:07:29|olympics|RT @Olympics: Eko...|1419298260682829829|          258756944|\n",
      "|2021-07-25 14:07:29|olympics|RT @maddox_rider:...|1419298260934664194|         4301853557|\n",
      "|2021-07-25 14:07:29|olympics|RT @maddox_rider:...|1419298261660098566|1336211668146114562|\n",
      "|2021-07-25 14:07:30|olympics|RT @maddox_rider:...|1419298264034074624|1325607543587053569|\n",
      "|2021-07-25 14:07:30|olympics|RT @News24: #Olym...|1419298265602957314|1240596471977820160|\n",
      "+-------------------+--------+--------------------+-------------------+-------------------+\n",
      "\n"
     ]
    }
   ],
   "source": [
    "df2.show()"
   ]
  },
  {
   "cell_type": "code",
   "execution_count": 218,
   "metadata": {},
   "outputs": [
    {
     "name": "stdout",
     "output_type": "stream",
     "text": [
      "+-------------------+--------+--------------------+-------------------+-------------------+-----+\n",
      "|         Event_time|Hashtags|                Text|            TweetID|             UserID|count|\n",
      "+-------------------+--------+--------------------+-------------------+-------------------+-----+\n",
      "|2021-07-25 14:07:26|olympics|RT @maddox_rider:...|1419298247001088000|         3268154072|  1.0|\n",
      "|2021-07-25 14:07:26|olympics|RT @stauber919: F...|1419298247315574789| 756198683939446784|  1.0|\n",
      "|2021-07-25 14:07:26|olympics|RT @mrdanwalker: ...|1419298248846622729|           26311523|  1.0|\n",
      "|2021-07-25 14:07:26|olympics|#TalhaTalib trend...|1419298249052151826|         4480506203|  1.0|\n",
      "|2021-07-25 14:07:26|olympics|RT @MayaKadosh: F...|1419298249505075205|          415412957|  1.0|\n",
      "|2021-07-25 14:07:26|olympics|RT @YXiusheng: 🥇...|1419298250998353922|1019145299380580353|  1.0|\n",
      "|2021-07-25 14:07:27|olympics|RT @Tokyo2020: Li...|1419298251497295875| 740495869686906881|  1.0|\n",
      "|2021-07-25 14:07:27|olympics|RT @maddox_rider:...|1419298252818731016|1357367388585529344|  1.0|\n",
      "|2021-07-25 14:07:27|olympics|RT @ThaiEnquirer:...|1419298253368033282|1344531559043354627|  1.0|\n",
      "|2021-07-25 14:07:27|olympics|RT @maddox_rider:...|1419298254571728903|          993140653|  1.0|\n",
      "|2021-07-25 14:07:27|olympics|RT @dharamifs_HP:...|1419298255200870402|1259449382199611392|  1.0|\n",
      "|2021-07-25 14:07:28|olympics|RT @maddox_rider:...|1419298255901368322|1277848734446112768|  1.0|\n",
      "|2021-07-25 14:07:29|olympics|RT @FanDuel: Fran...|1419298259797901318|         1674786175|  1.0|\n",
      "|2021-07-25 14:07:29|olympics|RT @maddox_rider:...|1419298259936456707|1271844956475457536|  1.0|\n",
      "|2021-07-25 14:07:29|olympics|RT @Olympics: Eko...|1419298260682829829|          258756944|  1.0|\n",
      "|2021-07-25 14:07:29|olympics|RT @maddox_rider:...|1419298260934664194|         4301853557|  1.0|\n",
      "|2021-07-25 14:07:29|olympics|RT @maddox_rider:...|1419298261660098566|1336211668146114562|  1.0|\n",
      "|2021-07-25 14:07:30|olympics|RT @maddox_rider:...|1419298264034074624|1325607543587053569|  1.0|\n",
      "|2021-07-25 14:07:30|olympics|RT @News24: #Olym...|1419298265602957314|1240596471977820160|  1.0|\n",
      "+-------------------+--------+--------------------+-------------------+-------------------+-----+\n",
      "\n"
     ]
    }
   ],
   "source": [
    "from pyspark.sql.functions import lit\n",
    "df2 = df2.withColumn('count', lit(1.0)) # Simply add a new column and set each val to 1 (used for moving avg later)\n",
    "df2.show()"
   ]
  },
  {
   "cell_type": "code",
   "execution_count": 227,
   "metadata": {},
   "outputs": [
    {
     "name": "stdout",
     "output_type": "stream",
     "text": [
      "+-------------------+-----+\n",
      "|         Event_time|count|\n",
      "+-------------------+-----+\n",
      "|2021-07-25 14:07:26|    6|\n",
      "|2021-07-25 14:07:27|    5|\n",
      "|2021-07-25 14:07:28|    1|\n",
      "|2021-07-25 14:07:29|    5|\n",
      "|2021-07-25 14:07:30|    2|\n",
      "+-------------------+-----+\n",
      "\n"
     ]
    }
   ],
   "source": [
    "# Edit: Not sure if we need this\n",
    "# We do a wordcount on Event_time, because at this point each Event_time row is one occurance for the most frequent hashtag\n",
    "from pyspark.sql.types import DoubleType\n",
    "import pyspark.sql.functions as f\n",
    "df3 = df2 \\\n",
    "        .groupBy('Event_time') \\\n",
    "        .count() \\\n",
    "        .sort('Event_time', ascending=True)\n",
    "df3.show()"
   ]
  },
  {
   "cell_type": "code",
   "execution_count": 222,
   "metadata": {},
   "outputs": [
    {
     "name": "stderr",
     "output_type": "stream",
     "text": [
      "21/07/25 13:30:20 WARN WindowExec: No Partition Defined for Window operation! Moving all data to a single partition, this can cause serious performance degradation.\n"
     ]
    },
    {
     "name": "stdout",
     "output_type": "stream",
     "text": [
      "+-------------------+-----+--------------+\n",
      "|         Event_time|count|Moving_Average|\n",
      "+-------------------+-----+--------------+\n",
      "|2021-07-25 14:07:26|  6.0|           6.0|\n",
      "|2021-07-25 14:07:27|  5.0|           5.5|\n",
      "|2021-07-25 14:07:28|  1.0|           4.0|\n",
      "|2021-07-25 14:07:29|  5.0|          4.25|\n",
      "|2021-07-25 14:07:30|  2.0|           3.8|\n",
      "+-------------------+-----+--------------+\n",
      "\n"
     ]
    }
   ],
   "source": [
    "# SparkSQL method - not sure if this is correct\n",
    "df3.createOrReplaceTempView(\"df3\")\n",
    "spark.sql(\n",
    "    \"\"\"SELECT *, mean(count) OVER (\n",
    "        ORDER BY CAST(Event_time AS timestamp) \n",
    "        RANGE BETWEEN INTERVAL 60 SECONDS PRECEDING AND CURRENT ROW\n",
    "     ) AS Moving_Average FROM df3\"\"\").show()"
   ]
  },
  {
   "cell_type": "code",
   "execution_count": 224,
   "metadata": {
    "collapsed": true
   },
   "outputs": [
    {
     "name": "stdout",
     "output_type": "stream",
     "text": [
      "Showing moving average for hashtag: olympics\n"
     ]
    },
    {
     "name": "stderr",
     "output_type": "stream",
     "text": [
      "21/07/25 13:31:00 WARN WindowExec: No Partition Defined for Window operation! Moving all data to a single partition, this can cause serious performance degradation.\n"
     ]
    },
    {
     "name": "stdout",
     "output_type": "stream",
     "text": [
      "+-------------------+-----+--------------+\n",
      "|         Event_time|count|Moving Average|\n",
      "+-------------------+-----+--------------+\n",
      "|2021-07-25 14:07:26|  6.0|          null|\n",
      "|2021-07-25 14:07:27|  5.0|          null|\n",
      "|2021-07-25 14:07:28|  1.0|          null|\n",
      "|2021-07-25 14:07:29|  5.0|          null|\n",
      "|2021-07-25 14:07:30|  2.0|          null|\n",
      "+-------------------+-----+--------------+\n",
      "\n"
     ]
    }
   ],
   "source": [
    "# Tried other method but not sure why this returns null. Not needed since above works\n",
    "\n",
    "df4 = df3.withColumn('Moving Average', func.avg(\"count\").over(windowSpec)) \n",
    "print('Showing moving average for hashtag: {}'.format(frequent_hashtag_tup_complete[0]))\n",
    "df4.show()"
   ]
  },
  {
   "cell_type": "code",
   "execution_count": null,
   "metadata": {},
   "outputs": [],
   "source": []
  }
 ],
 "metadata": {
  "colab": {
   "collapsed_sections": [],
   "name": "spark_final.ipynb",
   "provenance": []
  },
  "kernelspec": {
   "display_name": "python3.7.1",
   "language": "python",
   "name": "python3.7.1"
  },
  "language_info": {
   "codemirror_mode": {
    "name": "ipython",
    "version": 3
   },
   "file_extension": ".py",
   "mimetype": "text/x-python",
   "name": "python",
   "nbconvert_exporter": "python",
   "pygments_lexer": "ipython3",
   "version": "3.7.1"
  }
 },
 "nbformat": 4,
 "nbformat_minor": 4
}
